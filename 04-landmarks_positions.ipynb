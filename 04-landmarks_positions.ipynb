{
 "cells": [
  {
   "cell_type": "code",
   "execution_count": 1,
   "id": "a0d9319f-8e87-46cc-89d6-61557a00f59d",
   "metadata": {},
   "outputs": [],
   "source": [
    "from pickle import load\n",
    "import numpy as np"
   ]
  },
  {
   "cell_type": "code",
   "execution_count": 2,
   "id": "f17aa997-5dc1-40db-9c75-7242d5a727ac",
   "metadata": {},
   "outputs": [],
   "source": [
    "with open(\"../Datos/Procesados/alphabet_landmarks_spread.pkl\", \"rb\") as f:\n",
    "    total_results = load(f)"
   ]
  },
  {
   "cell_type": "code",
   "execution_count": 3,
   "id": "ac7adaba-c893-44b0-8c4c-7baad600643f",
   "metadata": {},
   "outputs": [
    {
     "data": {
      "text/plain": [
       "dict"
      ]
     },
     "execution_count": 3,
     "metadata": {},
     "output_type": "execute_result"
    }
   ],
   "source": [
    "type(total_results)"
   ]
  },
  {
   "cell_type": "code",
   "execution_count": 4,
   "id": "bfa7ec91-df56-4ddf-ba53-020030256a3d",
   "metadata": {},
   "outputs": [
    {
     "data": {
      "text/plain": [
       "dict_keys(['A', 'B', 'C', 'CH', 'D', 'E', 'F', 'G', 'H', 'I', 'J', 'K', 'L', 'LL', 'M', 'N', 'N_', 'O', 'P', 'Q', 'R', 'RR', 'S', 'T', 'U', 'V', 'W', 'X', 'Y', 'Z'])"
      ]
     },
     "execution_count": 4,
     "metadata": {},
     "output_type": "execute_result"
    }
   ],
   "source": [
    "total_results.keys()"
   ]
  },
  {
   "cell_type": "code",
   "execution_count": 5,
   "id": "e73accab-5002-4cb3-8a7c-9cefdb4e3884",
   "metadata": {},
   "outputs": [
    {
     "data": {
      "text/plain": [
       "dict"
      ]
     },
     "execution_count": 5,
     "metadata": {},
     "output_type": "execute_result"
    }
   ],
   "source": [
    "type(total_results[\"A\"])"
   ]
  },
  {
   "cell_type": "code",
   "execution_count": 6,
   "id": "db0df7fd-a087-417b-ac74-9884b4a4512a",
   "metadata": {},
   "outputs": [
    {
     "data": {
      "text/plain": [
       "dict_keys(['n_frames', 'fps', 'frame_width', 'frame_height', 'landmarks'])"
      ]
     },
     "execution_count": 6,
     "metadata": {},
     "output_type": "execute_result"
    }
   ],
   "source": [
    "total_results[\"A\"].keys()"
   ]
  },
  {
   "cell_type": "code",
   "execution_count": 7,
   "id": "f9a8d974-df78-4ebf-9f61-24d58ebf6834",
   "metadata": {},
   "outputs": [
    {
     "data": {
      "text/plain": [
       "dict"
      ]
     },
     "execution_count": 7,
     "metadata": {},
     "output_type": "execute_result"
    }
   ],
   "source": [
    "type(total_results[\"A\"][\"landmarks\"])"
   ]
  },
  {
   "cell_type": "code",
   "execution_count": 8,
   "id": "1f1d76bf-98eb-4c75-8fad-be194b9a2dee",
   "metadata": {},
   "outputs": [
    {
     "data": {
      "text/plain": [
       "dict_keys(['face', 'pose', 'left_hand', 'right_hand'])"
      ]
     },
     "execution_count": 8,
     "metadata": {},
     "output_type": "execute_result"
    }
   ],
   "source": [
    "total_results[\"A\"][\"landmarks\"].keys()"
   ]
  },
  {
   "cell_type": "code",
   "execution_count": 9,
   "id": "16e1a29b-69dd-4ca0-b7eb-7d180fb66f66",
   "metadata": {},
   "outputs": [
    {
     "data": {
      "text/plain": [
       "numpy.ndarray"
      ]
     },
     "execution_count": 9,
     "metadata": {},
     "output_type": "execute_result"
    }
   ],
   "source": [
    "type(total_results[\"A\"][\"landmarks\"][\"face\"])"
   ]
  },
  {
   "cell_type": "code",
   "execution_count": 10,
   "id": "adf4db2d-8997-4e96-86b8-d93d41dce583",
   "metadata": {},
   "outputs": [
    {
     "data": {
      "text/plain": [
       "dtype('float64')"
      ]
     },
     "execution_count": 10,
     "metadata": {},
     "output_type": "execute_result"
    }
   ],
   "source": [
    "total_results[\"A\"][\"landmarks\"][\"face\"].dtype"
   ]
  },
  {
   "cell_type": "code",
   "execution_count": 11,
   "id": "36add400-f453-447e-ae2b-a3c56f2ad785",
   "metadata": {},
   "outputs": [
    {
     "data": {
      "text/plain": [
       "(87, 478, 3)"
      ]
     },
     "execution_count": 11,
     "metadata": {},
     "output_type": "execute_result"
    }
   ],
   "source": [
    "total_results[\"A\"][\"landmarks\"][\"face\"].shape"
   ]
  },
  {
   "cell_type": "code",
   "execution_count": 12,
   "id": "860d3e8a-133d-42bc-8093-9b0060910582",
   "metadata": {},
   "outputs": [],
   "source": [
    "pi = np.float64(np.pi)"
   ]
  },
  {
   "cell_type": "code",
   "execution_count": 13,
   "id": "3adfd5f3-66e9-4d4a-a186-74b348e29408",
   "metadata": {},
   "outputs": [],
   "source": [
    "def azimuth(x, y, z):\n",
    "    \"\"\"\n",
    "    Given a unit 3D real vector, returns the azimuth of the vector.\n",
    "    \"\"\"\n",
    "    if np.isclose(x, 0):\n",
    "        if np.isclose(y, 0):\n",
    "            return np.float64(0)\n",
    "        else:\n",
    "            return np.sign(y) * pi / 2.\n",
    "    else:\n",
    "        aux = np.arctan(y/x)\n",
    "        if x>0:\n",
    "            return aux\n",
    "        elif y>0:\n",
    "            return aux + pi\n",
    "        else:\n",
    "            return aux - pi\n",
    "\n",
    "def colatitude(x, y, z):\n",
    "    \"\"\"\n",
    "    Given a unit 3D real vector, returns the colatitude of the vector.\n",
    "    \"\"\"\n",
    "    return np.arccos(np.clip(z, -1, 1))"
   ]
  },
  {
   "cell_type": "code",
   "execution_count": 14,
   "id": "da4f05e3-c76e-4883-bb80-3812ecb86cde",
   "metadata": {},
   "outputs": [],
   "source": [
    "def max_left_shoulder_rotation(left_shoulder_direction):\n",
    "    \"\"\"\n",
    "    Given the left shoulder direction in the left shoulder basis, returns\n",
    "    the normal vector of the left arm plane when it is maximally rotated.\n",
    "\n",
    "    Input: array of shape (3,).\n",
    "\n",
    "    Output: array of shape (3,).\n",
    "    \"\"\"\n",
    "    x, y, z = left_shoulder_direction\n",
    "\n",
    "    if np.isclose(y, 0):\n",
    "        aux_vector = np.array([0, -1, 0], dtype=np.float64)\n",
    "    elif np.isclose(y, 1):\n",
    "        aux_vector = np.array([0, 0, -1], dtype=np.float64)\n",
    "    elif np.isclose(y, -1):\n",
    "        aux_vector = np.array([0, 0, 1], dtype=np.float64)\n",
    "    else:\n",
    "        aux_vector = np.sign(y) * np.array([x, y - 1./y, z], dtype=np.float64)\n",
    "        aux_vector /= np.linalg.norm(aux_vector)\n",
    "\n",
    "\n",
    "    if np.isclose(y, 1):\n",
    "        angle = pi / 4.\n",
    "    elif np.isclose(y, -1):\n",
    "        angle = 0.\n",
    "    else:\n",
    "        tita = colatitude(x, z, y)\n",
    "        fi = azimuth(x, z, y)\n",
    "        if z<=0:\n",
    "            if y>=0:\n",
    "                angle = (fi + pi / 4.) * (2. * tita / pi - 1.)\n",
    "            else:\n",
    "                angle = (fi + pi / 2.) * (2. * tita / pi - 1.)\n",
    "        else:\n",
    "            if y>=0:\n",
    "                angle = tita / 2. - fi - pi / 4.\n",
    "            else:\n",
    "                angle = - fi + (2. * fi + pi / 2.) * (2. * tita / pi - 1.)\n",
    "\n",
    "\n",
    "    aux_normal = np.cross(aux_vector, left_shoulder_direction)\n",
    "    left_elbow_direction_max_rotation = np.cos(angle) * aux_vector + np.sin(angle) * aux_normal\n",
    "    \n",
    "    return np.cross(left_shoulder_direction, left_elbow_direction_max_rotation)\n",
    "\n",
    "def max_right_shoulder_rotation(right_shoulder_direction):\n",
    "    \"\"\"\n",
    "    Given the right shoulder direction in the right shoulder basis, returns\n",
    "    the normal vector of the right arm plane when it is maximally rotated.\n",
    "\n",
    "    Input: array of shape (3,).\n",
    "\n",
    "    Output: array of shape (3,).\n",
    "    \"\"\"\n",
    "    x, y, z = right_shoulder_direction\n",
    "\n",
    "    if np.isclose(y, 0):\n",
    "        aux_vector = np.array([0, -1, 0], dtype=np.float64)\n",
    "    elif np.isclose(y, 1):\n",
    "        aux_vector = np.array([0, 0, 1], dtype=np.float64)\n",
    "    elif np.isclose(y, -1):\n",
    "        aux_vector = np.array([0, 0, -1], dtype=np.float64)\n",
    "    else:\n",
    "        aux_vector = np.sign(y) * np.array([x, y - 1./y, z], dtype=np.float64)\n",
    "        aux_vector /= np.linalg.norm(aux_vector)\n",
    "\n",
    "\n",
    "    if np.isclose(y, 1):\n",
    "        angle = pi / 4.\n",
    "    elif np.isclose(y, -1):\n",
    "        angle = 0.\n",
    "    else:\n",
    "        tita = colatitude(x, z, y)\n",
    "        fi = azimuth(x, z, y)\n",
    "        if z>=0:\n",
    "            if y>=0:\n",
    "                angle = (pi / 4. - fi) * (2. * tita / pi - 1.)\n",
    "            else:\n",
    "                angle = (pi / 2. - fi) * (2. * tita / pi - 1.)\n",
    "        else:\n",
    "            if y>=0:\n",
    "                angle = tita / 2. + fi - pi / 4.\n",
    "            else:\n",
    "                angle = fi + (pi / 2. - 2. * fi) * (2. * tita / pi - 1.)\n",
    "\n",
    "\n",
    "    aux_normal = np.cross(right_shoulder_direction, aux_vector)\n",
    "    right_elbow_direction_max_rotation = np.cos(angle) * aux_vector + np.sin(angle) * aux_normal\n",
    "    \n",
    "    return np.cross(right_shoulder_direction, right_elbow_direction_max_rotation)"
   ]
  },
  {
   "cell_type": "code",
   "execution_count": 15,
   "id": "5206c5ae-2496-46ea-a3cf-1984168113dc",
   "metadata": {},
   "outputs": [],
   "source": [
    "def pose2arm_position(half_pose_landmarks):\n",
    "    \"\"\"\n",
    "    Given an array of shape (14, 3) or (14, 4) that describes the unnormalized pose landmarks of the trunk\n",
    "    of a frame, returns information of the arms.\n",
    "\n",
    "    Input: half_pose_landmarks (ndarray of shape (14, 3) or (14, 4))\n",
    "\n",
    "    Output: arms_position_dict (dict)\n",
    "      - left_shoulder_direction (respect to shoulder basis)\n",
    "      - left_upperarm_length\n",
    "      - left_shoulder_rotation [0, pi] (respect to max_left_shoulder_rotation)\n",
    "      - left_elbow_angle\n",
    "      - left_forearm_length\n",
    "      - left_elbow_rotation [-pi/2, pi/2]\n",
    "      - left_wrist_rotation [0, 2pi) (respect to hand basis)\n",
    "      - left_wrist_inclination [0, pi] (respect to hand basis)\n",
    "      - left_pinky_vector (respect to hand basis)\n",
    "      - left_index_vector (respect to hand basis)\n",
    "      - left_thumb_vector (respect to hand basis)\n",
    "      \n",
    "      - right_shoulder_direction (respect to shoulder basis)\n",
    "      - right_upperarm_length\n",
    "      - right_shoulder_rotation [0, pi] (respect to max_right_shoulder_rotation)\n",
    "      - right_elbow_angle\n",
    "      - right_forearm_length\n",
    "      - right_elbow_rotation [-pi/2, pi/2]\n",
    "      - right_wrist_rotation [0, 2pi) (respect to hand basis)\n",
    "      - right_wrist_inclination [0, pi] (respect to hand basis)\n",
    "      - right_pinky_vector (respect to hand basis)\n",
    "      - right_index_vector (respect to hand basis)\n",
    "      - right_thumb_vector (respect to hand basis)\n",
    "    \"\"\"\n",
    "    # Define the left shoulder ortonormal basis\n",
    "    # The first vector is going out of the body in the direction of the shoulders\n",
    "    # The second is going downwards to the hip\n",
    "    # The third is going backwards\n",
    "    left_shoulder_basis = np.empty((3, 3), dtype=np.float64)\n",
    "    left_shoulder_basis[:, 0] = half_pose_landmarks[0, :3] - half_pose_landmarks[1, :3]\n",
    "    left_shoulder_basis[:, 2] = np.cross(left_shoulder_basis[:, 0], half_pose_landmarks[12, :3] - half_pose_landmarks[0, :3])\n",
    "    left_shoulder_basis[:, 1] = np.cross(left_shoulder_basis[:, 2], left_shoulder_basis[:, 0])\n",
    "    left_shoulder_basis /= np.linalg.norm(left_shoulder_basis, axis=0, keepdims=True)\n",
    "\n",
    "    # Obtain the vector of the left upperarm in the basis of the image\n",
    "    left_upperarm_vector = half_pose_landmarks[2, :3] - half_pose_landmarks[0, :3]\n",
    "    # Obtain the length of the left upperarm\n",
    "    left_upperarm_length = np.linalg.norm(left_upperarm_vector)\n",
    "    # Change the basis of the left upperarm normalized vector\n",
    "    left_shoulder_direction = (left_upperarm_vector / left_upperarm_length) @ left_shoulder_basis\n",
    "\n",
    "\n",
    "    # Obtain the vector of the left forearm in the basis of the image\n",
    "    left_forearm_vector = half_pose_landmarks[4, :3] - half_pose_landmarks[2, :3]\n",
    "    # Obtain the length of the left forearm\n",
    "    left_forearm_length = np.linalg.norm(left_forearm_vector)\n",
    "    # Obtain the direction of the forearm\n",
    "    left_forearm_direction = left_forearm_vector / left_forearm_length\n",
    "    # Obtain the angle of the elbow\n",
    "    left_elbow_angle = np.pi - np.arccos(np.dot(left_upperarm_vector, left_forearm_direction) / left_upperarm_length)\n",
    "    \n",
    "    if np.isclose(left_elbow_angle, np.pi, atol=1e-3):\n",
    "        # If the elbow angle is close to pi, set it as pi and we assume that the shoulder is not rotated\n",
    "        left_elbow_angle = np.float64(np.pi)\n",
    "        left_shoulder_rotation = np.float64(0)\n",
    "    else:\n",
    "        # Otherwise, obtain the elbow direction on the shoulder basis\n",
    "        left_elbow_direction = left_forearm_direction @ left_shoulder_basis\n",
    "        # Obtain the normal vector of the plane containing the left arm\n",
    "        left_arm_plane_normal_vector = np.cross(left_shoulder_direction, left_elbow_direction)\n",
    "        # Obtain the normal vector of the plane of the left arm if the shoulder is maximally rotated\n",
    "        left_arm_max_rotation_plane_normal_vector = max_left_shoulder_rotation(left_shoulder_direction)\n",
    "        # Obtain the shoulder rotation (angle between the two normal vectors)\n",
    "        left_shoulder_rotation = np.arccos(np.clip(np.dot(left_arm_plane_normal_vector, left_arm_max_rotation_plane_normal_vector), -1, 1))\n",
    "\n",
    "\n",
    "    # Define the left hand ortonormal basis\n",
    "    # The first vector is going out of the palm perpendicularly\n",
    "    # The third is going from the wrist to the center of the palm\n",
    "    # The second is going to the pinky making an orthonormal basis\n",
    "    left_hand_basis = np.empty((3, 3), dtype=np.float64)\n",
    "    left_hand_basis[:, 0] = np.cross(half_pose_landmarks[6, :3] - half_pose_landmarks[4, :3], half_pose_landmarks[8, :3] - half_pose_landmarks[4, :3])\n",
    "    left_hand_basis[:, 2] = (half_pose_landmarks[6, :3] + half_pose_landmarks[8, :3])/2 - half_pose_landmarks[4, :3]\n",
    "    left_hand_basis[:, 1] = np.cross(left_hand_basis[:, 2], left_hand_basis[:, 0])\n",
    "    left_hand_basis /= np.linalg.norm(left_hand_basis, axis=0, keepdims=True)\n",
    "\n",
    "    # Obtain the forearm direction on the left hand basis\n",
    "    left_wrist_direction = - left_forearm_direction @ left_hand_basis\n",
    "    # Obtain the wrist inclination\n",
    "    left_wrist_inclination = np.arccos(np.clip(- left_wrist_direction[2], -1, 1))\n",
    "    # Obtain the wrist rotation (the direction of the inclination)\n",
    "    if np.isclose(left_wrist_direction[0], 0):\n",
    "        if np.isclose(left_wrist_direction[1], 0):\n",
    "            left_wrist_rotation = np.float64(0)\n",
    "            left_wrist_inclination = np.float64(0) if left_wrist_direction[2]<0 else np.float64(np.pi)\n",
    "        else:\n",
    "            left_wrist_rotation = np.float64(np.pi * np.sign(left_wrist_direction[1]) / 2.)\n",
    "    else:\n",
    "        left_wrist_rotation = np.arctan(left_wrist_direction[1]/left_wrist_direction[0])\n",
    "\n",
    "    \n",
    "    # Obtain the normal vector of the left palm in the case that the wrist is not inclinated\n",
    "    # For this, rotate (1, 0, 0) `left_wrist_inclination` radians around (sin(`left_wrist_rotation`), -cos(`left_wrist_rotation`), 0) \n",
    "    a = np.cos(left_wrist_inclination)\n",
    "    b = np.sin(left_wrist_inclination)\n",
    "    c = np.cos(left_wrist_rotation)\n",
    "    d = np.sin(left_wrist_rotation)\n",
    "    left_palm_normal_vector_no_wrist_inclination = np.array([1.+(a-1.)*c*c, (a-1.)*c*d, b*c], dtype=np.float64)\n",
    "    \n",
    "    if np.isclose(left_elbow_angle, np.pi):\n",
    "        # If the arm is completely extended, obtain the vector that, in the case that the arm is maximally rotated and the wrist not inclinated,\n",
    "        # points from the left wrist to the pinky side perpendicularly to the arm\n",
    "        aux_vector = max_left_shoulder_rotation(left_shoulder_direction) @ left_shoulder_basis.T @ left_hand_basis\n",
    "        # Obtain the normal vector of the left palm in the case that the arm is maximally rotated and the wrist is not inclinated\n",
    "        left_palm_normal_vector_max_arm_rotation = np.cross(left_wrist_direction, aux_vector)\n",
    "        # Obtain the rotation of the arm (shoulder plus elbow)\n",
    "        if np.dot(left_palm_normal_vector_no_wrist_inclination, aux_vector)>=0:\n",
    "            left_arm_rotation = np.arccos(np.clip(\n",
    "                np.dot(left_palm_normal_vector_no_wrist_inclination, left_palm_normal_vector_max_arm_rotation),\n",
    "                -1, 1))\n",
    "        else:\n",
    "            left_arm_rotation = np.float64(2.*np.pi) - np.arccos(np.clip(\n",
    "                np.dot(left_palm_normal_vector_no_wrist_inclination, left_palm_normal_vector_max_arm_rotation),\n",
    "                -1, 1))\n",
    "        # Assumming that the arm rotation is equally distributed between shoulder and elbow, obtain each rotation\n",
    "        left_shoulder_rotation = left_arm_rotation / 2.\n",
    "        left_elbow_rotation = left_arm_rotation - left_shoulder_rotation - np.float64(np.pi/2.)\n",
    "        \n",
    "    else:\n",
    "        # Otherwise, obtain the normal vector of the left palm in the case that the elbow is not rotated and the wrist is not inclinated\n",
    "        left_palm_normal_vector_no_elbow_rotation = left_arm_plane_normal_vector @ left_shoulder_basis.T @ left_hand_basis\n",
    "        # Obtain the angle between both normal vectors\n",
    "        left_elbow_rotation = np.arcsin(np.clip(\n",
    "            (np.cross(left_palm_normal_vector_no_wrist_inclination, left_palm_normal_vector_no_elbow_rotation) / left_wrist_direction).mean(),\n",
    "        -1, 1))\n",
    "\n",
    "\n",
    "    # Obtain hand vectors in left hand basis\n",
    "    left_pinky_vector = (half_pose_landmarks[6, :3] - half_pose_landmarks[4, :3]) @ left_hand_basis\n",
    "    left_index_vector = (half_pose_landmarks[8, :3] - half_pose_landmarks[4, :3]) @ left_hand_basis\n",
    "    left_thumb_vector = (half_pose_landmarks[10, :3] - half_pose_landmarks[4, :3]) @ left_hand_basis\n",
    "\n",
    "\n",
    "    \n",
    "    # Same for the right arm\n",
    "    \n",
    "    # The difference between the right shoulder basis and the left one is that the third vector\n",
    "    # is going to the front, not backwards\n",
    "    right_shoulder_basis = np.empty((3, 3), dtype=np.float64)\n",
    "    right_shoulder_basis[:, 0] = half_pose_landmarks[1, :3] - half_pose_landmarks[0, :3]\n",
    "    right_shoulder_basis[:, 2] = np.cross(right_shoulder_basis[:, 0], half_pose_landmarks[13, :3] - half_pose_landmarks[1, :3])\n",
    "    right_shoulder_basis[:, 1] = np.cross(right_shoulder_basis[:, 2], right_shoulder_basis[:, 0])\n",
    "    right_shoulder_basis /= np.linalg.norm(right_shoulder_basis, axis=0, keepdims=True)\n",
    "    \n",
    "    right_upperarm_vector = half_pose_landmarks[3, :3] - half_pose_landmarks[1, :3]\n",
    "    right_upperarm_length = np.linalg.norm(right_upperarm_vector)\n",
    "    right_shoulder_direction = (right_upperarm_vector / right_upperarm_length) @ right_shoulder_basis\n",
    "\n",
    "\n",
    "    right_forearm_vector = half_pose_landmarks[5, :3] - half_pose_landmarks[3, :3]\n",
    "    right_forearm_length = np.linalg.norm(right_forearm_vector)\n",
    "    right_forearm_direction = right_forearm_vector / right_forearm_length\n",
    "    right_elbow_angle = np.pi - np.arccos(np.dot(right_upperarm_vector, right_forearm_direction) / right_upperarm_length)\n",
    "\n",
    "    if np.isclose(right_elbow_angle, np.pi, atol=1e-3):\n",
    "        right_elbow_angle = np.float64(np.pi)\n",
    "        right_shoulder_rotation = np.float64(0)\n",
    "    else:\n",
    "        right_elbow_direction = right_forearm_direction @ right_shoulder_basis\n",
    "        right_arm_plane_normal_vector = np.cross(right_shoulder_direction, right_elbow_direction)\n",
    "        right_arm_max_rotation_plane_normal_vector = max_right_shoulder_rotation(right_shoulder_direction)\n",
    "        right_shoulder_rotation = np.arccos(np.clip(np.dot(right_arm_plane_normal_vector, right_arm_max_rotation_plane_normal_vector), -1, 1))\n",
    "\n",
    "\n",
    "    # The difference between the right hand basis and the left one is that the third vector\n",
    "    # is going to the thumbside, not to the pinkyside\n",
    "    right_hand_basis = np.empty((3, 3), dtype=np.float64)\n",
    "    right_hand_basis[:, 0] = np.cross(half_pose_landmarks[9, :3] - half_pose_landmarks[5, :3], half_pose_landmarks[7, :3] - half_pose_landmarks[5, :3])\n",
    "    right_hand_basis[:, 2] = (half_pose_landmarks[7, :3] + half_pose_landmarks[9, :3])/2 - half_pose_landmarks[5, :3]\n",
    "    right_hand_basis[:, 1] = np.cross(right_hand_basis[:, 2], right_hand_basis[:, 0])\n",
    "    right_hand_basis /= np.linalg.norm(right_hand_basis, axis=0, keepdims=True)\n",
    "\n",
    "    right_wrist_direction = - right_forearm_direction @ right_hand_basis\n",
    "    right_wrist_inclination = np.arccos(np.clip(- right_wrist_direction[2], -1, 1))\n",
    "    if np.isclose(right_wrist_direction[0], 0):\n",
    "        if np.isclose(right_wrist_direction[1], 0):\n",
    "            right_wrist_rotation = np.float64(0)\n",
    "            right_wrist_inclination = np.float64(0) if right_wrist_direction[2]<0 else np.float64(np.pi)\n",
    "        else:\n",
    "            right_wrist_rotation = np.float64(np.pi * np.sign(right_wrist_direction[1]) / 2.)\n",
    "    else:\n",
    "        right_wrist_rotation = np.arctan(right_wrist_direction[1]/right_wrist_direction[0])\n",
    "\n",
    "\n",
    "    a = np.cos(right_wrist_inclination)\n",
    "    b = np.sin(right_wrist_inclination)\n",
    "    c = np.cos(right_wrist_rotation)\n",
    "    d = np.sin(right_wrist_rotation)\n",
    "    right_palm_normal_vector_no_wrist_inclination = np.array([1.+(a-1.)*c*c, (a-1.)*c*d, b*c], dtype=np.float64)\n",
    "    \n",
    "    if np.isclose(right_elbow_angle, np.pi):\n",
    "        aux_vector = max_right_shoulder_rotation(right_shoulder_direction) @ right_shoulder_basis.T @ right_hand_basis\n",
    "        right_palm_normal_vector_max_arm_rotation = np.cross(right_wrist_direction, aux_vector)\n",
    "        if np.dot(right_palm_normal_vector_no_wrist_inclination, aux_vector)<=0:\n",
    "            right_arm_rotation = np.arccos(np.clip(\n",
    "                np.dot(right_palm_normal_vector_no_wrist_inclination, right_palm_normal_vector_max_arm_rotation),\n",
    "                -1, 1))\n",
    "        else:\n",
    "            right_arm_rotation = np.float64(2.*np.pi) - np.arccos(np.clip(\n",
    "                np.dot(right_palm_normal_vector_no_wrist_inclination, right_palm_normal_vector_max_arm_rotation),\n",
    "                -1, 1))\n",
    "        right_shoulder_rotation = right_arm_rotation / 2.\n",
    "        right_elbow_rotation = right_arm_rotation - right_shoulder_rotation - np.float64(np.pi/2.)\n",
    "        \n",
    "    else:\n",
    "        right_palm_normal_vector_no_elbow_rotation = - right_arm_plane_normal_vector @ right_shoulder_basis.T @ right_hand_basis\n",
    "        right_elbow_rotation = np.arcsin(np.clip(\n",
    "            (np.cross(right_palm_normal_vector_no_elbow_rotation, right_palm_normal_vector_no_wrist_inclination) / right_wrist_direction).mean(),\n",
    "        -1, 1))\n",
    "\n",
    "\n",
    "    right_pinky_vector = (half_pose_landmarks[7, :3] - half_pose_landmarks[5, :3]) @ right_hand_basis\n",
    "    right_index_vector = (half_pose_landmarks[9, :3] - half_pose_landmarks[5, :3]) @ right_hand_basis\n",
    "    right_thumb_vector = (half_pose_landmarks[11, :3] - half_pose_landmarks[5, :3]) @ right_hand_basis\n",
    "\n",
    "    \n",
    "    \n",
    "    arms_position_dict = {\n",
    "        \"left_shoulder_direction\": left_shoulder_direction,\n",
    "        \"left_upperarm_length\": left_upperarm_length,\n",
    "        \"left_shoulder_rotation\": left_shoulder_rotation,\n",
    "        \"left_elbow_angle\": left_elbow_angle,\n",
    "        \"left_forearm_length\": left_forearm_length,\n",
    "        \"left_elbow_rotation\": left_elbow_rotation,\n",
    "        \"left_wrist_rotation\": left_wrist_rotation,\n",
    "        \"left_wrist_inclination\": left_wrist_inclination,\n",
    "        \"left_pinky_vector\": left_pinky_vector,\n",
    "        \"left_index_vector\": left_index_vector,\n",
    "        \"left_thumb_vector\": left_thumb_vector,\n",
    "\n",
    "        \"right_shoulder_direction\": right_shoulder_direction,\n",
    "        \"right_upperarm_length\": right_upperarm_length,\n",
    "        \"right_shoulder_rotation\": right_shoulder_rotation,\n",
    "        \"right_elbow_angle\": right_elbow_angle,\n",
    "        \"right_forearm_length\": right_forearm_length,\n",
    "        \"right_elbow_rotation\": right_elbow_rotation,\n",
    "        \"right_wrist_rotation\": right_wrist_rotation,\n",
    "        \"right_wrist_inclination\": right_wrist_inclination,\n",
    "        \"right_pinky_vector\": right_pinky_vector,\n",
    "        \"right_index_vector\": right_index_vector,\n",
    "        \"right_thumb_vector\": right_thumb_vector\n",
    "    }\n",
    "    return arms_position_dict"
   ]
  },
  {
   "cell_type": "code",
   "execution_count": 16,
   "id": "005ac786-66a4-4aae-b9ba-03ff64479afe",
   "metadata": {},
   "outputs": [],
   "source": [
    "def arm_position2pose(arms_position_dict, trunk_landmarks):\n",
    "    \"\"\"\n",
    "    Given a dictionary like the returned by `pose2arm_position` and an array of shape (4, 3)\n",
    "    with the landmarks of the trunk, returns an array of shape (14, 3) with the landmarks of\n",
    "    both arms and the trunk in the following order:\n",
    "      0 - left shoulder\n",
    "      1 - right shoulder\n",
    "      2 - left elbow\n",
    "      3 - right elbow\n",
    "      4 - left wrist\n",
    "      5 - right wrist\n",
    "      6 - left pinky\n",
    "      7 - right pinky\n",
    "      8 - left index\n",
    "      9 - right index\n",
    "      10 - left thumb\n",
    "      11 - right thumb\n",
    "      12 - left hip\n",
    "      13 - right hip\n",
    "\n",
    "    The order of the input landmarks must be:\n",
    "      0 - left shoulder\n",
    "      1 - right shoulder\n",
    "      2 - left hip\n",
    "      3 - right hip\n",
    "\n",
    "    Inputs:\n",
    "      - arms_position_dict (dict)\n",
    "      - trunk_landmarks (array)\n",
    "\n",
    "    Output:\n",
    "      - half_pose_landmarks (array)\n",
    "    \"\"\"\n",
    "    # Initialize the returning array\n",
    "    half_pose_landmarks = np.empty((14, 3), dtype=np.float64)\n",
    "    # Fill the rows of the trunk\n",
    "    half_pose_landmarks[[0, 1, 12, 13]] = trunk_landmarks\n",
    "\n",
    "\n",
    "    # Define the left shoulder basis as in `pose2arm_position`\n",
    "    left_shoulder_basis = np.empty((3, 3), dtype=np.float64)\n",
    "    left_shoulder_basis[:, 0] = half_pose_landmarks[0, :3] - half_pose_landmarks[1, :3]\n",
    "    left_shoulder_basis[:, 2] = np.cross(left_shoulder_basis[:, 0], half_pose_landmarks[12, :3] - half_pose_landmarks[0, :3])\n",
    "    left_shoulder_basis[:, 1] = np.cross(left_shoulder_basis[:, 2], left_shoulder_basis[:, 0])\n",
    "    left_shoulder_basis /= np.linalg.norm(left_shoulder_basis, axis=0, keepdims=True)\n",
    "\n",
    "    # Obtain the left shoulder direction respect to the image basis\n",
    "    left_shoulder_direction_image_basis = arms_position_dict[\"left_shoulder_direction\"] @ left_shoulder_basis.T\n",
    "    # Obtain the landmarks of the left elbow\n",
    "    half_pose_landmarks[2] = arms_position_dict[\"left_upperarm_length\"] * left_shoulder_direction_image_basis + half_pose_landmarks[0]\n",
    "\n",
    "\n",
    "    if np.isclose(arms_position_dict[\"left_elbow_angle\"], np.pi):\n",
    "        # If the left arm is completely extended, obtain the left wrist landmarks\n",
    "        half_pose_landmarks[4] = arms_position_dict[\"left_forearm_length\"] * left_shoulder_direction_image_basis + half_pose_landmarks[2]\n",
    "    else:\n",
    "        # Otherwise, consider the normal vector of the plane of the left arm if the shoulder is maximally rotated\n",
    "        left_arm_max_rotation_plane_normal_vector = max_left_shoulder_rotation(arms_position_dict[\"left_shoulder_direction\"])\n",
    "        # Obtain the cross product between the left shoulder direction and the normal vector\n",
    "        aux_vector = np.cross(arms_position_dict[\"left_shoulder_direction\"], left_arm_max_rotation_plane_normal_vector)\n",
    "        # Using the left shoulder rotation, obtain the normal vector of the plain of the left arm\n",
    "        left_arm_plane_normal_vector = (np.cos(arms_position_dict[\"left_shoulder_rotation\"]) * left_arm_max_rotation_plane_normal_vector +\n",
    "                                        np.sin(arms_position_dict[\"left_shoulder_rotation\"]) * aux_vector)\n",
    "\n",
    "        # Obtain the left forearm direction respect to the image basis\n",
    "        aux_vector = np.cross(left_arm_plane_normal_vector, arms_position_dict[\"left_shoulder_direction\"])\n",
    "        left_forearm_direction = (- np.cos(arms_position_dict[\"left_elbow_angle\"]) * arms_position_dict[\"left_shoulder_direction\"] +\n",
    "                                  np.sin(arms_position_dict[\"left_elbow_angle\"]) * aux_vector) @ left_shoulder_basis.T\n",
    "        # Obtain the left wrist landmarks\n",
    "        half_pose_landmarks[4] = arms_position_dict[\"left_forearm_length\"] * left_forearm_direction + half_pose_landmarks[2]\n",
    "\n",
    "    \n",
    "    if np.isclose(arms_position_dict[\"left_elbow_angle\"], np.pi):\n",
    "        # If the arm is completely extended, obtain the total rotation of the left arm\n",
    "        left_arm_rotation = arms_position_dict[\"left_shoulder_rotation\"] + arms_position_dict[\"left_elbow_rotation\"] + np.float64(np.pi/2.)\n",
    "\n",
    "        # Obtain the vector that, in the case that the arm is maximally rotated and the wrist not inclinated,\n",
    "        # points from the left wrist to the pinky side perpendicularly to the arm\n",
    "        aux_vector = left_arm_max_rotation_plane_normal_vector @ left_shoulder_basis.T\n",
    "        # Obtain the normal vector of the left palm in the case that the arm is maximally rotated and the wrist is not inclinated\n",
    "        left_palm_normal_vector_max_arm_rotation = np.cross(aux_vector, left_forearm_direction)\n",
    "\n",
    "        # Obtain the normal vector of the left palm in the case that the arm is not inclinated\n",
    "        left_palm_normal_vector_no_wrist_inclination = (np.cos(left_arm_rotation) * left_palm_normal_vector_max_arm_rotation +\n",
    "                                                        np.sin(left_arm_rotation) * aux_vector)\n",
    "    else:\n",
    "        # Otherwise, obtain the normal vector of the left palm in the case that the elbow is not rotated and the wrist is not inclinated\n",
    "        left_palm_normal_vector_no_elbow_rotation = left_arm_plane_normal_vector @ left_shoulder_basis.T\n",
    "        aux_vector = np.cross(left_forearm_direction, left_palm_normal_vector_no_elbow_rotation)\n",
    "\n",
    "        # Obtain the normal vector of the left palm in the case that the arm is not inclinated\n",
    "        left_palm_normal_vector_no_wrist_inclination = (np.cos(arms_position_dict[\"left_elbow_rotation\"]) * left_palm_normal_vector_no_elbow_rotation +\n",
    "                                                       np.sin(arms_position_dict[\"left_elbow_rotation\"]) * aux_vector)\n",
    "\n",
    "    # Rename the vectors of the left hand basis if the wrist is not inclinated\n",
    "    v1 = left_palm_normal_vector_no_wrist_inclination\n",
    "    v3 = left_forearm_direction\n",
    "    v2 = np.cross(v3, v1)\n",
    "\n",
    "    # Obtain the left hand basis\n",
    "    # For this, rotate the latter basis -`left_wrist_inclination` radians around (sin(`left_wrist_rotation`), -cos(`left_wrist_rotation`), 0)\n",
    "    a = np.cos(arms_position_dict[\"left_wrist_inclination\"])\n",
    "    b = np.sin(arms_position_dict[\"left_wrist_inclination\"])\n",
    "    c = np.cos(arms_position_dict[\"left_wrist_rotation\"])\n",
    "    d = np.sin(arms_position_dict[\"left_wrist_rotation\"])\n",
    "    left_hand_basis = np.empty((3, 3), dtype=np.float64)\n",
    "    left_hand_basis[:, 0] = (1.+(a-1.)*c*c) * v1 + (a-1.)*c*d * v2 - b*c * v3\n",
    "    left_hand_basis[:, 2] = b*c * v1 + b*d * v2 + a * v3\n",
    "    left_hand_basis[:, 1] = np.cross(left_hand_basis[:, 2], left_hand_basis[:, 0])\n",
    "\n",
    "    # Obtain the pinky, index and thumb landmarks\n",
    "    half_pose_landmarks[6] = arms_position_dict[\"left_pinky_vector\"] @ left_hand_basis.T + half_pose_landmarks[4]\n",
    "    half_pose_landmarks[8] = arms_position_dict[\"left_index_vector\"] @ left_hand_basis.T + half_pose_landmarks[4]\n",
    "    half_pose_landmarks[10] = arms_position_dict[\"left_thumb_vector\"] @ left_hand_basis.T + half_pose_landmarks[4]\n",
    "\n",
    "\n",
    "\n",
    "    # Same for the right arm\n",
    "\n",
    "    right_shoulder_basis = np.empty((3, 3), dtype=np.float64)\n",
    "    right_shoulder_basis[:, 0] = half_pose_landmarks[1, :3] - half_pose_landmarks[0, :3]\n",
    "    right_shoulder_basis[:, 2] = np.cross(right_shoulder_basis[:, 0], half_pose_landmarks[13, :3] - half_pose_landmarks[1, :3])\n",
    "    right_shoulder_basis[:, 1] = np.cross(right_shoulder_basis[:, 2], right_shoulder_basis[:, 0])\n",
    "    right_shoulder_basis /= np.linalg.norm(right_shoulder_basis, axis=0, keepdims=True)\n",
    "\n",
    "    right_shoulder_direction_image_basis = arms_position_dict[\"right_shoulder_direction\"] @ right_shoulder_basis.T\n",
    "    half_pose_landmarks[3] = arms_position_dict[\"right_upperarm_length\"] * right_shoulder_direction_image_basis + half_pose_landmarks[1]\n",
    "\n",
    "\n",
    "    if np.isclose(arms_position_dict[\"right_elbow_angle\"], np.pi):\n",
    "        half_pose_landmarks[5] = arms_position_dict[\"right_forearm_length\"] * right_shoulder_direction_image_basis + half_pose_landmarks[3]\n",
    "    else:\n",
    "        right_arm_max_rotation_plane_normal_vector = max_right_shoulder_rotation(arms_position_dict[\"right_shoulder_direction\"])\n",
    "        aux_vector = np.cross(right_arm_max_rotation_plane_normal_vector, arms_position_dict[\"right_shoulder_direction\"])\n",
    "        right_arm_plane_normal_vector = (np.cos(arms_position_dict[\"right_shoulder_rotation\"]) * right_arm_max_rotation_plane_normal_vector +\n",
    "                                         np.sin(arms_position_dict[\"right_shoulder_rotation\"]) * aux_vector)\n",
    "\n",
    "        aux_vector = np.cross(right_arm_plane_normal_vector, arms_position_dict[\"right_shoulder_direction\"])\n",
    "        right_forearm_direction = (- np.cos(arms_position_dict[\"right_elbow_angle\"]) * arms_position_dict[\"right_shoulder_direction\"] +\n",
    "                                   np.sin(arms_position_dict[\"right_elbow_angle\"]) * aux_vector) @ right_shoulder_basis.T\n",
    "        half_pose_landmarks[5] = arms_position_dict[\"right_forearm_length\"] * right_forearm_direction + half_pose_landmarks[3]\n",
    "\n",
    "    \n",
    "    if np.isclose(arms_position_dict[\"right_elbow_angle\"], np.pi):\n",
    "        right_arm_rotation = arms_position_dict[\"right_shoulder_rotation\"] + arms_position_dict[\"right_elbow_rotation\"] + np.float64(np.pi/2.)\n",
    "\n",
    "        aux_vector = right_arm_max_rotation_plane_normal_vector @ right_shoulder_basis.T\n",
    "        right_palm_normal_vector_max_arm_rotation = np.cross(aux_vector, right_forearm_direction)\n",
    "\n",
    "        right_palm_normal_vector_no_wrist_inclination = (np.cos(right_arm_rotation) * right_palm_normal_vector_max_arm_rotation -\n",
    "                                                       np.sin(right_arm_rotation) * aux_vector)\n",
    "    else:\n",
    "        right_palm_normal_vector_no_elbow_rotation = - right_arm_plane_normal_vector @ right_shoulder_basis.T\n",
    "        aux_vector = np.cross(right_forearm_direction, right_palm_normal_vector_no_elbow_rotation)\n",
    "\n",
    "        right_palm_normal_vector_no_wrist_inclination = (np.cos(arms_position_dict[\"right_elbow_rotation\"]) * right_palm_normal_vector_no_elbow_rotation -\n",
    "                                                       np.sin(arms_position_dict[\"right_elbow_rotation\"]) * aux_vector)\n",
    "\n",
    "    v1 = right_palm_normal_vector_no_wrist_inclination\n",
    "    v3 = right_forearm_direction\n",
    "    v2 = np.cross(v3, v1)\n",
    "\n",
    "    a = np.cos(arms_position_dict[\"right_wrist_inclination\"])\n",
    "    b = np.sin(arms_position_dict[\"right_wrist_inclination\"])\n",
    "    c = np.cos(arms_position_dict[\"right_wrist_rotation\"])\n",
    "    d = np.sin(arms_position_dict[\"right_wrist_rotation\"])\n",
    "    right_hand_basis = np.empty((3, 3), dtype=np.float64)\n",
    "    right_hand_basis[:, 0] = (1.+(a-1.)*c*c) * v1 + (a-1.)*c*d * v2 - b*c * v3\n",
    "    right_hand_basis[:, 2] = b*c * v1 + b*d * v2 + a * v3\n",
    "    right_hand_basis[:, 1] = np.cross(right_hand_basis[:, 2], right_hand_basis[:, 0])\n",
    "\n",
    "    half_pose_landmarks[7] = arms_position_dict[\"right_pinky_vector\"] @ right_hand_basis.T + half_pose_landmarks[5]\n",
    "    half_pose_landmarks[9] = arms_position_dict[\"right_index_vector\"] @ right_hand_basis.T + half_pose_landmarks[5]\n",
    "    half_pose_landmarks[11] = arms_position_dict[\"right_thumb_vector\"] @ right_hand_basis.T + half_pose_landmarks[5]\n",
    "    \n",
    "    \n",
    "    return half_pose_landmarks"
   ]
  },
  {
   "cell_type": "code",
   "execution_count": 17,
   "id": "5b6255e4-2ceb-4464-acf5-9df60615bc9c",
   "metadata": {},
   "outputs": [],
   "source": [
    "half_pose_landmarks = np.array([\n",
    "    [0.8, 0.6875, 0],\n",
    "    [0.25, 0.6875, 0],\n",
    "    [0.85, 0.3125, 0],\n",
    "    [0.05, 0.5, 0.55],\n",
    "    [0.675, 0.125, 0.05],\n",
    "    [0.2, 0.8125, 0.25],\n",
    "    [0.6, 0.11, 0.05],\n",
    "    [0.3, 0.82, 0.24],\n",
    "    [0.6, 0.14, 0.05],\n",
    "    [0.275, 0.85, 0.22],\n",
    "    [0.65, 0.16, 0.04],\n",
    "    [0.26, 0.84, 0.2],\n",
    "    [0.7, 0.0625, 0],\n",
    "    [0.4, 0.0625, 0]\n",
    "], dtype=np.float64)"
   ]
  },
  {
   "cell_type": "code",
   "execution_count": 18,
   "id": "8b4b45da-434a-4f97-8462-7aa48ce51afb",
   "metadata": {},
   "outputs": [],
   "source": [
    "position_info = pose2arm_position(half_pose_landmarks)"
   ]
  },
  {
   "cell_type": "code",
   "execution_count": 19,
   "id": "baef9f6a-3daf-4510-bef7-484ea10d3655",
   "metadata": {},
   "outputs": [
    {
     "data": {
      "text/plain": [
       "{'left_shoulder_direction': array([0.13216372, 0.9912279 , 0.        ]),\n",
       " 'left_upperarm_length': 0.3783186487605389,\n",
       " 'left_shoulder_rotation': 2.0317101987701713,\n",
       " 'left_elbow_angle': 2.2430379265889644,\n",
       " 'left_forearm_length': 0.26130681200458583,\n",
       " 'left_elbow_rotation': 0.05624900824303603,\n",
       " 'left_wrist_rotation': -1.3101939350475555,\n",
       " 'left_wrist_inclination': 0.8369770083806248,\n",
       " 'left_pinky_vector': array([0.   , 0.015, 0.075]),\n",
       " 'left_index_vector': array([ 0.   , -0.015,  0.075]),\n",
       " 'left_thumb_vector': array([ 0.01 , -0.035,  0.025]),\n",
       " 'right_shoulder_direction': array([0.32544804, 0.30510754, 0.8949821 ]),\n",
       " 'right_upperarm_length': 0.6145374276640927,\n",
       " 'right_shoulder_rotation': 1.1388855343443962,\n",
       " 'right_elbow_angle': 0.45066273877171215,\n",
       " 'right_forearm_length': 0.45842802052230625,\n",
       " 'right_elbow_rotation': -0.261856839489093,\n",
       " 'right_wrist_rotation': 1.4063968926390942,\n",
       " 'right_wrist_inclination': 0.9063787281272562,\n",
       " 'right_pinky_vector': array([-1.73472348e-18, -2.10977262e-02,  9.85450960e-02]),\n",
       " 'right_index_vector': array([-3.46944695e-18,  2.10977262e-02,  8.65224592e-02]),\n",
       " 'right_thumb_vector': array([0.02266613, 0.02885231, 0.07422965])}"
      ]
     },
     "execution_count": 19,
     "metadata": {},
     "output_type": "execute_result"
    }
   ],
   "source": [
    "position_info"
   ]
  },
  {
   "cell_type": "code",
   "execution_count": 20,
   "id": "a3e11c15-20c0-488c-a865-1c5622142d06",
   "metadata": {},
   "outputs": [],
   "source": [
    "estimated_half_pose_landmarks = arm_position2pose(position_info, half_pose_landmarks[[0, 1, 12, 13]])"
   ]
  },
  {
   "cell_type": "code",
   "execution_count": 21,
   "id": "49a371bd-2290-418c-833d-77f950634a63",
   "metadata": {},
   "outputs": [
    {
     "data": {
      "text/plain": [
       "array([[0.8       , 0.6875    , 0.        ],\n",
       "       [0.25      , 0.6875    , 0.        ],\n",
       "       [0.85      , 0.3125    , 0.        ],\n",
       "       [0.05      , 0.5       , 0.55      ],\n",
       "       [0.68412291, 0.12621639, 0.07787463],\n",
       "       [0.33701388, 0.72007368, 0.26831426],\n",
       "       [0.60995957, 0.11155465, 0.08948638],\n",
       "       [0.34830872, 0.74058797, 0.17029466],\n",
       "       [0.61005443, 0.14155329, 0.08921658],\n",
       "       [0.31000364, 0.72378077, 0.18353245],\n",
       "       [0.6579977 , 0.16124329, 0.07150366],\n",
       "       [0.31180737, 0.69844408, 0.19246545],\n",
       "       [0.7       , 0.0625    , 0.        ],\n",
       "       [0.4       , 0.0625    , 0.        ]])"
      ]
     },
     "execution_count": 21,
     "metadata": {},
     "output_type": "execute_result"
    }
   ],
   "source": [
    "estimated_half_pose_landmarks"
   ]
  },
  {
   "cell_type": "code",
   "execution_count": 22,
   "id": "6cc28eee-aa1d-4bc5-b2af-3fad27adc446",
   "metadata": {},
   "outputs": [
    {
     "data": {
      "text/plain": [
       "array([[0.8   , 0.6875, 0.    ],\n",
       "       [0.25  , 0.6875, 0.    ],\n",
       "       [0.85  , 0.3125, 0.    ],\n",
       "       [0.05  , 0.5   , 0.55  ],\n",
       "       [0.675 , 0.125 , 0.05  ],\n",
       "       [0.2   , 0.8125, 0.25  ],\n",
       "       [0.6   , 0.11  , 0.05  ],\n",
       "       [0.3   , 0.82  , 0.24  ],\n",
       "       [0.6   , 0.14  , 0.05  ],\n",
       "       [0.275 , 0.85  , 0.22  ],\n",
       "       [0.65  , 0.16  , 0.04  ],\n",
       "       [0.26  , 0.84  , 0.2   ],\n",
       "       [0.7   , 0.0625, 0.    ],\n",
       "       [0.4   , 0.0625, 0.    ]])"
      ]
     },
     "execution_count": 22,
     "metadata": {},
     "output_type": "execute_result"
    }
   ],
   "source": [
    "half_pose_landmarks"
   ]
  },
  {
   "cell_type": "code",
   "execution_count": 23,
   "id": "dbf6efcf-a216-4e23-9b22-a5fe4d0f94d9",
   "metadata": {},
   "outputs": [
    {
     "data": {
      "text/plain": [
       "array([[ 0.00000000e+00,  0.00000000e+00,  0.00000000e+00],\n",
       "       [ 0.00000000e+00,  0.00000000e+00,  0.00000000e+00],\n",
       "       [ 0.00000000e+00,  0.00000000e+00,  0.00000000e+00],\n",
       "       [ 1.38777878e-17,  0.00000000e+00,  0.00000000e+00],\n",
       "       [-9.12291218e-03, -1.21638829e-03, -2.78746284e-02],\n",
       "       [-1.37013878e-01,  9.24263169e-02, -1.83142566e-02],\n",
       "       [-9.95957294e-03, -1.55465408e-03, -3.94863751e-02],\n",
       "       [-4.83087235e-02,  7.94120341e-02,  6.97053367e-02],\n",
       "       [-1.00544327e-02, -1.55329089e-03, -3.92165758e-02],\n",
       "       [-3.50036415e-02,  1.26219225e-01,  3.64675494e-02],\n",
       "       [-7.99769728e-03, -1.24329159e-03, -3.15036636e-02],\n",
       "       [-5.18073655e-02,  1.41555921e-01,  7.53455333e-03],\n",
       "       [ 0.00000000e+00,  0.00000000e+00,  0.00000000e+00],\n",
       "       [ 0.00000000e+00,  0.00000000e+00,  0.00000000e+00]])"
      ]
     },
     "execution_count": 23,
     "metadata": {},
     "output_type": "execute_result"
    }
   ],
   "source": [
    "half_pose_landmarks - estimated_half_pose_landmarks"
   ]
  },
  {
   "cell_type": "code",
   "execution_count": 24,
   "id": "298dba22-fe1b-460d-998d-623ce808f808",
   "metadata": {},
   "outputs": [],
   "source": [
    "def move_arms(half_pose_landmarks_0, half_pose_landmarks_1, N):\n",
    "    \"\"\"\n",
    "    Given two arrays of shape (14, 3) representing two \"half pose landmarks\" and an integer N,\n",
    "    returns an array of shape (N+1, 14, 3), where each row represents a \"half pose landmark\",\n",
    "    and it represents the movement between the two input arrays.\n",
    "\n",
    "    Inputs:\n",
    "      - half_pose_landmarks_0 (array of shape (14, 3)): initial position\n",
    "      - half_pose_landmarks_1 (array of shape (14, 3)): final position\n",
    "      - N (int): number of steps between initial and final positions\n",
    "\n",
    "    Output: (array of shape (N+1, 14, 3))\n",
    "    \"\"\"\n",
    "    arms_position_0 = pose2arm_position(half_pose_landmarks_0)\n",
    "    arms_position_1 = pose2arm_position(half_pose_landmarks_1)\n",
    "\n",
    "    def lin_mov(t, a, b):\n",
    "        return a + t*(b-a)\n",
    "    \n",
    "    # left shoulder direction\n",
    "    lsd_angle = np.arccos(np.clip(np.dot(arms_position_0[\"left_shoulder_direction\"], arms_position_1[\"left_shoulder_direction\"]), -1, 1))\n",
    "    if np.isclose(lsd_angle, 0):\n",
    "        def lsd_geo(t):\n",
    "            return arms_position_0[\"left_shoulder_direction\"]\n",
    "    elif np.isclose(lsd_angle, np.pi):\n",
    "        # Pasando por arriba\n",
    "        v = arms_position_0[\"left_shoulder_direction\"][1] * arms_position_0[\"left_shoulder_direction\"]\n",
    "        v[1] -= 1\n",
    "        v /= np.sqrt(-v[1])\n",
    "        def lsd_geo(t):\n",
    "            return np.cos(np.pi * t) * arms_position_0[\"left_shoulder_direction\"] + np.sin(np.pi * t) * v\n",
    "    else:\n",
    "        lsd_cte1 = 1. / np.sin(lsd_angle)\n",
    "        lsd_cte2 = lsd_cte1 * np.cos(lsd_angle)\n",
    "        az_0 = azimuth(*(arms_position_0[\"left_shoulder_direction\"][[0, 2, 1]] * np.array([-1, 1, 1])))\n",
    "        az_1 = azimuth(*(arms_position_1[\"left_shoulder_direction\"][[0, 2, 1]] * np.array([-1, 1, 1])))\n",
    "        if ((arms_position_0[\"left_shoulder_direction\"][2] * arms_position_1[\"left_shoulder_direction\"][2] < 0) and\n",
    "           (az_1 > az_0 + np.float64(np.pi)) or (az_1 < az_0 - np.float64(np.pi))):\n",
    "            def lsd_geo(t):\n",
    "                return ((np.cos((2.*np.pi-lsd_angle)*t) + np.sin((2.*np.pi-lsd_angle)*t)*lsd_cte2) * arms_position_0[\"left_shoulder_direction\"] -\n",
    "                       np.sin((2.*np.pi-lsd_angle)*t)*lsd_cte1 * arms_position_1[\"left_shoulder_direction\"])\n",
    "        else:\n",
    "            def lsd_geo(t):\n",
    "                return ((np.cos(lsd_angle*t) - np.sin(lsd_angle*t)*lsd_cte2) * arms_position_0[\"left_shoulder_direction\"] +\n",
    "                        np.sin(lsd_angle*t)*lsd_cte1 * arms_position_1[\"left_shoulder_direction\"])\n",
    "\n",
    "    # right shoulder direction\n",
    "    rsd_angle = np.arccos(np.clip(np.dot(arms_position_0[\"right_shoulder_direction\"], arms_position_1[\"right_shoulder_direction\"]), -1, 1))\n",
    "    if np.isclose(rsd_angle, 0):\n",
    "        def lsd_geo(t):\n",
    "            return arms_position_0[\"right_shoulder_direction\"]\n",
    "    elif np.isclose(lsd_angle, np.pi):\n",
    "        # Pasando por arriba\n",
    "        v = arms_position_0[\"right_shoulder_direction\"][1] * arms_position_0[\"right_shoulder_direction\"]\n",
    "        v[1] -= 1\n",
    "        v /= np.sqrt(-v[1])\n",
    "        def rsd_geo(t):\n",
    "            return np.cos(np.pi * t) * arms_position_0[\"right_shoulder_direction\"] + np.sin(np.pi * t) * v\n",
    "    else:\n",
    "        rsd_cte1 = 1. / np.sin(rsd_angle)\n",
    "        rsd_cte2 = rsd_cte1 * np.cos(rsd_angle)\n",
    "        az_0 = azimuth(*(arms_position_0[\"right_shoulder_direction\"][[0, 2, 1]] * np.array([-1, 1, 1])))\n",
    "        az_1 = azimuth(*(arms_position_1[\"right_shoulder_direction\"][[0, 2, 1]] * np.array([-1, 1, 1])))\n",
    "        if ((arms_position_0[\"right_shoulder_direction\"][2] * arms_position_1[\"right_shoulder_direction\"][2] < 0) and\n",
    "           (az_1 > az_0 + np.float64(np.pi)) or (az_1 < az_0 - np.float64(np.pi))):\n",
    "            def rsd_geo(t):\n",
    "                return ((np.cos((2.*np.pi-rsd_angle)*t) + np.sin((2.*np.pi-rsd_angle)*t)*rsd_cte2) * arms_position_0[\"right_shoulder_direction\"] -\n",
    "                       np.sin((2.*np.pi-rsd_angle)*t)*rsd_cte1 * arms_position_1[\"right_shoulder_direction\"])\n",
    "        else:\n",
    "            def rsd_geo(t):\n",
    "                return ((np.cos(rsd_angle*t) - np.sin(rsd_angle*t)*rsd_cte2) * arms_position_0[\"right_shoulder_direction\"] +\n",
    "                        np.sin(rsd_angle*t)*rsd_cte1 * arms_position_1[\"right_shoulder_direction\"])\n",
    "\n",
    "\n",
    "    # left wrist rotation and inclination\n",
    "    if np.isclose(arms_position_0[\"left_wrist_rotation\"], arms_position_1[\"left_wrist_rotation\"], atol=1e-2):\n",
    "        def lw_mov(t):\n",
    "            return (lin_mov(t, arms_position_0[\"left_wrist_rotation\"], arms_position_1[\"left_wrist_rotation\"]),\n",
    "                   lin_mov(t, arms_position_0[\"left_wrist_inclination\"], arms_position_1[\"left_wrist_inclination\"]))\n",
    "    else:\n",
    "        total_desp = arms_position_0[\"left_wrist_inclination\"] + arms_position_1[\"left_wrist_inclination\"]\n",
    "        def lw_mov(t):\n",
    "            if t * total_desp < arms_position_0[\"left_wrist_inclination\"]:\n",
    "                return arms_position_0[\"left_wrist_rotation\"], arms_position_0[\"left_wrist_inclination\"] - total_desp * t\n",
    "            else:\n",
    "                return arms_position_1[\"left_wrist_rotation\"], - arms_position_0[\"left_wrist_inclination\"] + total_desp * t\n",
    "\n",
    "    # right wrist rotation and inclination\n",
    "    if np.isclose(arms_position_0[\"right_wrist_rotation\"], arms_position_1[\"right_wrist_rotation\"], atol=1e-2):\n",
    "        def rw_mov(t):\n",
    "            return (lin_mov(t, arms_position_0[\"right_wrist_rotation\"], arms_position_1[\"right_wrist_rotation\"]),\n",
    "                   lin_mov(t, arms_position_0[\"right_wrist_inclination\"], arms_position_1[\"right_wrist_inclination\"]))\n",
    "    else:\n",
    "        total_desp = arms_position_0[\"right_wrist_inclination\"] + arms_position_1[\"right_wrist_inclination\"]\n",
    "        def rw_mov(t):\n",
    "            if t * total_desp < arms_position_0[\"right_wrist_inclination\"]:\n",
    "                return arms_position_0[\"right_wrist_rotation\"], arms_position_0[\"right_wrist_inclination\"] - total_desp * t\n",
    "            else:\n",
    "                return arms_position_1[\"right_wrist_rotation\"], - arms_position_0[\"right_wrist_inclination\"] + total_desp * t\n",
    "\n",
    "\n",
    "    # left thumb\n",
    "    left_thumb_length = np.linalg.norm(arms_position_0[\"left_thumb_vector\"])\n",
    "    left_thumb_direction_0 = arms_position_0[\"left_thumb_vector\"] / left_thumb_length\n",
    "    left_thumb_direction_1 = arms_position_1[\"left_thumb_vector\"] / np.linalg.norm(arms_position_1[\"left_thumb_vector\"])\n",
    "    ltv_angle = np.arccos(np.clip(np.dot(left_thumb_direction_0, left_thumb_direction_1), -1, 1))\n",
    "    if np.isclose(ltv_angle, 0):\n",
    "        def ltv_geo(t):\n",
    "            return arms_position_0[\"left_thumb_vector\"]\n",
    "    else:\n",
    "        ltv_cte1 = 1. / np.sin(ltv_angle)\n",
    "        ltv_cte2 = ltv_cte1 * np.cos(ltv_angle)\n",
    "        def ltv_geo(t):\n",
    "            return left_thumb_length * ((np.cos(ltv_angle*t) - np.sin(ltv_angle*t)*ltv_cte2) * left_thumb_direction_0 +\n",
    "                                        np.sin(ltv_angle*t)*ltv_cte1 * left_thumb_direction_1)\n",
    "\n",
    "    # right thumb\n",
    "    right_thumb_length = np.linalg.norm(arms_position_0[\"right_thumb_vector\"])\n",
    "    right_thumb_direction_0 = arms_position_0[\"right_thumb_vector\"] / right_thumb_length\n",
    "    right_thumb_direction_1 = arms_position_1[\"right_thumb_vector\"] / np.linalg.norm(arms_position_1[\"right_thumb_vector\"])\n",
    "    rtv_angle = np.arccos(np.clip(np.dot(right_thumb_direction_0, right_thumb_direction_1), -1, 1))\n",
    "    if np.isclose(rtv_angle, 0):\n",
    "        def rtv_geo(t):\n",
    "            return arms_position_0[\"right_thumb_vector\"]\n",
    "    else:\n",
    "        rtv_cte1 = 1. / np.sin(rtv_angle)\n",
    "        rtv_cte2 = rtv_cte1 * np.cos(rtv_angle)\n",
    "        def rtv_geo(t):\n",
    "            return right_thumb_length * ((np.cos(rtv_angle*t) - np.sin(rtv_angle*t)*rtv_cte2) * right_thumb_direction_0 +\n",
    "                                        np.sin(rtv_angle*t)*rtv_cte1 * right_thumb_direction_1)\n",
    "\n",
    "\n",
    "    trunk_landmarks = half_pose_landmarks_0[[0, 1, 12, 13]]\n",
    "    arms_position_var = arms_position_0.copy()\n",
    "\n",
    "    def movement_progress(t):\n",
    "        return (3. - 2.*t)*t*t\n",
    "    \n",
    "    half_pose_landmark_movement = np.empty((N+1, 14, 3), dtype=np.float64)\n",
    "    half_pose_landmark_movement[0] = arm_position2pose(arms_position_var, trunk_landmarks)\n",
    "    \n",
    "    for i in range(1, N+1):\n",
    "        t = i/N\n",
    "        s = movement_progress(t)\n",
    "\n",
    "\n",
    "        arms_position_var[\"left_shoulder_direction\"] = lsd_geo(s)\n",
    "        arms_position_var[\"left_shoulder_rotation\"] = lin_mov(s, arms_position_0[\"left_shoulder_rotation\"], arms_position_1[\"left_shoulder_rotation\"])\n",
    "        arms_position_var[\"left_elbow_angle\"] = lin_mov(s, arms_position_0[\"left_elbow_angle\"], arms_position_1[\"left_elbow_angle\"])\n",
    "        arms_position_var[\"left_elbow_rotation\"] = lin_mov(s, arms_position_0[\"left_elbow_rotation\"], arms_position_1[\"left_elbow_rotation\"])\n",
    "        arms_position_var[\"left_wrist_rotation\"], arms_position_var[\"left_wrist_inclination\"] = lw_mov(s)\n",
    "        arms_position_var[\"left_thumb_vector\"] = ltv_geo(s)\n",
    "\n",
    "        arms_position_var[\"right_shoulder_direction\"] = rsd_geo(s)\n",
    "        arms_position_var[\"right_shoulder_rotation\"] = lin_mov(s, arms_position_0[\"right_shoulder_rotation\"], arms_position_1[\"right_shoulder_rotation\"])\n",
    "        arms_position_var[\"right_elbow_angle\"] = lin_mov(s, arms_position_0[\"right_elbow_angle\"], arms_position_1[\"right_elbow_angle\"])\n",
    "        arms_position_var[\"right_elbow_rotation\"] = lin_mov(s, arms_position_0[\"right_elbow_rotation\"], arms_position_1[\"right_elbow_rotation\"])\n",
    "        arms_position_var[\"right_wrist_rotation\"], arms_position_var[\"right_wrist_inclination\"] = rw_mov(s)\n",
    "        arms_position_var[\"right_thumb_vector\"] = rtv_geo(s)\n",
    "\n",
    "        half_pose_landmark_movement[i] = arm_position2pose(arms_position_var, trunk_landmarks)\n",
    "\n",
    "    return half_pose_landmark_movement"
   ]
  },
  {
   "cell_type": "code",
   "execution_count": 25,
   "id": "0c6ed049-8be4-41d1-9b44-15b980d68717",
   "metadata": {},
   "outputs": [],
   "source": [
    "pose_landmarks_A = total_results[\"A\"][\"landmarks\"][\"pose\"][27]\n",
    "pose_landmarks_B = total_results[\"M\"][\"landmarks\"][\"pose\"][33]"
   ]
  },
  {
   "cell_type": "code",
   "execution_count": 26,
   "id": "81d613f6-fc6d-422a-88c6-3d3cb8d67ef9",
   "metadata": {},
   "outputs": [
    {
     "data": {
      "text/plain": [
       "25"
      ]
     },
     "execution_count": 26,
     "metadata": {},
     "output_type": "execute_result"
    }
   ],
   "source": [
    "total_results[\"M\"][\"fps\"]"
   ]
  },
  {
   "cell_type": "code",
   "execution_count": 27,
   "id": "9ff77597-f914-4290-868c-51de563fc1dc",
   "metadata": {},
   "outputs": [
    {
     "data": {
      "text/plain": [
       "320"
      ]
     },
     "execution_count": 27,
     "metadata": {},
     "output_type": "execute_result"
    }
   ],
   "source": [
    "total_results[\"M\"][\"frame_width\"]"
   ]
  },
  {
   "cell_type": "code",
   "execution_count": 28,
   "id": "e101ed75-b98b-417a-9199-4155c0592725",
   "metadata": {},
   "outputs": [
    {
     "data": {
      "text/plain": [
       "240"
      ]
     },
     "execution_count": 28,
     "metadata": {},
     "output_type": "execute_result"
    }
   ],
   "source": [
    "total_results[\"M\"][\"frame_height\"]"
   ]
  },
  {
   "cell_type": "code",
   "execution_count": 29,
   "id": "82e73964-b72a-4a91-95b5-75d533f880ec",
   "metadata": {},
   "outputs": [],
   "source": [
    "import mediapipe as mp\n",
    "from mediapipe.framework.formats.landmark_pb2 import NormalizedLandmark, NormalizedLandmarkList\n",
    "import matplotlib.pyplot as plt"
   ]
  },
  {
   "cell_type": "code",
   "execution_count": 49,
   "id": "130a0e3c-b009-4d73-a645-00cd49d80b24",
   "metadata": {},
   "outputs": [
    {
     "data": {
      "text/plain": [
       "array([[ 6.72780156e-01,  5.44262707e-01, -2.10424751e-01],\n",
       "       [ 3.39545101e-01,  5.22103906e-01, -3.50010574e-01],\n",
       "       [ 7.16354668e-01,  9.18015122e-01, -1.33616835e-01],\n",
       "       [ 2.20311850e-01,  8.86362612e-01, -8.42893481e-01],\n",
       "       [ 7.06439592e-01,  1.22795530e+00, -4.11225838e-01],\n",
       "       [ 5.98107159e-01,  8.32388807e-01, -1.57460554e+00],\n",
       "       [ 7.10745102e-01,  1.33158840e+00, -4.83436826e-01],\n",
       "       [ 6.97274466e-01,  8.29391587e-01, -1.72139623e+00],\n",
       "       [ 6.83974986e-01,  1.31478228e+00, -5.33991371e-01],\n",
       "       [ 7.15247106e-01,  7.81820669e-01, -1.68550443e+00],\n",
       "       [ 6.69850131e-01,  1.27530863e+00, -4.42027738e-01],\n",
       "       [ 6.79782225e-01,  7.73968962e-01, -1.56454835e+00],\n",
       "       [ 6.32495999e-01,  1.16682982e+00,  4.21051774e-03],\n",
       "       [ 3.80826294e-01,  1.16008353e+00, -1.71062653e-03]])"
      ]
     },
     "execution_count": 49,
     "metadata": {},
     "output_type": "execute_result"
    }
   ],
   "source": [
    "arm_position2pose(pose2arm_position(pose_landmarks_A[11:25]), pose_landmarks_A[[11, 12, 23, 24],:-1])"
   ]
  },
  {
   "cell_type": "code",
   "execution_count": 63,
   "id": "a51c9a03-1d12-482f-b6e8-a1324093e538",
   "metadata": {},
   "outputs": [
    {
     "data": {
      "text/plain": [
       "mediapipe.framework.formats.landmark_pb2.NormalizedLandmarkList"
      ]
     },
     "execution_count": 63,
     "metadata": {},
     "output_type": "execute_result"
    }
   ],
   "source": [
    "type(landmark_list)"
   ]
  },
  {
   "cell_type": "code",
   "execution_count": 46,
   "id": "d682139b-43b6-4366-8941-4f6c8e360f08",
   "metadata": {},
   "outputs": [
    {
     "data": {
      "text/plain": [
       "<matplotlib.image.AxesImage at 0x1e91ab6bb90>"
      ]
     },
     "execution_count": 46,
     "metadata": {},
     "output_type": "execute_result"
    },
    {
     "data": {
      "image/png": "[encoded data removed]",
      "text/plain": [
       "<Figure size 640x480 with 1 Axes>"
      ]
     },
     "metadata": {},
     "output_type": "display_data"
    }
   ],
   "source": [
    "mp_drawing = mp.solutions.drawing_utils\n",
    "mp_drawing_styles = mp.solutions.drawing_styles\n",
    "mp_pose = mp.solutions.pose\n",
    "\n",
    "# estimated_pose_landmarks_A = pose_landmarks_A.copy()\n",
    "# estimated_pose_landmarks_A[11:25, :-1] = arm_position2pose(pose2arm_position(pose_landmarks_A[11:25]), pose_landmarks_A[[11, 12, 23, 24],:-1])\n",
    "\n",
    "estimated_pose_landmarks_B = pose_landmarks_B.copy()\n",
    "estimated_pose_landmarks_B[11:25, :-1] = arm_position2pose(pose2arm_position(pose_landmarks_B[11:25]), pose_landmarks_A[[11, 12, 23, 24],:-1])\n",
    "\n",
    "landmark_list = NormalizedLandmarkList()\n",
    "# for landmark in estimated_pose_landmarks_A:\n",
    "for landmark in estimated_pose_landmarks_B:\n",
    "    landmark_list.landmark.append(mp.tasks.components.containers.NormalizedLandmark(*landmark).to_pb2())\n",
    "\n",
    "image = np.zeros((240, 320, 3), dtype=np.uint8)\n",
    "mp_drawing.draw_landmarks(\n",
    "    image,\n",
    "    landmark_list,\n",
    "    mp_pose.POSE_CONNECTIONS,\n",
    "    landmark_drawing_spec=mp_drawing_styles.get_default_pose_landmarks_style()\n",
    ")\n",
    "\n",
    "plt.imshow(image)"
   ]
  },
  {
   "cell_type": "code",
   "execution_count": 34,
   "id": "68947586-b8d6-453b-88e3-791677fe6047",
   "metadata": {},
   "outputs": [],
   "source": [
    "half_pose_landmarks_0 = pose_landmarks_A[11:25, :-1] * np.array([320, 240, 320])\n",
    "half_pose_landmarks_1 = pose_landmarks_B[11:25, :-1] * np.array([320, 240, 320])\n",
    "\n",
    "half_pose_landmark_movement = move_arms(half_pose_landmarks_0, half_pose_landmarks_1, 100)"
   ]
  },
  {
   "cell_type": "code",
   "execution_count": 35,
   "id": "b8bdee37-cf29-4901-a8c8-4193a18598ed",
   "metadata": {},
   "outputs": [],
   "source": [
    "import cv2\n",
    "out_video_path = 'prueba1.mp4'\n",
    "\n",
    "out = cv2.VideoWriter(\n",
    "    filename=out_video_path,\n",
    "    fourcc=cv2.VideoWriter_fourcc(*'mp4v'),\n",
    "    fps=25,\n",
    "    frameSize=(320, 240)\n",
    ")\n",
    "\n",
    "pose_landmarks = pose_landmarks_A.copy()\n",
    "\n",
    "mp_drawing = mp.solutions.drawing_utils\n",
    "mp_drawing_styles = mp.solutions.drawing_styles\n",
    "mp_pose = mp.solutions.pose\n",
    "\n",
    "for half_pose_landmark in half_pose_landmark_movement:\n",
    "    pose_landmarks[11:25, :-1] = half_pose_landmark / np.array([320, 240, 320])\n",
    "\n",
    "    landmark_list = NormalizedLandmarkList()\n",
    "    for landmark in pose_landmarks:\n",
    "        landmark_list.landmark.append(mp.tasks.components.containers.NormalizedLandmark(*landmark).to_pb2())\n",
    "\n",
    "    image = np.zeros((240, 320, 3), dtype=np.uint8)\n",
    "    mp_drawing.draw_landmarks(\n",
    "        image,\n",
    "        landmark_list,\n",
    "        mp_pose.POSE_CONNECTIONS,\n",
    "        landmark_drawing_spec=mp_drawing_styles.get_default_pose_landmarks_style()\n",
    "    )\n",
    "\n",
    "    out.write(image)\n",
    "out.release()"
   ]
  }
 ],
 "metadata": {
  "kernelspec": {
   "display_name": "Python 3 (ipykernel)",
   "language": "python",
   "name": "python3"
  },
  "language_info": {
   "codemirror_mode": {
    "name": "ipython",
    "version": 3
   },
   "file_extension": ".py",
   "mimetype": "text/x-python",
   "name": "python",
   "nbconvert_exporter": "python",
   "pygments_lexer": "ipython3",
   "version": "3.11.10"
  }
 },
 "nbformat": 4,
 "nbformat_minor": 5
}
