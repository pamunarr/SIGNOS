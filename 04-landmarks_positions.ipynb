{
 "cells": [
  {
   "cell_type": "code",
   "execution_count": 41,
   "id": "a0d9319f-8e87-46cc-89d6-61557a00f59d",
   "metadata": {},
   "outputs": [],
   "source": [
    "from pickle import load\n",
    "import numpy as np"
   ]
  },
  {
   "cell_type": "code",
   "execution_count": 42,
   "id": "f17aa997-5dc1-40db-9c75-7242d5a727ac",
   "metadata": {},
   "outputs": [],
   "source": [
    "with open(\"../Datos/Procesados/alphabet_landmarks_spread.pkl\", \"rb\") as f:\n",
    "    total_results = load(f)"
   ]
  },
  {
   "cell_type": "code",
   "execution_count": 43,
   "id": "ac7adaba-c893-44b0-8c4c-7baad600643f",
   "metadata": {},
   "outputs": [
    {
     "data": {
      "text/plain": [
       "dict"
      ]
     },
     "execution_count": 43,
     "metadata": {},
     "output_type": "execute_result"
    }
   ],
   "source": [
    "type(total_results)"
   ]
  },
  {
   "cell_type": "code",
   "execution_count": 44,
   "id": "bfa7ec91-df56-4ddf-ba53-020030256a3d",
   "metadata": {},
   "outputs": [
    {
     "data": {
      "text/plain": [
       "dict_keys(['A', 'B', 'C', 'CH', 'D', 'E', 'F', 'G', 'H', 'I', 'J', 'K', 'L', 'LL', 'M', 'N', 'N_', 'O', 'P', 'Q', 'R', 'RR', 'S', 'T', 'U', 'V', 'W', 'X', 'Y', 'Z'])"
      ]
     },
     "execution_count": 44,
     "metadata": {},
     "output_type": "execute_result"
    }
   ],
   "source": [
    "total_results.keys()"
   ]
  },
  {
   "cell_type": "code",
   "execution_count": 45,
   "id": "e73accab-5002-4cb3-8a7c-9cefdb4e3884",
   "metadata": {},
   "outputs": [
    {
     "data": {
      "text/plain": [
       "dict"
      ]
     },
     "execution_count": 45,
     "metadata": {},
     "output_type": "execute_result"
    }
   ],
   "source": [
    "type(total_results[\"A\"])"
   ]
  },
  {
   "cell_type": "code",
   "execution_count": 46,
   "id": "db0df7fd-a087-417b-ac74-9884b4a4512a",
   "metadata": {},
   "outputs": [
    {
     "data": {
      "text/plain": [
       "dict_keys(['n_frames', 'fps', 'frame_width', 'frame_height', 'landmarks'])"
      ]
     },
     "execution_count": 46,
     "metadata": {},
     "output_type": "execute_result"
    }
   ],
   "source": [
    "total_results[\"A\"].keys()"
   ]
  },
  {
   "cell_type": "code",
   "execution_count": 47,
   "id": "f9a8d974-df78-4ebf-9f61-24d58ebf6834",
   "metadata": {},
   "outputs": [
    {
     "data": {
      "text/plain": [
       "dict"
      ]
     },
     "execution_count": 47,
     "metadata": {},
     "output_type": "execute_result"
    }
   ],
   "source": [
    "type(total_results[\"A\"][\"landmarks\"])"
   ]
  },
  {
   "cell_type": "code",
   "execution_count": 48,
   "id": "1f1d76bf-98eb-4c75-8fad-be194b9a2dee",
   "metadata": {},
   "outputs": [
    {
     "data": {
      "text/plain": [
       "dict_keys(['face', 'pose', 'left_hand', 'right_hand'])"
      ]
     },
     "execution_count": 48,
     "metadata": {},
     "output_type": "execute_result"
    }
   ],
   "source": [
    "total_results[\"A\"][\"landmarks\"].keys()"
   ]
  },
  {
   "cell_type": "code",
   "execution_count": 49,
   "id": "16e1a29b-69dd-4ca0-b7eb-7d180fb66f66",
   "metadata": {},
   "outputs": [
    {
     "data": {
      "text/plain": [
       "numpy.ndarray"
      ]
     },
     "execution_count": 49,
     "metadata": {},
     "output_type": "execute_result"
    }
   ],
   "source": [
    "type(total_results[\"A\"][\"landmarks\"][\"face\"])"
   ]
  },
  {
   "cell_type": "code",
   "execution_count": 50,
   "id": "adf4db2d-8997-4e96-86b8-d93d41dce583",
   "metadata": {},
   "outputs": [
    {
     "data": {
      "text/plain": [
       "dtype('float64')"
      ]
     },
     "execution_count": 50,
     "metadata": {},
     "output_type": "execute_result"
    }
   ],
   "source": [
    "total_results[\"A\"][\"landmarks\"][\"face\"].dtype"
   ]
  },
  {
   "cell_type": "code",
   "execution_count": 51,
   "id": "36add400-f453-447e-ae2b-a3c56f2ad785",
   "metadata": {},
   "outputs": [
    {
     "data": {
      "text/plain": [
       "(87, 478, 3)"
      ]
     },
     "execution_count": 51,
     "metadata": {},
     "output_type": "execute_result"
    }
   ],
   "source": [
    "total_results[\"A\"][\"landmarks\"][\"face\"].shape"
   ]
  },
  {
   "cell_type": "code",
   "execution_count": 52,
   "id": "860d3e8a-133d-42bc-8093-9b0060910582",
   "metadata": {},
   "outputs": [],
   "source": [
    "pi = np.float64(np.pi)"
   ]
  },
  {
   "cell_type": "code",
   "execution_count": 53,
   "id": "3adfd5f3-66e9-4d4a-a186-74b348e29408",
   "metadata": {},
   "outputs": [],
   "source": [
    "def azimuth(x, y, z):\n",
    "    \"\"\"\n",
    "    Given a unit 3D real vector, returns the azimuth of the vector.\n",
    "    \"\"\"\n",
    "    if np.isclose(x, 0):\n",
    "        if np.isclose(y, 0):\n",
    "            return np.float64(0)\n",
    "        else:\n",
    "            return np.sign(y) * pi / 2.\n",
    "    else:\n",
    "        aux = np.arctan(y/x)\n",
    "        if x>0:\n",
    "            return aux\n",
    "        elif y>0:\n",
    "            return aux + pi\n",
    "        else:\n",
    "            return aux - pi\n",
    "\n",
    "def colatitude(x, y, z):\n",
    "    \"\"\"\n",
    "    Given a unit 3D real vector, returns the colatitude of the vector.\n",
    "    \"\"\"\n",
    "    return np.arccos(np.clip(z, -1, 1))"
   ]
  },
  {
   "cell_type": "code",
   "execution_count": 54,
   "id": "da4f05e3-c76e-4883-bb80-3812ecb86cde",
   "metadata": {},
   "outputs": [],
   "source": [
    "def max_left_shoulder_rotation(left_shoulder_direction):\n",
    "    \"\"\"\n",
    "    Given the left shoulder direction in the left shoulder basis, returns\n",
    "    the normal vector of the left arm plane when it is maximally rotated.\n",
    "\n",
    "    Input: array of shape (3,).\n",
    "\n",
    "    Output: array of shape (3,).\n",
    "    \"\"\"\n",
    "    x, y, z = left_shoulder_direction\n",
    "\n",
    "    if np.isclose(y, 0):\n",
    "        aux_vector = np.array([0, -1, 0], dtype=np.float64)\n",
    "    elif np.isclose(y, 1):\n",
    "        aux_vector = np.array([0, 0, -1], dtype=np.float64)\n",
    "    elif np.isclose(y, -1):\n",
    "        aux_vector = np.array([0, 0, 1], dtype=np.float64)\n",
    "    else:\n",
    "        aux_vector = np.sign(y) * np.array([x, y - 1./y, z], dtype=np.float64)\n",
    "        aux_vector /= np.linalg.norm(aux_vector)\n",
    "\n",
    "\n",
    "    if np.isclose(y, 1):\n",
    "        angle = pi / 4.\n",
    "    elif np.isclose(y, -1):\n",
    "        angle = 0.\n",
    "    else:\n",
    "        tita = colatitude(x, z, y)\n",
    "        fi = azimuth(x, z, y)\n",
    "        if z<=0:\n",
    "            if y>=0:\n",
    "                angle = (fi + pi / 4.) * (2. * tita / pi - 1.)\n",
    "            else:\n",
    "                angle = (fi + pi / 2.) * (2. * tita / pi - 1.)\n",
    "        else:\n",
    "            if y>=0:\n",
    "                angle = tita / 2. - fi - pi / 4.\n",
    "            else:\n",
    "                angle = - fi + (2. * fi + pi / 2.) * (2. * tita / pi - 1.)\n",
    "\n",
    "\n",
    "    aux_normal = np.cross(aux_vector, left_shoulder_direction)\n",
    "    left_elbow_direction_max_rotation = np.cos(angle) * aux_vector + np.sin(angle) * aux_normal\n",
    "    \n",
    "    return np.cross(left_shoulder_direction, left_elbow_direction_max_rotation)\n",
    "\n",
    "def max_right_shoulder_rotation(right_shoulder_direction):\n",
    "    \"\"\"\n",
    "    Given the right shoulder direction in the right shoulder basis, returns\n",
    "    the normal vector of the right arm plane when it is maximally rotated.\n",
    "\n",
    "    Input: array of shape (3,).\n",
    "\n",
    "    Output: array of shape (3,).\n",
    "    \"\"\"\n",
    "    x, y, z = right_shoulder_direction\n",
    "\n",
    "    if np.isclose(y, 0):\n",
    "        aux_vector = np.array([0, -1, 0], dtype=np.float64)\n",
    "    elif np.isclose(y, 1):\n",
    "        aux_vector = np.array([0, 0, 1], dtype=np.float64)\n",
    "    elif np.isclose(y, -1):\n",
    "        aux_vector = np.array([0, 0, -1], dtype=np.float64)\n",
    "    else:\n",
    "        aux_vector = np.sign(y) * np.array([x, y - 1./y, z], dtype=np.float64)\n",
    "        aux_vector /= np.linalg.norm(aux_vector)\n",
    "\n",
    "\n",
    "    if np.isclose(y, 1):\n",
    "        angle = pi / 4.\n",
    "    elif np.isclose(y, -1):\n",
    "        angle = 0.\n",
    "    else:\n",
    "        tita = colatitude(x, z, y)\n",
    "        fi = azimuth(x, z, y)\n",
    "        if z>=0:\n",
    "            if y>=0:\n",
    "                angle = (pi / 4. - fi) * (2. * tita / pi - 1.)\n",
    "            else:\n",
    "                angle = (pi / 2. - fi) * (2. * tita / pi - 1.)\n",
    "        else:\n",
    "            if y>=0:\n",
    "                angle = tita / 2. + fi - pi / 4.\n",
    "            else:\n",
    "                angle = fi + (pi / 2. - 2. * fi) * (2. * tita / pi - 1.)\n",
    "\n",
    "\n",
    "    aux_normal = np.cross(right_shoulder_direction, aux_vector)\n",
    "    right_elbow_direction_max_rotation = np.cos(angle) * aux_vector + np.sin(angle) * aux_normal\n",
    "    \n",
    "    return np.cross(right_shoulder_direction, right_elbow_direction_max_rotation)"
   ]
  },
  {
   "cell_type": "code",
   "execution_count": 135,
   "id": "5206c5ae-2496-46ea-a3cf-1984168113dc",
   "metadata": {},
   "outputs": [],
   "source": [
    "def pose2arm_position(half_pose_landmarks, frame_width, frame_height):\n",
    "    \"\"\"\n",
    "    Given an array of shape (14, 3) or (14, 4) that describes the pose landmarks of the trunk\n",
    "    of a frame, and the width and height of the frame, returns information of the arms.\n",
    "\n",
    "    Inputs:\n",
    "      - half_pose_landmarks (ndarray of shape (14, 3) or (14, 4))\n",
    "      - frame_width (int)\n",
    "      - frame_height (int)\n",
    "\n",
    "    Output: arms_position_dict (dict)\n",
    "      - left_shoulder_direction (respect to shoulder basis)\n",
    "      - left_upperarm_length\n",
    "      - left_shoulder_rotation [0, pi] (respect to max_left_shoulder_rotation)\n",
    "      - left_elbow_angle\n",
    "      - left_forearm_length\n",
    "      - left_elbow_rotation [-pi/2, pi/2]\n",
    "      - left_wrist_rotation [0, 2pi) (respect to hand basis)\n",
    "      - left_wrist_inclination [0, pi] (respect to hand basis)\n",
    "      - left_pinky_vector (respect to hand basis)\n",
    "      - left_index_vector (respect to hand basis)\n",
    "      - left_thumb_vector (respect to hand basis)\n",
    "      \n",
    "      - right_shoulder_direction (respect to shoulder basis)\n",
    "      - right_upperarm_length\n",
    "      - right_shoulder_rotation [0, pi] (respect to max_right_shoulder_rotation)\n",
    "      - right_elbow_angle\n",
    "      - right_forearm_length\n",
    "      - right_elbow_rotation [-pi/2, pi/2]\n",
    "      - right_wrist_rotation [0, 2pi) (respect to hand basis)\n",
    "      - right_wrist_inclination [0, pi] (respect to hand basis)\n",
    "      - right_pinky_vector (respect to hand basis)\n",
    "      - right_index_vector (respect to hand basis)\n",
    "      - right_thumb_vector (respect to hand basis)\n",
    "    \"\"\"\n",
    "    # Define the scale array\n",
    "    scale = np.array([frame_width, frame_height, frame_width], dtype=np.float64)\n",
    "    # Get the unnormalized half_pose_landmarks\n",
    "    half_pose_landmarks_ = half_pose_landmarks[:, :3] * scale\n",
    "\n",
    "\n",
    "    # Define the left shoulder ortonormal basis\n",
    "    # The first vector is going out of the body in the direction of the shoulders\n",
    "    # The second is going downwards to the hip\n",
    "    # The third is going backwards\n",
    "    left_shoulder_basis = np.empty((3, 3), dtype=np.float64)\n",
    "    left_shoulder_basis[:, 0] = half_pose_landmarks_[0] - half_pose_landmarks_[1]\n",
    "    left_shoulder_basis[:, 2] = np.cross(left_shoulder_basis[:, 0], half_pose_landmarks_[12] - half_pose_landmarks_[0])\n",
    "    left_shoulder_basis[:, 1] = np.cross(left_shoulder_basis[:, 2], left_shoulder_basis[:, 0])\n",
    "    left_shoulder_basis /= np.linalg.norm(left_shoulder_basis, axis=0, keepdims=True)\n",
    "\n",
    "    # Obtain the vector of the left upperarm in the basis of the image\n",
    "    left_upperarm_vector = half_pose_landmarks_[2] - half_pose_landmarks_[0]\n",
    "    # Obtain the length of the left upperarm\n",
    "    left_upperarm_length = np.linalg.norm(left_upperarm_vector)\n",
    "    # Change the basis of the left upperarm normalized vector\n",
    "    left_shoulder_direction = (left_upperarm_vector / left_upperarm_length) @ left_shoulder_basis\n",
    "\n",
    "\n",
    "    # Obtain the vector of the left forearm in the basis of the image\n",
    "    left_forearm_vector = half_pose_landmarks_[4] - half_pose_landmarks_[2]\n",
    "    # Obtain the length of the left forearm\n",
    "    left_forearm_length = np.linalg.norm(left_forearm_vector)\n",
    "    # Obtain the direction of the forearm\n",
    "    left_forearm_direction = left_forearm_vector / left_forearm_length\n",
    "    # Obtain the angle of the elbow\n",
    "    left_elbow_angle = np.pi - np.arccos(np.clip(np.dot(left_upperarm_vector, left_forearm_direction) / left_upperarm_length, -1, 1))\n",
    "\n",
    "    if np.isclose(left_elbow_angle, np.pi, atol=1e-3):\n",
    "        # If the elbow angle is close to pi, set it as pi and we assume that the shoulder is maximally rotated\n",
    "        left_elbow_angle = np.float64(np.pi)\n",
    "        left_shoulder_rotation = np.float64(0)\n",
    "    else:\n",
    "        # Otherwise, obtain the elbow direction on the shoulder basis\n",
    "        left_elbow_direction = left_forearm_direction @ left_shoulder_basis\n",
    "        # Obtain the unit normal vector of the plane containing the left arm\n",
    "        left_arm_plane_normal_vector = np.cross(left_shoulder_direction, left_elbow_direction)\n",
    "        left_arm_plane_normal_vector /= np.linalg.norm(left_arm_plane_normal_vector)\n",
    "        # Obtain the normal vector of the plane of the left arm if the shoulder is maximally rotated\n",
    "        left_arm_max_rotation_plane_normal_vector = max_left_shoulder_rotation(left_shoulder_direction)\n",
    "        # Obtain the shoulder rotation (angle between the two normal vectors)\n",
    "        left_shoulder_rotation = np.arccos(np.clip(np.dot(left_arm_plane_normal_vector, left_arm_max_rotation_plane_normal_vector), -1, 1))\n",
    "\n",
    "\n",
    "    # Define the left hand ortonormal basis\n",
    "    # The first vector is going out of the palm perpendicularly\n",
    "    # The third is going from the wrist to the center of the palm\n",
    "    # The second is going to the pinky making an orthonormal basis\n",
    "    left_hand_basis = np.empty((3, 3), dtype=np.float64)\n",
    "    left_hand_basis[:, 0] = np.cross(half_pose_landmarks_[6] - half_pose_landmarks_[4], half_pose_landmarks_[8] - half_pose_landmarks_[4])\n",
    "    left_hand_basis[:, 2] = (half_pose_landmarks_[6] + half_pose_landmarks_[8])/2. - half_pose_landmarks_[4]\n",
    "    left_hand_basis[:, 1] = np.cross(left_hand_basis[:, 2], left_hand_basis[:, 0])\n",
    "    left_hand_basis /= np.linalg.norm(left_hand_basis, axis=0, keepdims=True)\n",
    "\n",
    "    # Obtain hand vectors in left hand basis\n",
    "    left_pinky_vector = (half_pose_landmarks_[6] - half_pose_landmarks_[4]) @ left_hand_basis\n",
    "    left_index_vector = (half_pose_landmarks_[8] - half_pose_landmarks_[4]) @ left_hand_basis\n",
    "    left_thumb_vector = (half_pose_landmarks_[10] - half_pose_landmarks_[4]) @ left_hand_basis\n",
    "\n",
    "    # Obtain the forearm direction on the left hand basis\n",
    "    left_wrist_direction = - left_forearm_direction @ left_hand_basis\n",
    "    # Obtain the wrist rotation and inclination\n",
    "    left_wrist_rotation = azimuth(*(left_wrist_direction * np.array([1, 1, -1], dtype=np.float64)))\n",
    "    left_wrist_inclination = colatitude(*(left_wrist_direction * np.array([1, 1, -1], dtype=np.float64)))\n",
    "\n",
    "\n",
    "    # Obtain the normal vector of the left palm in the case that the wrist is not inclinated\n",
    "    # For this, rotate (1, 0, 0) `left_wrist_inclination` radians around (sin(`left_wrist_rotation`), -cos(`left_wrist_rotation`), 0) \n",
    "    a = np.cos(left_wrist_inclination)\n",
    "    b = np.sin(left_wrist_inclination)\n",
    "    c = np.cos(left_wrist_rotation)\n",
    "    d = np.sin(left_wrist_rotation)\n",
    "    left_palm_normal_vector_no_wrist_inclination = np.array([1.+(a-1.)*c*c, (a-1.)*c*d, b*c], dtype=np.float64)\n",
    "\n",
    "    if np.isclose(left_elbow_angle, np.pi):\n",
    "        # If the arm is completely extended, obtain the vector that, in the case that the arm is maximally rotated and the wrist not inclinated,\n",
    "        # points from the left wrist to the pinky side perpendicularly to the arm\n",
    "        aux_vector = max_left_shoulder_rotation(left_shoulder_direction) @ left_shoulder_basis.T @ left_hand_basis\n",
    "        # Obtain the normal vector of the left palm in the case that the arm is maximally rotated and the wrist is not inclinated\n",
    "        left_palm_normal_vector_max_arm_rotation = np.cross(left_wrist_direction, aux_vector)\n",
    "        # Obtain the rotation of the arm (shoulder plus elbow)\n",
    "        if np.dot(left_palm_normal_vector_no_wrist_inclination, aux_vector)>=0:\n",
    "            left_arm_rotation = np.arccos(np.clip(\n",
    "                np.dot(left_palm_normal_vector_no_wrist_inclination, left_palm_normal_vector_max_arm_rotation),\n",
    "                -1, 1))\n",
    "        else:\n",
    "            left_arm_rotation = np.float64(2.*np.pi) - np.arccos(np.clip(\n",
    "                np.dot(left_palm_normal_vector_no_wrist_inclination, left_palm_normal_vector_max_arm_rotation),\n",
    "                -1, 1))\n",
    "        # Assumming that the arm rotation is equally distributed between shoulder and elbow, obtain each rotation\n",
    "        left_shoulder_rotation = left_arm_rotation / 2.\n",
    "        left_elbow_rotation = left_arm_rotation - left_shoulder_rotation - np.float64(np.pi/2.)\n",
    "\n",
    "    else:\n",
    "        # Otherwise, obtain the normal vector of the left palm in the case that the elbow is not rotated and the wrist is not inclinated\n",
    "        left_palm_normal_vector_no_elbow_rotation = left_arm_plane_normal_vector @ left_shoulder_basis.T @ left_hand_basis\n",
    "        # Obtain the angle between both normal vectors\n",
    "        aux_vector = np.cross(left_palm_normal_vector_no_elbow_rotation, left_wrist_direction)\n",
    "        left_elbow_rotation = np.sign(np.dot(left_palm_normal_vector_no_wrist_inclination, aux_vector)) * np.arccos(np.clip(\n",
    "            np.dot(left_palm_normal_vector_no_wrist_inclination, left_palm_normal_vector_no_elbow_rotation), -1, 1))\n",
    "\n",
    "\n",
    "\n",
    "    # Same for the right arm\n",
    "\n",
    "    # The difference between the right shoulder basis and the left one is that the third vector\n",
    "    # is going to the front, not backwards\n",
    "    right_shoulder_basis = np.empty((3, 3), dtype=np.float64)\n",
    "    right_shoulder_basis[:, 0] = half_pose_landmarks_[1] - half_pose_landmarks_[0]\n",
    "    right_shoulder_basis[:, 2] = np.cross(right_shoulder_basis[:, 0], half_pose_landmarks_[13] - half_pose_landmarks_[1])\n",
    "    right_shoulder_basis[:, 1] = np.cross(right_shoulder_basis[:, 2], right_shoulder_basis[:, 0])\n",
    "    right_shoulder_basis /= np.linalg.norm(right_shoulder_basis, axis=0, keepdims=True)\n",
    "    \n",
    "    right_upperarm_vector = half_pose_landmarks_[3] - half_pose_landmarks_[1]\n",
    "    right_upperarm_length = np.linalg.norm(right_upperarm_vector)\n",
    "    right_shoulder_direction = (right_upperarm_vector / right_upperarm_length) @ right_shoulder_basis\n",
    "\n",
    "\n",
    "    right_forearm_vector = half_pose_landmarks_[5] - half_pose_landmarks_[3]\n",
    "    right_forearm_length = np.linalg.norm(right_forearm_vector)\n",
    "    right_forearm_direction = right_forearm_vector / right_forearm_length\n",
    "    right_elbow_angle = np.pi - np.arccos(np.clip(np.dot(right_upperarm_vector, right_forearm_direction) / right_upperarm_length, -1, 1))\n",
    "\n",
    "    if np.isclose(right_elbow_angle, np.pi, atol=1e-3):\n",
    "        right_elbow_angle = np.float64(np.pi)\n",
    "        right_shoulder_rotation = np.float64(0)\n",
    "    else:\n",
    "        right_elbow_direction = right_forearm_direction @ right_shoulder_basis\n",
    "        right_arm_plane_normal_vector = np.cross(right_shoulder_direction, right_elbow_direction)\n",
    "        right_arm_plane_normal_vector /= np.linalg.norm(right_arm_plane_normal_vector)\n",
    "        right_arm_max_rotation_plane_normal_vector = max_right_shoulder_rotation(right_shoulder_direction)\n",
    "        right_shoulder_rotation = np.arccos(np.clip(np.dot(right_arm_plane_normal_vector, right_arm_max_rotation_plane_normal_vector), -1, 1))\n",
    "\n",
    "\n",
    "    # The difference between the right hand basis and the left one is that the third vector\n",
    "    # is going to the thumbside, not to the pinkyside\n",
    "    right_hand_basis = np.empty((3, 3), dtype=np.float64)\n",
    "    right_hand_basis[:, 0] = np.cross(half_pose_landmarks_[9] - half_pose_landmarks_[5], half_pose_landmarks_[7] - half_pose_landmarks_[5])\n",
    "    right_hand_basis[:, 2] = (half_pose_landmarks_[7] + half_pose_landmarks_[9])/2. - half_pose_landmarks_[5]\n",
    "    right_hand_basis[:, 1] = np.cross(right_hand_basis[:, 2], right_hand_basis[:, 0])\n",
    "    right_hand_basis /= np.linalg.norm(right_hand_basis, axis=0, keepdims=True)\n",
    "\n",
    "    right_pinky_vector = (half_pose_landmarks_[7] - half_pose_landmarks_[5]) @ right_hand_basis\n",
    "    right_index_vector = (half_pose_landmarks_[9] - half_pose_landmarks_[5]) @ right_hand_basis\n",
    "    right_thumb_vector = (half_pose_landmarks_[11] - half_pose_landmarks_[5]) @ right_hand_basis\n",
    "\n",
    "    right_wrist_direction = - right_forearm_direction @ right_hand_basis\n",
    "    right_wrist_rotation = azimuth(*(right_wrist_direction * np.array([1, 1, -1], dtype=np.float64)))\n",
    "    right_wrist_inclination = colatitude(*(right_wrist_direction * np.array([1, 1, -1], dtype=np.float64)))\n",
    "\n",
    "\n",
    "    a = np.cos(right_wrist_inclination)\n",
    "    b = np.sin(right_wrist_inclination)\n",
    "    c = np.cos(right_wrist_rotation)\n",
    "    d = np.sin(right_wrist_rotation)\n",
    "    right_palm_normal_vector_no_wrist_inclination = np.array([1.+(a-1.)*c*c, (a-1.)*c*d, b*c], dtype=np.float64)\n",
    "    \n",
    "    if np.isclose(right_elbow_angle, np.pi):\n",
    "        aux_vector = max_right_shoulder_rotation(right_shoulder_direction) @ right_shoulder_basis.T @ right_hand_basis\n",
    "        right_palm_normal_vector_max_arm_rotation = np.cross(right_wrist_direction, aux_vector)\n",
    "        if np.dot(right_palm_normal_vector_no_wrist_inclination, aux_vector)<=0:\n",
    "            right_arm_rotation = np.arccos(np.clip(\n",
    "                np.dot(right_palm_normal_vector_no_wrist_inclination, right_palm_normal_vector_max_arm_rotation),\n",
    "                -1, 1))\n",
    "        else:\n",
    "            right_arm_rotation = np.float64(2.*np.pi) - np.arccos(np.clip(\n",
    "                np.dot(right_palm_normal_vector_no_wrist_inclination, right_palm_normal_vector_max_arm_rotation),\n",
    "                -1, 1))\n",
    "        right_shoulder_rotation = right_arm_rotation / 2.\n",
    "        right_elbow_rotation = right_arm_rotation - right_shoulder_rotation - np.float64(np.pi/2.)\n",
    "        \n",
    "    else:\n",
    "        right_palm_normal_vector_no_elbow_rotation = - right_arm_plane_normal_vector @ right_shoulder_basis.T @ right_hand_basis\n",
    "        aux_vector = np.cross(right_palm_normal_vector_no_elbow_rotation, right_wrist_direction)\n",
    "        right_elbow_rotation = - np.sign(np.dot(right_palm_normal_vector_no_wrist_inclination, aux_vector)) * np.arccos(np.clip(\n",
    "            np.dot(right_palm_normal_vector_no_wrist_inclination, right_palm_normal_vector_no_elbow_rotation), -1, 1))\n",
    "\n",
    "\n",
    "    arms_position_dict = {\n",
    "        \"left_shoulder_direction\": left_shoulder_direction,\n",
    "        \"left_upperarm_length\": left_upperarm_length,\n",
    "        \"left_shoulder_rotation\": left_shoulder_rotation,\n",
    "        \"left_elbow_angle\": left_elbow_angle,\n",
    "        \"left_forearm_length\": left_forearm_length,\n",
    "        \"left_elbow_rotation\": left_elbow_rotation,\n",
    "        \"left_wrist_rotation\": left_wrist_rotation,\n",
    "        \"left_wrist_inclination\": left_wrist_inclination,\n",
    "        \"left_pinky_vector\": left_pinky_vector,\n",
    "        \"left_index_vector\": left_index_vector,\n",
    "        \"left_thumb_vector\": left_thumb_vector,\n",
    "\n",
    "        \"right_shoulder_direction\": right_shoulder_direction,\n",
    "        \"right_upperarm_length\": right_upperarm_length,\n",
    "        \"right_shoulder_rotation\": right_shoulder_rotation,\n",
    "        \"right_elbow_angle\": right_elbow_angle,\n",
    "        \"right_forearm_length\": right_forearm_length,\n",
    "        \"right_elbow_rotation\": right_elbow_rotation,\n",
    "        \"right_wrist_rotation\": right_wrist_rotation,\n",
    "        \"right_wrist_inclination\": right_wrist_inclination,\n",
    "        \"right_pinky_vector\": right_pinky_vector,\n",
    "        \"right_index_vector\": right_index_vector,\n",
    "        \"right_thumb_vector\": right_thumb_vector\n",
    "    }\n",
    "    return arms_position_dict"
   ]
  },
  {
   "cell_type": "code",
   "execution_count": 136,
   "id": "005ac786-66a4-4aae-b9ba-03ff64479afe",
   "metadata": {},
   "outputs": [],
   "source": [
    "def arm_position2pose(arms_position_dict, trunk_landmarks, frame_width, frame_height):\n",
    "    \"\"\"\n",
    "    Given a dictionary like the returned by `pose2arm_position`, an array of shape (4, 3) with\n",
    "    the landmarks of the trunk and the width and height of the frame, returns an array of shape\n",
    "    (14, 3) with the landmarks of both arms and the trunk in the following order:\n",
    "      0 - left shoulder\n",
    "      1 - right shoulder\n",
    "      2 - left elbow\n",
    "      3 - right elbow\n",
    "      4 - left wrist\n",
    "      5 - right wrist\n",
    "      6 - left pinky\n",
    "      7 - right pinky\n",
    "      8 - left index\n",
    "      9 - right index\n",
    "      10 - left thumb\n",
    "      11 - right thumb\n",
    "      12 - left hip\n",
    "      13 - right hip\n",
    "\n",
    "    The order of the input landmarks must be:\n",
    "      0 - left shoulder\n",
    "      1 - right shoulder\n",
    "      2 - left hip\n",
    "      3 - right hip\n",
    "\n",
    "    Inputs:\n",
    "      - arms_position_dict (dict)\n",
    "      - trunk_landmarks (array)\n",
    "      - frame_width (int)\n",
    "      - frame_height (int)\n",
    "\n",
    "    Output:\n",
    "      - half_pose_landmarks (array)\n",
    "    \"\"\"\n",
    "    # Define the scale array\n",
    "    scale = np.array([frame_width, frame_height, frame_width], dtype=np.float64)\n",
    "    # Initialize the unnormalized half_pose_landmarks\n",
    "    half_pose_landmarks = np.empty((14, 3), dtype=np.float64)\n",
    "    # Fill the rows of the trunk\n",
    "    half_pose_landmarks[[0, 1, 12, 13]] = trunk_landmarks * scale\n",
    "\n",
    "\n",
    "    # Define the left shoulder basis as in `pose2arm_position`\n",
    "    left_shoulder_basis = np.empty((3, 3), dtype=np.float64)\n",
    "    left_shoulder_basis[:, 0] = half_pose_landmarks[0] - half_pose_landmarks[1]\n",
    "    left_shoulder_basis[:, 2] = np.cross(left_shoulder_basis[:, 0], half_pose_landmarks[12] - half_pose_landmarks[0])\n",
    "    left_shoulder_basis[:, 1] = np.cross(left_shoulder_basis[:, 2], left_shoulder_basis[:, 0])\n",
    "    left_shoulder_basis /= np.linalg.norm(left_shoulder_basis, axis=0, keepdims=True)\n",
    "\n",
    "    # Obtain the left shoulder direction respect to the image basis\n",
    "    left_shoulder_direction_image_basis = arms_position_dict[\"left_shoulder_direction\"] @ left_shoulder_basis.T\n",
    "    # Obtain the landmarks of the left elbow\n",
    "    half_pose_landmarks[2] = arms_position_dict[\"left_upperarm_length\"] * left_shoulder_direction_image_basis + half_pose_landmarks[0]\n",
    "\n",
    "\n",
    "    if np.isclose(arms_position_dict[\"left_elbow_angle\"], np.pi):\n",
    "        # If the left arm is completely extended, obtain the left wrist landmarks\n",
    "        half_pose_landmarks[4] = arms_position_dict[\"left_forearm_length\"] * left_shoulder_direction_image_basis + half_pose_landmarks[2]\n",
    "    else:\n",
    "        # Otherwise, consider the normal vector of the plane of the left arm if the shoulder is maximally rotated\n",
    "        left_arm_max_rotation_plane_normal_vector = max_left_shoulder_rotation(arms_position_dict[\"left_shoulder_direction\"])\n",
    "        # Obtain the cross product between the left shoulder direction and the normal vector\n",
    "        aux_vector = np.cross(arms_position_dict[\"left_shoulder_direction\"], left_arm_max_rotation_plane_normal_vector)\n",
    "        # Using the left shoulder rotation, obtain the normal vector of the plain of the left arm\n",
    "        left_arm_plane_normal_vector = (np.cos(arms_position_dict[\"left_shoulder_rotation\"]) * left_arm_max_rotation_plane_normal_vector +\n",
    "                                        np.sin(arms_position_dict[\"left_shoulder_rotation\"]) * aux_vector)\n",
    "\n",
    "        # Obtain the left forearm direction respect to the image basis\n",
    "        aux_vector = np.cross(left_arm_plane_normal_vector, arms_position_dict[\"left_shoulder_direction\"])\n",
    "        left_forearm_direction = (- np.cos(arms_position_dict[\"left_elbow_angle\"]) * arms_position_dict[\"left_shoulder_direction\"] +\n",
    "                                  np.sin(arms_position_dict[\"left_elbow_angle\"]) * aux_vector) @ left_shoulder_basis.T\n",
    "        # Obtain the left wrist landmarks\n",
    "        half_pose_landmarks[4] = arms_position_dict[\"left_forearm_length\"] * left_forearm_direction + half_pose_landmarks[2]\n",
    "\n",
    "\n",
    "    if np.isclose(arms_position_dict[\"left_elbow_angle\"], np.pi):\n",
    "        # If the arm is completely extended, obtain the total rotation of the left arm\n",
    "        left_arm_rotation = arms_position_dict[\"left_shoulder_rotation\"] + arms_position_dict[\"left_elbow_rotation\"] + np.float64(np.pi/2.)\n",
    "\n",
    "        # Obtain the vector that, in the case that the arm is maximally rotated and the wrist not inclinated,\n",
    "        # points from the left wrist to the pinky side perpendicularly to the arm\n",
    "        aux_vector = max_left_shoulder_rotation(arms_position_dict[\"left_shoulder_direction\"]) @ left_shoulder_basis.T\n",
    "        # Obtain the normal vector of the left palm in the case that the arm is maximally rotated and the wrist is not inclinated\n",
    "        left_palm_normal_vector_max_arm_rotation = np.cross(aux_vector, left_forearm_direction)\n",
    "\n",
    "        # Obtain the normal vector of the left palm in the case that the arm is not inclinated\n",
    "        left_palm_normal_vector_no_wrist_inclination = (np.cos(left_arm_rotation) * left_palm_normal_vector_max_arm_rotation +\n",
    "                                                        np.sin(left_arm_rotation) * aux_vector)\n",
    "    else:\n",
    "        # Otherwise, obtain the normal vector of the left palm in the case that the elbow is not rotated and the wrist is not inclinated\n",
    "        left_palm_normal_vector_no_elbow_rotation = left_arm_plane_normal_vector @ left_shoulder_basis.T\n",
    "        aux_vector = np.cross(left_forearm_direction, left_palm_normal_vector_no_elbow_rotation)\n",
    "\n",
    "        # Obtain the normal vector of the left palm in the case that the arm is not inclinated\n",
    "        left_palm_normal_vector_no_wrist_inclination = (np.cos(arms_position_dict[\"left_elbow_rotation\"]) * left_palm_normal_vector_no_elbow_rotation +\n",
    "                                                       np.sin(arms_position_dict[\"left_elbow_rotation\"]) * aux_vector)\n",
    "\n",
    "    # Rename the vectors of the left hand basis if the wrist is not inclinated\n",
    "    v1 = left_palm_normal_vector_no_wrist_inclination\n",
    "    v3 = left_forearm_direction\n",
    "    v2 = np.cross(v3, v1)\n",
    "\n",
    "    # Obtain the left hand basis\n",
    "    # For this, rotate the latter basis -`left_wrist_inclination` radians around (sin(`left_wrist_rotation`), -cos(`left_wrist_rotation`), 0)\n",
    "    a = np.cos(arms_position_dict[\"left_wrist_inclination\"])\n",
    "    b = np.sin(arms_position_dict[\"left_wrist_inclination\"])\n",
    "    c = np.cos(arms_position_dict[\"left_wrist_rotation\"])\n",
    "    d = np.sin(arms_position_dict[\"left_wrist_rotation\"])\n",
    "    left_hand_basis = np.empty((3, 3), dtype=np.float64)\n",
    "    left_hand_basis[:, 0] = (1.+(a-1.)*c*c) * v1 + (a-1.)*c*d * v2 - b*c * v3\n",
    "    left_hand_basis[:, 1] = (1.+(a-1.)*d*d) * v2 + (a-1.)*c*d * v1 - b*d * v3\n",
    "    left_hand_basis[:, 2] = b*c * v1 + b*d * v2 + a * v3\n",
    "\n",
    "    # Obtain the pinky, index and thumb landmarks\n",
    "    half_pose_landmarks[6] = arms_position_dict[\"left_pinky_vector\"] @ left_hand_basis.T + half_pose_landmarks[4]\n",
    "    half_pose_landmarks[8] = arms_position_dict[\"left_index_vector\"] @ left_hand_basis.T + half_pose_landmarks[4]\n",
    "    half_pose_landmarks[10] = arms_position_dict[\"left_thumb_vector\"] @ left_hand_basis.T + half_pose_landmarks[4]\n",
    "\n",
    "\n",
    "\n",
    "    # Same for the right arm\n",
    "\n",
    "    right_shoulder_basis = np.empty((3, 3), dtype=np.float64)\n",
    "    right_shoulder_basis[:, 0] = half_pose_landmarks[1] - half_pose_landmarks[0]\n",
    "    right_shoulder_basis[:, 2] = np.cross(right_shoulder_basis[:, 0], half_pose_landmarks[13] - half_pose_landmarks[1])\n",
    "    right_shoulder_basis[:, 1] = np.cross(right_shoulder_basis[:, 2], right_shoulder_basis[:, 0])\n",
    "    right_shoulder_basis /= np.linalg.norm(right_shoulder_basis, axis=0, keepdims=True)\n",
    "\n",
    "    right_shoulder_direction_image_basis = arms_position_dict[\"right_shoulder_direction\"] @ right_shoulder_basis.T\n",
    "    half_pose_landmarks[3] = arms_position_dict[\"right_upperarm_length\"] * right_shoulder_direction_image_basis + half_pose_landmarks[1]\n",
    "\n",
    "\n",
    "    if np.isclose(arms_position_dict[\"right_elbow_angle\"], np.pi):\n",
    "        half_pose_landmarks[5] = arms_position_dict[\"right_forearm_length\"] * right_shoulder_direction_image_basis + half_pose_landmarks[3]\n",
    "    else:\n",
    "        right_arm_max_rotation_plane_normal_vector = max_right_shoulder_rotation(arms_position_dict[\"right_shoulder_direction\"])\n",
    "        aux_vector = np.cross(right_arm_max_rotation_plane_normal_vector, arms_position_dict[\"right_shoulder_direction\"])\n",
    "        right_arm_plane_normal_vector = (np.cos(arms_position_dict[\"right_shoulder_rotation\"]) * right_arm_max_rotation_plane_normal_vector +\n",
    "                                         np.sin(arms_position_dict[\"right_shoulder_rotation\"]) * aux_vector)\n",
    "\n",
    "        aux_vector = np.cross(right_arm_plane_normal_vector, arms_position_dict[\"right_shoulder_direction\"])\n",
    "        right_forearm_direction = (- np.cos(arms_position_dict[\"right_elbow_angle\"]) * arms_position_dict[\"right_shoulder_direction\"] +\n",
    "                                   np.sin(arms_position_dict[\"right_elbow_angle\"]) * aux_vector) @ right_shoulder_basis.T\n",
    "        half_pose_landmarks[5] = arms_position_dict[\"right_forearm_length\"] * right_forearm_direction + half_pose_landmarks[3]\n",
    "\n",
    "    \n",
    "    if np.isclose(arms_position_dict[\"right_elbow_angle\"], np.pi):\n",
    "        right_arm_rotation = arms_position_dict[\"right_shoulder_rotation\"] + arms_position_dict[\"right_elbow_rotation\"] + np.float64(np.pi/2.)\n",
    "\n",
    "        aux_vector = max_right_shoulder_rotation(arms_position_dict[\"right_shoulder_direction\"]) @ right_shoulder_basis.T\n",
    "        right_palm_normal_vector_max_arm_rotation = np.cross(aux_vector, right_forearm_direction)\n",
    "\n",
    "        right_palm_normal_vector_no_wrist_inclination = (np.cos(right_arm_rotation) * right_palm_normal_vector_max_arm_rotation -\n",
    "                                                       np.sin(right_arm_rotation) * aux_vector)\n",
    "    else:\n",
    "        right_palm_normal_vector_no_elbow_rotation = - right_arm_plane_normal_vector @ right_shoulder_basis.T\n",
    "        aux_vector = np.cross(right_forearm_direction, right_palm_normal_vector_no_elbow_rotation)\n",
    "\n",
    "        right_palm_normal_vector_no_wrist_inclination = (np.cos(arms_position_dict[\"right_elbow_rotation\"]) * right_palm_normal_vector_no_elbow_rotation -\n",
    "                                                       np.sin(arms_position_dict[\"right_elbow_rotation\"]) * aux_vector)\n",
    "\n",
    "    v1 = right_palm_normal_vector_no_wrist_inclination\n",
    "    v3 = right_forearm_direction\n",
    "    v2 = np.cross(v3, v1)\n",
    "\n",
    "    a = np.cos(arms_position_dict[\"right_wrist_inclination\"])\n",
    "    b = np.sin(arms_position_dict[\"right_wrist_inclination\"])\n",
    "    c = np.cos(arms_position_dict[\"right_wrist_rotation\"])\n",
    "    d = np.sin(arms_position_dict[\"right_wrist_rotation\"])\n",
    "    right_hand_basis = np.empty((3, 3), dtype=np.float64)\n",
    "    right_hand_basis[:, 0] = (1.+(a-1.)*c*c) * v1 + (a-1.)*c*d * v2 - b*c * v3\n",
    "    right_hand_basis[:, 1] = (1.+(a-1.)*d*d) * v2 + (a-1.)*c*d * v1 - b*d * v3\n",
    "    right_hand_basis[:, 2] = b*c * v1 + b*d * v2 + a * v3\n",
    "\n",
    "    half_pose_landmarks[7] = arms_position_dict[\"right_pinky_vector\"] @ right_hand_basis.T + half_pose_landmarks[5]\n",
    "    half_pose_landmarks[9] = arms_position_dict[\"right_index_vector\"] @ right_hand_basis.T + half_pose_landmarks[5]\n",
    "    half_pose_landmarks[11] = arms_position_dict[\"right_thumb_vector\"] @ right_hand_basis.T + half_pose_landmarks[5]\n",
    "\n",
    "\n",
    "    # Return the normalized half_pose_landmarks\n",
    "    return half_pose_landmarks / scale"
   ]
  },
  {
   "cell_type": "code",
   "execution_count": 137,
   "id": "5b6255e4-2ceb-4464-acf5-9df60615bc9c",
   "metadata": {},
   "outputs": [],
   "source": [
    "half_pose_landmarks = np.array([\n",
    "    [0.8, 0.6875, 0],\n",
    "    [0.25, 0.6875, 0],\n",
    "    [0.85, 0.3125, 0],\n",
    "    [0.05, 0.5, 0.55],\n",
    "    [0.675, 0.125, 0.05],\n",
    "    [0.2, 0.8125, 0.25],\n",
    "    [0.6, 0.11, 0.05],\n",
    "    [0.3, 0.82, 0.24],\n",
    "    [0.6, 0.14, 0.05],\n",
    "    [0.275, 0.85, 0.22],\n",
    "    [0.65, 0.16, 0.04],\n",
    "    [0.26, 0.84, 0.2],\n",
    "    [0.7, 0.0625, 0],\n",
    "    [0.4, 0.0625, 0]\n",
    "], dtype=np.float64)"
   ]
  },
  {
   "cell_type": "code",
   "execution_count": 138,
   "id": "8b4b45da-434a-4f97-8462-7aa48ce51afb",
   "metadata": {},
   "outputs": [],
   "source": [
    "position_info = pose2arm_position(half_pose_landmarks, 20, 16)"
   ]
  },
  {
   "cell_type": "code",
   "execution_count": 139,
   "id": "baef9f6a-3daf-4510-bef7-484ea10d3655",
   "metadata": {},
   "outputs": [
    {
     "data": {
      "text/plain": [
       "{'left_shoulder_direction': array([0.16439899, 0.98639392, 0.        ]),\n",
       " 'left_upperarm_length': 6.082762530298219,\n",
       " 'left_shoulder_rotation': 2.190547219045376,\n",
       " 'left_elbow_angle': 2.100597145623251,\n",
       " 'left_forearm_length': 4.716990566028302,\n",
       " 'left_elbow_rotation': 0.048105747159620044,\n",
       " 'left_wrist_rotation': -1.2490457723982544,\n",
       " 'left_wrist_inclination': 0.7347497926658118,\n",
       " 'left_pinky_vector': array([0.  , 0.24, 1.5 ]),\n",
       " 'left_index_vector': array([ 0.  , -0.24,  1.5 ]),\n",
       " 'left_thumb_vector': array([ 0.2 , -0.56,  0.5 ]),\n",
       " 'right_shoulder_direction': array([0.33104236, 0.24828177, 0.91036648]),\n",
       " 'right_upperarm_length': 12.083045973594572,\n",
       " 'right_shoulder_rotation': 0.30635174807730553,\n",
       " 'right_elbow_angle': 0.4028797247081637,\n",
       " 'right_forearm_length': 8.366600265340756,\n",
       " 'right_elbow_rotation': -1.7252435001066262,\n",
       " 'right_wrist_rotation': -1.736230538634735,\n",
       " 'right_wrist_inclination': 0.9059813241888558,\n",
       " 'right_pinky_vector': array([ 0.        , -0.37171881,  1.97894546]),\n",
       " 'right_index_vector': array([-1.11022302e-16,  3.71718812e-01,  1.68280276e+00]),\n",
       " 'right_thumb_vector': array([0.41612157, 0.59345191, 1.45198405])}"
      ]
     },
     "execution_count": 139,
     "metadata": {},
     "output_type": "execute_result"
    }
   ],
   "source": [
    "position_info"
   ]
  },
  {
   "cell_type": "code",
   "execution_count": 140,
   "id": "a3e11c15-20c0-488c-a865-1c5622142d06",
   "metadata": {},
   "outputs": [],
   "source": [
    "estimated_half_pose_landmarks = arm_position2pose(position_info, half_pose_landmarks[[0, 1, 12, 13]], 20, 16)"
   ]
  },
  {
   "cell_type": "code",
   "execution_count": 141,
   "id": "49a371bd-2290-418c-833d-77f950634a63",
   "metadata": {},
   "outputs": [
    {
     "data": {
      "text/plain": [
       "array([[0.8   , 0.6875, 0.    ],\n",
       "       [0.25  , 0.6875, 0.    ],\n",
       "       [0.85  , 0.3125, 0.    ],\n",
       "       [0.05  , 0.5   , 0.55  ],\n",
       "       [0.675 , 0.125 , 0.05  ],\n",
       "       [0.2   , 0.8125, 0.25  ],\n",
       "       [0.6   , 0.11  , 0.05  ],\n",
       "       [0.3   , 0.82  , 0.24  ],\n",
       "       [0.6   , 0.14  , 0.05  ],\n",
       "       [0.275 , 0.85  , 0.22  ],\n",
       "       [0.65  , 0.16  , 0.04  ],\n",
       "       [0.26  , 0.84  , 0.2   ],\n",
       "       [0.7   , 0.0625, 0.    ],\n",
       "       [0.4   , 0.0625, 0.    ]])"
      ]
     },
     "execution_count": 141,
     "metadata": {},
     "output_type": "execute_result"
    }
   ],
   "source": [
    "estimated_half_pose_landmarks"
   ]
  },
  {
   "cell_type": "code",
   "execution_count": 142,
   "id": "6cc28eee-aa1d-4bc5-b2af-3fad27adc446",
   "metadata": {},
   "outputs": [
    {
     "data": {
      "text/plain": [
       "array([[0.8   , 0.6875, 0.    ],\n",
       "       [0.25  , 0.6875, 0.    ],\n",
       "       [0.85  , 0.3125, 0.    ],\n",
       "       [0.05  , 0.5   , 0.55  ],\n",
       "       [0.675 , 0.125 , 0.05  ],\n",
       "       [0.2   , 0.8125, 0.25  ],\n",
       "       [0.6   , 0.11  , 0.05  ],\n",
       "       [0.3   , 0.82  , 0.24  ],\n",
       "       [0.6   , 0.14  , 0.05  ],\n",
       "       [0.275 , 0.85  , 0.22  ],\n",
       "       [0.65  , 0.16  , 0.04  ],\n",
       "       [0.26  , 0.84  , 0.2   ],\n",
       "       [0.7   , 0.0625, 0.    ],\n",
       "       [0.4   , 0.0625, 0.    ]])"
      ]
     },
     "execution_count": 142,
     "metadata": {},
     "output_type": "execute_result"
    }
   ],
   "source": [
    "half_pose_landmarks"
   ]
  },
  {
   "cell_type": "code",
   "execution_count": 143,
   "id": "dbf6efcf-a216-4e23-9b22-a5fe4d0f94d9",
   "metadata": {},
   "outputs": [
    {
     "data": {
      "text/plain": [
       "array([[ 0.00000000e+00,  0.00000000e+00,  0.00000000e+00],\n",
       "       [ 0.00000000e+00,  0.00000000e+00,  0.00000000e+00],\n",
       "       [ 0.00000000e+00,  0.00000000e+00,  0.00000000e+00],\n",
       "       [ 0.00000000e+00,  0.00000000e+00,  0.00000000e+00],\n",
       "       [ 0.00000000e+00,  0.00000000e+00, -5.55111512e-17],\n",
       "       [ 1.11022302e-16,  0.00000000e+00,  5.55111512e-17],\n",
       "       [ 0.00000000e+00, -8.32667268e-17, -2.42861287e-16],\n",
       "       [ 5.55111512e-17, -1.11022302e-16,  5.55111512e-17],\n",
       "       [ 0.00000000e+00, -8.32667268e-17, -3.19189120e-16],\n",
       "       [ 1.11022302e-16,  0.00000000e+00,  2.77555756e-17],\n",
       "       [ 0.00000000e+00, -8.32667268e-17, -2.22044605e-16],\n",
       "       [ 1.11022302e-16,  0.00000000e+00,  5.55111512e-17],\n",
       "       [ 0.00000000e+00,  0.00000000e+00,  0.00000000e+00],\n",
       "       [ 0.00000000e+00,  0.00000000e+00,  0.00000000e+00]])"
      ]
     },
     "execution_count": 143,
     "metadata": {},
     "output_type": "execute_result"
    }
   ],
   "source": [
    "half_pose_landmarks - estimated_half_pose_landmarks"
   ]
  },
  {
   "cell_type": "code",
   "execution_count": 144,
   "id": "298dba22-fe1b-460d-998d-623ce808f808",
   "metadata": {},
   "outputs": [],
   "source": [
    "def move_arms(half_pose_landmarks_0, half_pose_landmarks_1, N):\n",
    "    \"\"\"\n",
    "    Given two arrays of shape (14, 3) representing two \"half pose landmarks\" and an integer N,\n",
    "    returns an array of shape (N+1, 14, 3), where each row represents a \"half pose landmark\",\n",
    "    and it represents the movement between the two input arrays.\n",
    "\n",
    "    Inputs:\n",
    "      - half_pose_landmarks_0 (array of shape (14, 3)): initial position\n",
    "      - half_pose_landmarks_1 (array of shape (14, 3)): final position\n",
    "      - N (int): number of steps between initial and final positions\n",
    "\n",
    "    Output: (array of shape (N+1, 14, 3))\n",
    "    \"\"\"\n",
    "    arms_position_0 = pose2arm_position(half_pose_landmarks_0)\n",
    "    arms_position_1 = pose2arm_position(half_pose_landmarks_1)\n",
    "\n",
    "    def lin_mov(t, a, b):\n",
    "        return a + t*(b-a)\n",
    "    \n",
    "    # left shoulder direction\n",
    "    lsd_angle = np.arccos(np.clip(np.dot(arms_position_0[\"left_shoulder_direction\"], arms_position_1[\"left_shoulder_direction\"]), -1, 1))\n",
    "    if np.isclose(lsd_angle, 0):\n",
    "        def lsd_geo(t):\n",
    "            return arms_position_0[\"left_shoulder_direction\"]\n",
    "    elif np.isclose(lsd_angle, np.pi):\n",
    "        # Pasando por arriba\n",
    "        v = arms_position_0[\"left_shoulder_direction\"][1] * arms_position_0[\"left_shoulder_direction\"]\n",
    "        v[1] -= 1\n",
    "        v /= np.sqrt(-v[1])\n",
    "        def lsd_geo(t):\n",
    "            return np.cos(np.pi * t) * arms_position_0[\"left_shoulder_direction\"] + np.sin(np.pi * t) * v\n",
    "    else:\n",
    "        lsd_cte1 = 1. / np.sin(lsd_angle)\n",
    "        lsd_cte2 = lsd_cte1 * np.cos(lsd_angle)\n",
    "        az_0 = azimuth(*(arms_position_0[\"left_shoulder_direction\"][[0, 2, 1]] * np.array([-1, 1, 1])))\n",
    "        az_1 = azimuth(*(arms_position_1[\"left_shoulder_direction\"][[0, 2, 1]] * np.array([-1, 1, 1])))\n",
    "        if ((arms_position_0[\"left_shoulder_direction\"][2] * arms_position_1[\"left_shoulder_direction\"][2] < 0) and\n",
    "           (az_1 > az_0 + np.float64(np.pi)) or (az_1 < az_0 - np.float64(np.pi))):\n",
    "            def lsd_geo(t):\n",
    "                return ((np.cos((2.*np.pi-lsd_angle)*t) + np.sin((2.*np.pi-lsd_angle)*t)*lsd_cte2) * arms_position_0[\"left_shoulder_direction\"] -\n",
    "                       np.sin((2.*np.pi-lsd_angle)*t)*lsd_cte1 * arms_position_1[\"left_shoulder_direction\"])\n",
    "        else:\n",
    "            def lsd_geo(t):\n",
    "                return ((np.cos(lsd_angle*t) - np.sin(lsd_angle*t)*lsd_cte2) * arms_position_0[\"left_shoulder_direction\"] +\n",
    "                        np.sin(lsd_angle*t)*lsd_cte1 * arms_position_1[\"left_shoulder_direction\"])\n",
    "\n",
    "    # right shoulder direction\n",
    "    rsd_angle = np.arccos(np.clip(np.dot(arms_position_0[\"right_shoulder_direction\"], arms_position_1[\"right_shoulder_direction\"]), -1, 1))\n",
    "    if np.isclose(rsd_angle, 0):\n",
    "        def lsd_geo(t):\n",
    "            return arms_position_0[\"right_shoulder_direction\"]\n",
    "    elif np.isclose(lsd_angle, np.pi):\n",
    "        # Pasando por arriba\n",
    "        v = arms_position_0[\"right_shoulder_direction\"][1] * arms_position_0[\"right_shoulder_direction\"]\n",
    "        v[1] -= 1\n",
    "        v /= np.sqrt(-v[1])\n",
    "        def rsd_geo(t):\n",
    "            return np.cos(np.pi * t) * arms_position_0[\"right_shoulder_direction\"] + np.sin(np.pi * t) * v\n",
    "    else:\n",
    "        rsd_cte1 = 1. / np.sin(rsd_angle)\n",
    "        rsd_cte2 = rsd_cte1 * np.cos(rsd_angle)\n",
    "        az_0 = azimuth(*(arms_position_0[\"right_shoulder_direction\"][[0, 2, 1]] * np.array([-1, 1, 1])))\n",
    "        az_1 = azimuth(*(arms_position_1[\"right_shoulder_direction\"][[0, 2, 1]] * np.array([-1, 1, 1])))\n",
    "        if ((arms_position_0[\"right_shoulder_direction\"][2] * arms_position_1[\"right_shoulder_direction\"][2] < 0) and\n",
    "           (az_1 > az_0 + np.float64(np.pi)) or (az_1 < az_0 - np.float64(np.pi))):\n",
    "            def rsd_geo(t):\n",
    "                return ((np.cos((2.*np.pi-rsd_angle)*t) + np.sin((2.*np.pi-rsd_angle)*t)*rsd_cte2) * arms_position_0[\"right_shoulder_direction\"] -\n",
    "                       np.sin((2.*np.pi-rsd_angle)*t)*rsd_cte1 * arms_position_1[\"right_shoulder_direction\"])\n",
    "        else:\n",
    "            def rsd_geo(t):\n",
    "                return ((np.cos(rsd_angle*t) - np.sin(rsd_angle*t)*rsd_cte2) * arms_position_0[\"right_shoulder_direction\"] +\n",
    "                        np.sin(rsd_angle*t)*rsd_cte1 * arms_position_1[\"right_shoulder_direction\"])\n",
    "\n",
    "\n",
    "    # left wrist rotation and inclination\n",
    "    if np.isclose(arms_position_0[\"left_wrist_rotation\"], arms_position_1[\"left_wrist_rotation\"], atol=1e-2):\n",
    "        def lw_mov(t):\n",
    "            return (lin_mov(t, arms_position_0[\"left_wrist_rotation\"], arms_position_1[\"left_wrist_rotation\"]),\n",
    "                   lin_mov(t, arms_position_0[\"left_wrist_inclination\"], arms_position_1[\"left_wrist_inclination\"]))\n",
    "    else:\n",
    "        total_desp = arms_position_0[\"left_wrist_inclination\"] + arms_position_1[\"left_wrist_inclination\"]\n",
    "        def lw_mov(t):\n",
    "            if t * total_desp < arms_position_0[\"left_wrist_inclination\"]:\n",
    "                return arms_position_0[\"left_wrist_rotation\"], arms_position_0[\"left_wrist_inclination\"] - total_desp * t\n",
    "            else:\n",
    "                return arms_position_1[\"left_wrist_rotation\"], - arms_position_0[\"left_wrist_inclination\"] + total_desp * t\n",
    "\n",
    "    # right wrist rotation and inclination\n",
    "    if np.isclose(arms_position_0[\"right_wrist_rotation\"], arms_position_1[\"right_wrist_rotation\"], atol=1e-2):\n",
    "        def rw_mov(t):\n",
    "            return (lin_mov(t, arms_position_0[\"right_wrist_rotation\"], arms_position_1[\"right_wrist_rotation\"]),\n",
    "                   lin_mov(t, arms_position_0[\"right_wrist_inclination\"], arms_position_1[\"right_wrist_inclination\"]))\n",
    "    else:\n",
    "        total_desp = arms_position_0[\"right_wrist_inclination\"] + arms_position_1[\"right_wrist_inclination\"]\n",
    "        def rw_mov(t):\n",
    "            if t * total_desp < arms_position_0[\"right_wrist_inclination\"]:\n",
    "                return arms_position_0[\"right_wrist_rotation\"], arms_position_0[\"right_wrist_inclination\"] - total_desp * t\n",
    "            else:\n",
    "                return arms_position_1[\"right_wrist_rotation\"], - arms_position_0[\"right_wrist_inclination\"] + total_desp * t\n",
    "\n",
    "\n",
    "    # left thumb\n",
    "    left_thumb_length = np.linalg.norm(arms_position_0[\"left_thumb_vector\"])\n",
    "    left_thumb_direction_0 = arms_position_0[\"left_thumb_vector\"] / left_thumb_length\n",
    "    left_thumb_direction_1 = arms_position_1[\"left_thumb_vector\"] / np.linalg.norm(arms_position_1[\"left_thumb_vector\"])\n",
    "    ltv_angle = np.arccos(np.clip(np.dot(left_thumb_direction_0, left_thumb_direction_1), -1, 1))\n",
    "    if np.isclose(ltv_angle, 0):\n",
    "        def ltv_geo(t):\n",
    "            return arms_position_0[\"left_thumb_vector\"]\n",
    "    else:\n",
    "        ltv_cte1 = 1. / np.sin(ltv_angle)\n",
    "        ltv_cte2 = ltv_cte1 * np.cos(ltv_angle)\n",
    "        def ltv_geo(t):\n",
    "            return left_thumb_length * ((np.cos(ltv_angle*t) - np.sin(ltv_angle*t)*ltv_cte2) * left_thumb_direction_0 +\n",
    "                                        np.sin(ltv_angle*t)*ltv_cte1 * left_thumb_direction_1)\n",
    "\n",
    "    # right thumb\n",
    "    right_thumb_length = np.linalg.norm(arms_position_0[\"right_thumb_vector\"])\n",
    "    right_thumb_direction_0 = arms_position_0[\"right_thumb_vector\"] / right_thumb_length\n",
    "    right_thumb_direction_1 = arms_position_1[\"right_thumb_vector\"] / np.linalg.norm(arms_position_1[\"right_thumb_vector\"])\n",
    "    rtv_angle = np.arccos(np.clip(np.dot(right_thumb_direction_0, right_thumb_direction_1), -1, 1))\n",
    "    if np.isclose(rtv_angle, 0):\n",
    "        def rtv_geo(t):\n",
    "            return arms_position_0[\"right_thumb_vector\"]\n",
    "    else:\n",
    "        rtv_cte1 = 1. / np.sin(rtv_angle)\n",
    "        rtv_cte2 = rtv_cte1 * np.cos(rtv_angle)\n",
    "        def rtv_geo(t):\n",
    "            return right_thumb_length * ((np.cos(rtv_angle*t) - np.sin(rtv_angle*t)*rtv_cte2) * right_thumb_direction_0 +\n",
    "                                        np.sin(rtv_angle*t)*rtv_cte1 * right_thumb_direction_1)\n",
    "\n",
    "\n",
    "    trunk_landmarks = half_pose_landmarks_0[[0, 1, 12, 13]]\n",
    "    arms_position_var = arms_position_0.copy()\n",
    "\n",
    "    def movement_progress(t):\n",
    "        return (3. - 2.*t)*t*t\n",
    "    \n",
    "    half_pose_landmark_movement = np.empty((N+1, 14, 3), dtype=np.float64)\n",
    "    half_pose_landmark_movement[0] = arm_position2pose(arms_position_var, trunk_landmarks)\n",
    "    \n",
    "    for i in range(1, N+1):\n",
    "        t = i/N\n",
    "        s = movement_progress(t)\n",
    "\n",
    "\n",
    "        arms_position_var[\"left_shoulder_direction\"] = lsd_geo(s)\n",
    "        arms_position_var[\"left_shoulder_rotation\"] = lin_mov(s, arms_position_0[\"left_shoulder_rotation\"], arms_position_1[\"left_shoulder_rotation\"])\n",
    "        arms_position_var[\"left_elbow_angle\"] = lin_mov(s, arms_position_0[\"left_elbow_angle\"], arms_position_1[\"left_elbow_angle\"])\n",
    "        arms_position_var[\"left_elbow_rotation\"] = lin_mov(s, arms_position_0[\"left_elbow_rotation\"], arms_position_1[\"left_elbow_rotation\"])\n",
    "        arms_position_var[\"left_wrist_rotation\"], arms_position_var[\"left_wrist_inclination\"] = lw_mov(s)\n",
    "        arms_position_var[\"left_thumb_vector\"] = ltv_geo(s)\n",
    "\n",
    "        arms_position_var[\"right_shoulder_direction\"] = rsd_geo(s)\n",
    "        arms_position_var[\"right_shoulder_rotation\"] = lin_mov(s, arms_position_0[\"right_shoulder_rotation\"], arms_position_1[\"right_shoulder_rotation\"])\n",
    "        arms_position_var[\"right_elbow_angle\"] = lin_mov(s, arms_position_0[\"right_elbow_angle\"], arms_position_1[\"right_elbow_angle\"])\n",
    "        arms_position_var[\"right_elbow_rotation\"] = lin_mov(s, arms_position_0[\"right_elbow_rotation\"], arms_position_1[\"right_elbow_rotation\"])\n",
    "        arms_position_var[\"right_wrist_rotation\"], arms_position_var[\"right_wrist_inclination\"] = rw_mov(s)\n",
    "        arms_position_var[\"right_thumb_vector\"] = rtv_geo(s)\n",
    "\n",
    "        half_pose_landmark_movement[i] = arm_position2pose(arms_position_var, trunk_landmarks)\n",
    "\n",
    "    return half_pose_landmark_movement"
   ]
  },
  {
   "cell_type": "code",
   "execution_count": 165,
   "id": "0c6ed049-8be4-41d1-9b44-15b980d68717",
   "metadata": {},
   "outputs": [],
   "source": [
    "pose_landmarks_A = total_results[\"A\"][\"landmarks\"][\"pose\"][27]\n",
    "pose_landmarks_B = total_results[\"B\"][\"landmarks\"][\"pose\"][33]"
   ]
  },
  {
   "cell_type": "code",
   "execution_count": 146,
   "id": "81d613f6-fc6d-422a-88c6-3d3cb8d67ef9",
   "metadata": {},
   "outputs": [
    {
     "data": {
      "text/plain": [
       "25"
      ]
     },
     "execution_count": 146,
     "metadata": {},
     "output_type": "execute_result"
    }
   ],
   "source": [
    "total_results[\"M\"][\"fps\"]"
   ]
  },
  {
   "cell_type": "code",
   "execution_count": 147,
   "id": "9ff77597-f914-4290-868c-51de563fc1dc",
   "metadata": {},
   "outputs": [
    {
     "data": {
      "text/plain": [
       "320"
      ]
     },
     "execution_count": 147,
     "metadata": {},
     "output_type": "execute_result"
    }
   ],
   "source": [
    "total_results[\"M\"][\"frame_width\"]"
   ]
  },
  {
   "cell_type": "code",
   "execution_count": 148,
   "id": "e101ed75-b98b-417a-9199-4155c0592725",
   "metadata": {},
   "outputs": [
    {
     "data": {
      "text/plain": [
       "240"
      ]
     },
     "execution_count": 148,
     "metadata": {},
     "output_type": "execute_result"
    }
   ],
   "source": [
    "total_results[\"M\"][\"frame_height\"]"
   ]
  },
  {
   "cell_type": "code",
   "execution_count": 149,
   "id": "82e73964-b72a-4a91-95b5-75d533f880ec",
   "metadata": {},
   "outputs": [],
   "source": [
    "import mediapipe as mp\n",
    "from mediapipe.framework.formats.landmark_pb2 import NormalizedLandmark, NormalizedLandmarkList\n",
    "import matplotlib.pyplot as plt"
   ]
  },
  {
   "cell_type": "code",
   "execution_count": 182,
   "id": "d3b19de0-0f99-4983-843b-e4b15b38f655",
   "metadata": {},
   "outputs": [
    {
     "data": {
      "text/plain": [
       "array([[ 0.67278016,  0.54426271, -0.21042475],\n",
       "       [ 0.3395451 ,  0.52210391, -0.35001057],\n",
       "       [ 0.632496  ,  1.16682982,  0.00421052],\n",
       "       [ 0.38082629,  1.16008353, -0.00171063]])"
      ]
     },
     "execution_count": 182,
     "metadata": {},
     "output_type": "execute_result"
    }
   ],
   "source": [
    "pose_landmarks_A[[11, 12, 23, 24],:-1]"
   ]
  },
  {
   "cell_type": "code",
   "execution_count": 183,
   "id": "e593a630-916b-4d53-aafb-f2a9522281d9",
   "metadata": {},
   "outputs": [
    {
     "data": {
      "text/plain": [
       "array([[ 0.67064011,  0.54133648, -0.1085237 ],\n",
       "       [ 0.33578551,  0.52576929, -0.30373546],\n",
       "       [ 0.63734704,  1.17465615,  0.01409013],\n",
       "       [ 0.37964267,  1.1764735 , -0.01136233]])"
      ]
     },
     "execution_count": 183,
     "metadata": {},
     "output_type": "execute_result"
    }
   ],
   "source": [
    "pose_landmarks_B[[11, 12, 23, 24],:-1]"
   ]
  },
  {
   "cell_type": "code",
   "execution_count": 176,
   "id": "130a0e3c-b009-4d73-a645-00cd49d80b24",
   "metadata": {},
   "outputs": [
    {
     "data": {
      "text/plain": [
       "{'left_shoulder_direction': array([ 0.2865199 ,  0.94767279, -0.14079289]),\n",
       " 'left_upperarm_length': 92.87458299371707,\n",
       " 'left_shoulder_rotation': 1.3909115747165839,\n",
       " 'left_elbow_angle': 2.1221455369231355,\n",
       " 'left_forearm_length': 113.41229642900976,\n",
       " 'left_elbow_rotation': 0.4738878112994485,\n",
       " 'left_wrist_rotation': -1.5173649631932125,\n",
       " 'left_wrist_inclination': 0.09250528322444854,\n",
       " 'left_pinky_vector': array([-8.88178420e-16,  8.38088083e+00,  3.29217334e+01]),\n",
       " 'left_index_vector': array([ 1.77635684e-15, -8.38088083e+00,  4.40936617e+01]),\n",
       " 'left_thumb_vector': array([11.07784925, -3.46013851, 17.21136156]),\n",
       " 'right_shoulder_direction': array([0.61101854, 0.1176766 , 0.7828209 ]),\n",
       " 'right_upperarm_length': 201.65724811501065,\n",
       " 'right_shoulder_rotation': 0.3002074179970083,\n",
       " 'right_elbow_angle': 2.3609124158999855,\n",
       " 'right_forearm_length': 265.4919410395385,\n",
       " 'right_elbow_rotation': 0.03919732700608693,\n",
       " 'right_wrist_rotation': 0.8103483054526966,\n",
       " 'right_wrist_inclination': 0.283013134115538,\n",
       " 'right_pinky_vector': array([ 1.77635684e-15, -8.66888801e+00,  5.83920848e+01]),\n",
       " 'right_index_vector': array([-3.55271368e-15,  8.66888801e+00,  5.02606062e+01]),\n",
       " 'right_thumb_vector': array([ 6.85193046, 24.58267005, 14.83336877])}"
      ]
     },
     "execution_count": 176,
     "metadata": {},
     "output_type": "execute_result"
    }
   ],
   "source": [
    "pose2arm_position(pose_landmarks_B[11:25], 320, 240)"
   ]
  },
  {
   "cell_type": "code",
   "execution_count": 177,
   "id": "0a43f68b-8908-4406-9a94-774424924beb",
   "metadata": {},
   "outputs": [
    {
     "data": {
      "text/plain": [
       "{'left_shoulder_direction': array([ 0.2865199 ,  0.94767279, -0.14079289]),\n",
       " 'left_upperarm_length': 92.87458299371707,\n",
       " 'left_shoulder_rotation': 1.390911574716584,\n",
       " 'left_elbow_angle': 2.122145536923135,\n",
       " 'left_forearm_length': 113.41229642900977,\n",
       " 'left_elbow_rotation': 0.47388781129944874,\n",
       " 'left_wrist_rotation': -1.5173649631932156,\n",
       " 'left_wrist_inclination': 0.09250528322444733,\n",
       " 'left_pinky_vector': array([1.77635684e-15, 8.38088083e+00, 3.29217334e+01]),\n",
       " 'left_index_vector': array([ 3.55271368e-15, -8.38088083e+00,  4.40936617e+01]),\n",
       " 'left_thumb_vector': array([11.07784925, -3.46013851, 17.21136156]),\n",
       " 'right_shoulder_direction': array([0.61101854, 0.1176766 , 0.7828209 ]),\n",
       " 'right_upperarm_length': 201.65724811501062,\n",
       " 'right_shoulder_rotation': 0.30020741799700795,\n",
       " 'right_elbow_angle': 2.3609124158999855,\n",
       " 'right_forearm_length': 265.4919410395385,\n",
       " 'right_elbow_rotation': 0.039197327006084096,\n",
       " 'right_wrist_rotation': 0.8103483054526959,\n",
       " 'right_wrist_inclination': 0.283013134115538,\n",
       " 'right_pinky_vector': array([-1.77635684e-15, -8.66888801e+00,  5.83920848e+01]),\n",
       " 'right_index_vector': array([-1.77635684e-15,  8.66888801e+00,  5.02606062e+01]),\n",
       " 'right_thumb_vector': array([ 6.85193046, 24.58267005, 14.83336877])}"
      ]
     },
     "execution_count": 177,
     "metadata": {},
     "output_type": "execute_result"
    }
   ],
   "source": [
    "pose2arm_position(arm_position2pose(pose2arm_position(pose_landmarks_B[11:25], 320, 240), pose_landmarks_A[[11, 12, 23, 24],:-1], 320, 240), 320, 240)"
   ]
  },
  {
   "cell_type": "code",
   "execution_count": 180,
   "id": "d682139b-43b6-4366-8941-4f6c8e360f08",
   "metadata": {},
   "outputs": [
    {
     "data": {
      "text/plain": [
       "<matplotlib.image.AxesImage at 0x11cd6cf9610>"
      ]
     },
     "execution_count": 180,
     "metadata": {},
     "output_type": "execute_result"
    },
    {
     "data": {
      "image/png": "[encoded data removed]",
      "text/plain": [
       "<Figure size 640x480 with 1 Axes>"
      ]
     },
     "metadata": {},
     "output_type": "display_data"
    }
   ],
   "source": [
    "mp_drawing = mp.solutions.drawing_utils\n",
    "mp_drawing_styles = mp.solutions.drawing_styles\n",
    "mp_pose = mp.solutions.pose\n",
    "\n",
    "# estimated_pose_landmarks_A = pose_landmarks_A.copy()\n",
    "# estimated_pose_landmarks_A[11:25, :-1] = arm_position2pose(pose2arm_position(pose_landmarks_A[11:25], 320, 240), pose_landmarks_A[[11, 12, 23, 24],:-1], 320, 240)\n",
    "\n",
    "# estimated_pose_landmarks_B = pose_landmarks_B.copy()\n",
    "estimated_pose_landmarks_B[11:25, :-1] = arm_position2pose(pose2arm_position(pose_landmarks_B[11:25], 320, 240), pose_landmarks_B[[11, 12, 23, 24],:-1], 320, 240)\n",
    "\n",
    "landmark_list = NormalizedLandmarkList()\n",
    "# for landmark in estimated_pose_landmarks_A:\n",
    "for landmark in estimated_pose_landmarks_B:\n",
    "    landmark_list.landmark.append(mp.tasks.components.containers.NormalizedLandmark(*landmark).to_pb2())\n",
    "\n",
    "image = np.zeros((240, 320, 3), dtype=np.uint8)\n",
    "mp_drawing.draw_landmarks(\n",
    "    image,\n",
    "    landmark_list,\n",
    "    mp_pose.POSE_CONNECTIONS,\n",
    "    landmark_drawing_spec=mp_drawing_styles.get_default_pose_landmarks_style()\n",
    ")\n",
    "\n",
    "plt.imshow(image)"
   ]
  },
  {
   "cell_type": "code",
   "execution_count": 34,
   "id": "68947586-b8d6-453b-88e3-791677fe6047",
   "metadata": {},
   "outputs": [],
   "source": [
    "half_pose_landmarks_0 = pose_landmarks_A[11:25, :-1] * np.array([320, 240, 320])\n",
    "half_pose_landmarks_1 = pose_landmarks_B[11:25, :-1] * np.array([320, 240, 320])\n",
    "\n",
    "half_pose_landmark_movement = move_arms(half_pose_landmarks_0, half_pose_landmarks_1, 100)"
   ]
  },
  {
   "cell_type": "code",
   "execution_count": 35,
   "id": "b8bdee37-cf29-4901-a8c8-4193a18598ed",
   "metadata": {},
   "outputs": [],
   "source": [
    "import cv2\n",
    "out_video_path = 'prueba1.mp4'\n",
    "\n",
    "out = cv2.VideoWriter(\n",
    "    filename=out_video_path,\n",
    "    fourcc=cv2.VideoWriter_fourcc(*'mp4v'),\n",
    "    fps=25,\n",
    "    frameSize=(320, 240)\n",
    ")\n",
    "\n",
    "pose_landmarks = pose_landmarks_A.copy()\n",
    "\n",
    "mp_drawing = mp.solutions.drawing_utils\n",
    "mp_drawing_styles = mp.solutions.drawing_styles\n",
    "mp_pose = mp.solutions.pose\n",
    "\n",
    "for half_pose_landmark in half_pose_landmark_movement:\n",
    "    pose_landmarks[11:25, :-1] = half_pose_landmark / np.array([320, 240, 320])\n",
    "\n",
    "    landmark_list = NormalizedLandmarkList()\n",
    "    for landmark in pose_landmarks:\n",
    "        landmark_list.landmark.append(mp.tasks.components.containers.NormalizedLandmark(*landmark).to_pb2())\n",
    "\n",
    "    image = np.zeros((240, 320, 3), dtype=np.uint8)\n",
    "    mp_drawing.draw_landmarks(\n",
    "        image,\n",
    "        landmark_list,\n",
    "        mp_pose.POSE_CONNECTIONS,\n",
    "        landmark_drawing_spec=mp_drawing_styles.get_default_pose_landmarks_style()\n",
    "    )\n",
    "\n",
    "    out.write(image)\n",
    "out.release()"
   ]
  }
 ],
 "metadata": {
  "kernelspec": {
   "display_name": "Python 3 (ipykernel)",
   "language": "python",
   "name": "python3"
  },
  "language_info": {
   "codemirror_mode": {
    "name": "ipython",
    "version": 3
   },
   "file_extension": ".py",
   "mimetype": "text/x-python",
   "name": "python",
   "nbconvert_exporter": "python",
   "pygments_lexer": "ipython3",
   "version": "3.11.10"
  }
 },
 "nbformat": 4,
 "nbformat_minor": 5
}
