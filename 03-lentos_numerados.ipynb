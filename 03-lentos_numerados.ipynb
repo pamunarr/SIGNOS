{
 "cells": [
  {
   "cell_type": "code",
   "execution_count": 2,
   "id": "5846431a-6258-412b-b28e-d1f33ad558f9",
   "metadata": {},
   "outputs": [],
   "source": [
    "import cv2\n",
    "import numpy as np\n",
    "import matplotlib.pyplot as plt"
   ]
  },
  {
   "cell_type": "code",
   "execution_count": 4,
   "id": "33090d5a-74bb-4a55-8fe6-a11172abcc5c",
   "metadata": {},
   "outputs": [],
   "source": [
    "numeros_img = plt.imread(\"../Datos/Brutos/numeros.webp\")\n",
    "numeros = np.array([\n",
    "    numeros[35:95, 45:85], numeros[35:95, 170:210], numeros[35:95, 305:345], numeros[35:95, 435:475], numeros[35:95, 564:604],\n",
    "    numeros[166:226, 46:86], numeros[165:225, 175:215], numeros[165:225, 305:345], numeros[165:225, 436:476], numeros[165:225, 565:605]\n",
    "])"
   ]
  },
  {
   "cell_type": "code",
   "execution_count": 24,
   "id": "d9fe3a10-5314-49f9-9c55-8ee134674f62",
   "metadata": {},
   "outputs": [],
   "source": [
    "alphabet = [\n",
    "    'A', 'B', 'C', 'CH', 'D', 'E', 'F', 'G', 'H', 'I', 'J', 'K', 'L', 'LL', 'M',\n",
    "    'N', 'N_', 'O', 'P', 'Q', 'R', 'RR', 'S', 'T', 'U', 'V', 'W', 'X', 'Y', 'Z'\n",
    "]\n",
    "for letter in alphabet:\n",
    "    cap = cv2.VideoCapture(\"../Datos/Brutos/Letras_Sematos/%s.mp4\" % letter)\n",
    "    \n",
    "    out = cv2.VideoWriter(\n",
    "        filename=\"../Datos/Procesados/Letras_Sematos_lento/lento_%s.mp4\" % letter,\n",
    "        fourcc=cv2.VideoWriter_fourcc(*'mp4v'),\n",
    "        fps=3,\n",
    "        frameSize=(int(cap.get(cv2.CAP_PROP_FRAME_WIDTH)), int(cap.get(cv2.CAP_PROP_FRAME_HEIGHT)))\n",
    "    )\n",
    "    ret, frame = cap.read()\n",
    "    i = 0\n",
    "    while ret:\n",
    "        numbered_frame = frame.copy()\n",
    "    \n",
    "        str_i = str(i)\n",
    "        n = len(str_i)\n",
    "        for j in range(n):\n",
    "            numbered_frame[5:65, 5+j*40:5+(j+1)*40] = numeros[int(str_i[j])]\n",
    "        \n",
    "        out.write(numbered_frame)\n",
    "        ret, frame = cap.read()\n",
    "        \n",
    "        i += 1\n",
    "    out.release()\n",
    "    cap.release()"
   ]
  }
 ],
 "metadata": {
  "kernelspec": {
   "display_name": "Python 3 (ipykernel)",
   "language": "python",
   "name": "python3"
  },
  "language_info": {
   "codemirror_mode": {
    "name": "ipython",
    "version": 3
   },
   "file_extension": ".py",
   "mimetype": "text/x-python",
   "name": "python",
   "nbconvert_exporter": "python",
   "pygments_lexer": "ipython3",
   "version": "3.11.10"
  }
 },
 "nbformat": 4,
 "nbformat_minor": 5
}
