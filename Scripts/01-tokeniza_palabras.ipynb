{
 "cells": [
  {
   "cell_type": "code",
   "execution_count": 1,
   "id": "04ba51d9-48e1-44c6-93bb-a80d9e31c94d",
   "metadata": {},
   "outputs": [],
   "source": [
    "def tokenize_word(word):\n",
    "    \"\"\"\n",
    "    Given a word using the spanish alphabet, returns a list with the letters of the word.\n",
    "    It includes the letters \"CH\", \"LL\", \"Ñ\" and \"RR\".\n",
    "\n",
    "    Input: word (string)\n",
    "    Output: token_list (list of strings)\n",
    "    \"\"\"\n",
    "    # Define the alphabet\n",
    "    alphabet = [\n",
    "        'A', 'B', 'C', 'CH', 'D', 'E', 'F', 'G', 'H', 'I', 'J', 'K', 'L', 'LL', 'M',\n",
    "        'N', 'Ñ', 'O', 'P', 'Q', 'R', 'RR', 'S', 'T', 'U', 'V', 'W', 'X', 'Y', 'Z'\n",
    "    ]\n",
    "\n",
    "    # Write the word in capital letters\n",
    "    word = word.upper()\n",
    "\n",
    "    # Verify that all the letters of the word are in the alphabet\n",
    "    if not all(map(lambda char : char in alphabet, word)):\n",
    "        raise Exception(\"Some letter of the word is not in the alphabet.\")\n",
    "\n",
    "    # Initialize the token list\n",
    "    token_list = []\n",
    "    # Go over the word adding tokens to the list\n",
    "    for letter in word:\n",
    "        # If the token is \"CH\", \"LL\" or \"RR\", we have to remove the last letter from the list and add the complete token\n",
    "        if token_list and any([token_list[-1]==\"C\" and letter==\"H\", token_list[-1]==\"L\" and letter==\"L\", token_list[-1]==\"R\" and letter==\"R\"]):\n",
    "            token_list.append(token_list.pop() + letter)\n",
    "        # Otherwhise, just add the letter\n",
    "        else:\n",
    "            token_list.append(letter)\n",
    "    return token_list"
   ]
  },
  {
   "cell_type": "code",
   "execution_count": 2,
   "id": "4e6ea2fc-2524-4474-947d-546b8cd1501b",
   "metadata": {},
   "outputs": [
    {
     "data": {
      "text/plain": [
       "['H', 'O', 'L', 'A']"
      ]
     },
     "execution_count": 2,
     "metadata": {},
     "output_type": "execute_result"
    }
   ],
   "source": [
    "tokenize_word(\"Hola\")"
   ]
  },
  {
   "cell_type": "code",
   "execution_count": 3,
   "id": "400700a8-5984-491a-834e-b1d5b80944ae",
   "metadata": {},
   "outputs": [
    {
     "data": {
      "text/plain": [
       "['M', 'A', 'N', 'CH', 'E', 'G', 'O']"
      ]
     },
     "execution_count": 3,
     "metadata": {},
     "output_type": "execute_result"
    }
   ],
   "source": [
    "tokenize_word(\"Manchego\")"
   ]
  },
  {
   "cell_type": "code",
   "execution_count": 4,
   "id": "07edd895-c822-41da-bc0b-93d48dd4f231",
   "metadata": {},
   "outputs": [
    {
     "data": {
      "text/plain": [
       "['LL', 'U', 'V', 'I', 'A']"
      ]
     },
     "execution_count": 4,
     "metadata": {},
     "output_type": "execute_result"
    }
   ],
   "source": [
    "tokenize_word(\"Lluvia\")"
   ]
  },
  {
   "cell_type": "code",
   "execution_count": 5,
   "id": "728fc80d-e150-4d47-a31e-a3007fe3f934",
   "metadata": {},
   "outputs": [
    {
     "data": {
      "text/plain": [
       "['C', 'A', 'RR', 'O']"
      ]
     },
     "execution_count": 5,
     "metadata": {},
     "output_type": "execute_result"
    }
   ],
   "source": [
    "tokenize_word(\"carro\")"
   ]
  },
  {
   "cell_type": "code",
   "execution_count": 6,
   "id": "3908187f-28f3-428d-93ba-bd8642e0a2a1",
   "metadata": {},
   "outputs": [
    {
     "ename": "Exception",
     "evalue": "Some letter of the word is not in the alphabet.",
     "output_type": "error",
     "traceback": [
      "\u001b[1;31m---------------------------------------------------------------------------\u001b[0m",
      "\u001b[1;31mException\u001b[0m                                 Traceback (most recent call last)",
      "Cell \u001b[1;32mIn[6], line 1\u001b[0m\n\u001b[1;32m----> 1\u001b[0m tokenize_word(\u001b[38;5;124m\"\u001b[39m\u001b[38;5;124m(2+1)\u001b[39m\u001b[38;5;124m\"\u001b[39m)\n",
      "Cell \u001b[1;32mIn[1], line 20\u001b[0m, in \u001b[0;36mtokenize_word\u001b[1;34m(word)\u001b[0m\n\u001b[0;32m     18\u001b[0m \u001b[38;5;66;03m# Verify that all the letters of the word are in the alphabet\u001b[39;00m\n\u001b[0;32m     19\u001b[0m \u001b[38;5;28;01mif\u001b[39;00m \u001b[38;5;129;01mnot\u001b[39;00m \u001b[38;5;28mall\u001b[39m(\u001b[38;5;28mmap\u001b[39m(\u001b[38;5;28;01mlambda\u001b[39;00m char : char \u001b[38;5;129;01min\u001b[39;00m alphabet, word)):\n\u001b[1;32m---> 20\u001b[0m     \u001b[38;5;28;01mraise\u001b[39;00m \u001b[38;5;167;01mException\u001b[39;00m(\u001b[38;5;124m\"\u001b[39m\u001b[38;5;124mSome letter of the word is not in the alphabet.\u001b[39m\u001b[38;5;124m\"\u001b[39m)\n\u001b[0;32m     22\u001b[0m \u001b[38;5;66;03m# Initialize the token list\u001b[39;00m\n\u001b[0;32m     23\u001b[0m token_list \u001b[38;5;241m=\u001b[39m []\n",
      "\u001b[1;31mException\u001b[0m: Some letter of the word is not in the alphabet."
     ]
    }
   ],
   "source": [
    "tokenize_word(\"(2+1)\")"
   ]
  }
 ],
 "metadata": {
  "kernelspec": {
   "display_name": "Python 3 (ipykernel)",
   "language": "python",
   "name": "python3"
  },
  "language_info": {
   "codemirror_mode": {
    "name": "ipython",
    "version": 3
   },
   "file_extension": ".py",
   "mimetype": "text/x-python",
   "name": "python",
   "nbconvert_exporter": "python",
   "pygments_lexer": "ipython3",
   "version": "3.11.10"
  }
 },
 "nbformat": 4,
 "nbformat_minor": 5
}
