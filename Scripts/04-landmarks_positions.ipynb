{
 "cells": [
  {
   "cell_type": "code",
   "execution_count": 1,
   "id": "a0d9319f-8e87-46cc-89d6-61557a00f59d",
   "metadata": {},
   "outputs": [],
   "source": [
    "from pickle import load\n",
    "import numpy as np"
   ]
  },
  {
   "cell_type": "code",
   "execution_count": 2,
   "id": "f17aa997-5dc1-40db-9c75-7242d5a727ac",
   "metadata": {},
   "outputs": [],
   "source": [
    "with open(\"../Datos/Procesados/alphabet_landmarks_spread.pkl\", \"rb\") as f:\n",
    "    total_results = load(f)"
   ]
  },
  {
   "cell_type": "code",
   "execution_count": 3,
   "id": "ac7adaba-c893-44b0-8c4c-7baad600643f",
   "metadata": {},
   "outputs": [
    {
     "data": {
      "text/plain": [
       "dict"
      ]
     },
     "execution_count": 3,
     "metadata": {},
     "output_type": "execute_result"
    }
   ],
   "source": [
    "type(total_results)"
   ]
  },
  {
   "cell_type": "code",
   "execution_count": 4,
   "id": "bfa7ec91-df56-4ddf-ba53-020030256a3d",
   "metadata": {},
   "outputs": [
    {
     "data": {
      "text/plain": [
       "dict_keys(['A', 'B', 'C', 'CH', 'D', 'E', 'F', 'G', 'H', 'I', 'J', 'K', 'L', 'LL', 'M', 'N', 'N_', 'O', 'P', 'Q', 'R', 'RR', 'S', 'T', 'U', 'V', 'W', 'X', 'Y', 'Z'])"
      ]
     },
     "execution_count": 4,
     "metadata": {},
     "output_type": "execute_result"
    }
   ],
   "source": [
    "total_results.keys()"
   ]
  },
  {
   "cell_type": "code",
   "execution_count": 5,
   "id": "e73accab-5002-4cb3-8a7c-9cefdb4e3884",
   "metadata": {},
   "outputs": [
    {
     "data": {
      "text/plain": [
       "dict"
      ]
     },
     "execution_count": 5,
     "metadata": {},
     "output_type": "execute_result"
    }
   ],
   "source": [
    "type(total_results[\"A\"])"
   ]
  },
  {
   "cell_type": "code",
   "execution_count": 6,
   "id": "db0df7fd-a087-417b-ac74-9884b4a4512a",
   "metadata": {},
   "outputs": [
    {
     "data": {
      "text/plain": [
       "dict_keys(['n_frames', 'fps', 'frame_width', 'frame_height', 'landmarks'])"
      ]
     },
     "execution_count": 6,
     "metadata": {},
     "output_type": "execute_result"
    }
   ],
   "source": [
    "total_results[\"A\"].keys()"
   ]
  },
  {
   "cell_type": "code",
   "execution_count": 7,
   "id": "f9a8d974-df78-4ebf-9f61-24d58ebf6834",
   "metadata": {},
   "outputs": [
    {
     "data": {
      "text/plain": [
       "dict"
      ]
     },
     "execution_count": 7,
     "metadata": {},
     "output_type": "execute_result"
    }
   ],
   "source": [
    "type(total_results[\"A\"][\"landmarks\"])"
   ]
  },
  {
   "cell_type": "code",
   "execution_count": 8,
   "id": "1f1d76bf-98eb-4c75-8fad-be194b9a2dee",
   "metadata": {},
   "outputs": [
    {
     "data": {
      "text/plain": [
       "dict_keys(['face', 'pose', 'pose_world', 'left_hand', 'right_hand'])"
      ]
     },
     "execution_count": 8,
     "metadata": {},
     "output_type": "execute_result"
    }
   ],
   "source": [
    "total_results[\"A\"][\"landmarks\"].keys()"
   ]
  },
  {
   "cell_type": "code",
   "execution_count": 9,
   "id": "16e1a29b-69dd-4ca0-b7eb-7d180fb66f66",
   "metadata": {},
   "outputs": [
    {
     "data": {
      "text/plain": [
       "numpy.ndarray"
      ]
     },
     "execution_count": 9,
     "metadata": {},
     "output_type": "execute_result"
    }
   ],
   "source": [
    "type(total_results[\"A\"][\"landmarks\"][\"face\"])"
   ]
  },
  {
   "cell_type": "code",
   "execution_count": 10,
   "id": "adf4db2d-8997-4e96-86b8-d93d41dce583",
   "metadata": {},
   "outputs": [
    {
     "data": {
      "text/plain": [
       "dtype('float64')"
      ]
     },
     "execution_count": 10,
     "metadata": {},
     "output_type": "execute_result"
    }
   ],
   "source": [
    "total_results[\"A\"][\"landmarks\"][\"face\"].dtype"
   ]
  },
  {
   "cell_type": "code",
   "execution_count": 11,
   "id": "36add400-f453-447e-ae2b-a3c56f2ad785",
   "metadata": {},
   "outputs": [
    {
     "data": {
      "text/plain": [
       "(87, 478, 3)"
      ]
     },
     "execution_count": 11,
     "metadata": {},
     "output_type": "execute_result"
    }
   ],
   "source": [
    "total_results[\"A\"][\"landmarks\"][\"face\"].shape"
   ]
  },
  {
   "cell_type": "code",
   "execution_count": 12,
   "id": "860d3e8a-133d-42bc-8093-9b0060910582",
   "metadata": {},
   "outputs": [],
   "source": [
    "pi = np.float64(np.pi)"
   ]
  },
  {
   "cell_type": "code",
   "execution_count": 13,
   "id": "3adfd5f3-66e9-4d4a-a186-74b348e29408",
   "metadata": {},
   "outputs": [],
   "source": [
    "def azimuth(x, y, z):\n",
    "    \"\"\"\n",
    "    Given a unit 3D real vector, returns the azimuth of the vector.\n",
    "    \"\"\"\n",
    "    # return np.arctan2(y, x)\n",
    "    if np.isclose(x, 0):\n",
    "        if np.isclose(y, 0):\n",
    "            return np.float64(0)\n",
    "        else:\n",
    "            return np.sign(y) * pi / 2.\n",
    "    else:\n",
    "        aux = np.arctan(y/x)\n",
    "        if x>0:\n",
    "            return aux\n",
    "        elif y>0:\n",
    "            return aux + pi\n",
    "        else:\n",
    "            return aux - pi\n",
    "\n",
    "def colatitude(x, y, z):\n",
    "    \"\"\"\n",
    "    Given a unit 3D real vector, returns the colatitude of the vector.\n",
    "    \"\"\"\n",
    "    return np.arccos(np.clip(z, -1, 1))"
   ]
  },
  {
   "cell_type": "code",
   "execution_count": 14,
   "id": "da4f05e3-c76e-4883-bb80-3812ecb86cde",
   "metadata": {},
   "outputs": [],
   "source": [
    "def max_left_shoulder_rotation(left_shoulder_direction):\n",
    "    \"\"\"\n",
    "    Given the left shoulder direction in the left shoulder basis, returns\n",
    "    the normal vector of the left arm plane when it is maximally rotated.\n",
    "\n",
    "    Input: array of shape (3,).\n",
    "\n",
    "    Output: array of shape (3,).\n",
    "    \"\"\"\n",
    "    x, y, z = left_shoulder_direction\n",
    "\n",
    "    if np.isclose(y, 0):\n",
    "        aux_vector = np.array([0, -1, 0], dtype=np.float64)\n",
    "    elif np.isclose(y, 1):\n",
    "        aux_vector = np.array([0, 0, -1], dtype=np.float64)\n",
    "    elif np.isclose(y, -1):\n",
    "        aux_vector = np.array([0, 0, 1], dtype=np.float64)\n",
    "    else:\n",
    "        aux_vector = np.sign(y) * np.array([x, y - 1./y, z], dtype=np.float64)\n",
    "        aux_vector /= np.linalg.norm(aux_vector)\n",
    "\n",
    "\n",
    "    if np.isclose(y, 1):\n",
    "        angle = pi / 4.\n",
    "    elif np.isclose(y, -1):\n",
    "        angle = 0.\n",
    "    else:\n",
    "        tita = colatitude(x, z, y)\n",
    "        fi = azimuth(x, z, y)\n",
    "        if z<=0:\n",
    "            if y>=0:\n",
    "                angle = (fi + pi / 4.) * (2. * tita / pi - 1.)\n",
    "            else:\n",
    "                angle = (fi + pi / 2.) * (2. * tita / pi - 1.)\n",
    "        else:\n",
    "            if y>=0:\n",
    "                angle = tita / 2. - fi - pi / 4.\n",
    "            else:\n",
    "                angle = - fi + (2. * fi + pi / 2.) * (2. * tita / pi - 1.)\n",
    "\n",
    "\n",
    "    aux_normal = np.cross(aux_vector, left_shoulder_direction)\n",
    "    left_elbow_direction_max_rotation = np.cos(angle) * aux_vector + np.sin(angle) * aux_normal\n",
    "    \n",
    "    return np.cross(left_shoulder_direction, left_elbow_direction_max_rotation)\n",
    "\n",
    "def max_right_shoulder_rotation(right_shoulder_direction):\n",
    "    \"\"\"\n",
    "    Given the right shoulder direction in the right shoulder basis, returns\n",
    "    the normal vector of the right arm plane when it is maximally rotated.\n",
    "\n",
    "    Input: array of shape (3,).\n",
    "\n",
    "    Output: array of shape (3,).\n",
    "    \"\"\"\n",
    "    x, y, z = right_shoulder_direction\n",
    "\n",
    "    if np.isclose(y, 0):\n",
    "        aux_vector = np.array([0, -1, 0], dtype=np.float64)\n",
    "    elif np.isclose(y, 1):\n",
    "        aux_vector = np.array([0, 0, 1], dtype=np.float64)\n",
    "    elif np.isclose(y, -1):\n",
    "        aux_vector = np.array([0, 0, -1], dtype=np.float64)\n",
    "    else:\n",
    "        aux_vector = np.sign(y) * np.array([x, y - 1./y, z], dtype=np.float64)\n",
    "        aux_vector /= np.linalg.norm(aux_vector)\n",
    "\n",
    "\n",
    "    if np.isclose(y, 1):\n",
    "        angle = pi / 4.\n",
    "    elif np.isclose(y, -1):\n",
    "        angle = 0.\n",
    "    else:\n",
    "        tita = colatitude(x, z, y)\n",
    "        fi = azimuth(x, z, y)\n",
    "        if z>=0:\n",
    "            if y>=0:\n",
    "                angle = (pi / 4. - fi) * (2. * tita / pi - 1.)\n",
    "            else:\n",
    "                angle = (pi / 2. - fi) * (2. * tita / pi - 1.)\n",
    "        else:\n",
    "            if y>=0:\n",
    "                angle = tita / 2. + fi - pi / 4.\n",
    "            else:\n",
    "                angle = fi + (pi / 2. - 2. * fi) * (2. * tita / pi - 1.)\n",
    "\n",
    "\n",
    "    aux_normal = np.cross(right_shoulder_direction, aux_vector)\n",
    "    right_elbow_direction_max_rotation = np.cos(angle) * aux_vector + np.sin(angle) * aux_normal\n",
    "    \n",
    "    return np.cross(right_shoulder_direction, right_elbow_direction_max_rotation)"
   ]
  },
  {
   "cell_type": "code",
   "execution_count": 15,
   "id": "5206c5ae-2496-46ea-a3cf-1984168113dc",
   "metadata": {},
   "outputs": [],
   "source": [
    "def pose2arm_position(half_pose_landmarks, frame_width, frame_height):\n",
    "    \"\"\"\n",
    "    Given an array of shape (14, 3) or (14, 4) that describes the pose landmarks of the trunk\n",
    "    of a frame, and the width and height of the frame, returns information of the arms.\n",
    "\n",
    "    Inputs:\n",
    "      - half_pose_landmarks (ndarray of shape (14, 3) or (14, 4))\n",
    "      - frame_width (int)\n",
    "      - frame_height (int)\n",
    "\n",
    "    Output: arms_position_dict (dict)\n",
    "      - left_shoulder_direction (respect to shoulder basis)\n",
    "      - left_upperarm_length\n",
    "      - left_shoulder_rotation [0, pi] (respect to max_left_shoulder_rotation)\n",
    "      - left_elbow_angle\n",
    "      - left_forearm_length\n",
    "      - left_elbow_rotation [-pi/2, pi/2]\n",
    "      - left_wrist_rotation [0, 2pi) (respect to hand basis)\n",
    "      - left_wrist_inclination [0, pi] (respect to hand basis)\n",
    "      - left_pinky_vector (respect to hand basis)\n",
    "      - left_index_vector (respect to hand basis)\n",
    "      - left_thumb_vector (respect to hand basis)\n",
    "      \n",
    "      - right_shoulder_direction (respect to shoulder basis)\n",
    "      - right_upperarm_length\n",
    "      - right_shoulder_rotation [0, pi] (respect to max_right_shoulder_rotation)\n",
    "      - right_elbow_angle\n",
    "      - right_forearm_length\n",
    "      - right_elbow_rotation [-pi/2, pi/2]\n",
    "      - right_wrist_rotation [0, 2pi) (respect to hand basis)\n",
    "      - right_wrist_inclination [0, pi] (respect to hand basis)\n",
    "      - right_pinky_vector (respect to hand basis)\n",
    "      - right_index_vector (respect to hand basis)\n",
    "      - right_thumb_vector (respect to hand basis)\n",
    "    \"\"\"\n",
    "    # Define the scale array\n",
    "    scale = np.array([frame_width, frame_height, frame_width], dtype=np.float64)\n",
    "    # Get the unnormalized half_pose_landmarks\n",
    "    half_pose_landmarks_ = half_pose_landmarks[:, :3] * scale\n",
    "\n",
    "\n",
    "    # Define the left shoulder ortonormal basis\n",
    "    # The first vector is going out of the body in the direction of the shoulders\n",
    "    # The second is going downwards to the hip\n",
    "    # The third is going backwards\n",
    "    left_shoulder_basis = np.empty((3, 3), dtype=np.float64)\n",
    "    left_shoulder_basis[:, 0] = half_pose_landmarks_[0] - half_pose_landmarks_[1]\n",
    "    left_shoulder_basis[:, 2] = np.cross(left_shoulder_basis[:, 0], half_pose_landmarks_[12] - half_pose_landmarks_[0])\n",
    "    left_shoulder_basis[:, 1] = np.cross(left_shoulder_basis[:, 2], left_shoulder_basis[:, 0])\n",
    "    left_shoulder_basis /= np.linalg.norm(left_shoulder_basis, axis=0, keepdims=True)\n",
    "\n",
    "    # Obtain the vector of the left upperarm in the basis of the image\n",
    "    left_upperarm_vector = half_pose_landmarks_[2] - half_pose_landmarks_[0]\n",
    "    # Obtain the length of the left upperarm\n",
    "    left_upperarm_length = np.linalg.norm(left_upperarm_vector)\n",
    "    # Change the basis of the left upperarm normalized vector\n",
    "    left_shoulder_direction = (left_upperarm_vector / left_upperarm_length) @ left_shoulder_basis\n",
    "\n",
    "\n",
    "    # Obtain the vector of the left forearm in the basis of the image\n",
    "    left_forearm_vector = half_pose_landmarks_[4] - half_pose_landmarks_[2]\n",
    "    # Obtain the length of the left forearm\n",
    "    left_forearm_length = np.linalg.norm(left_forearm_vector)\n",
    "    # Obtain the direction of the forearm\n",
    "    left_forearm_direction = left_forearm_vector / left_forearm_length\n",
    "    # Obtain the angle of the elbow\n",
    "    left_elbow_angle = pi - np.arccos(np.clip(np.dot(left_upperarm_vector, left_forearm_direction) / left_upperarm_length, -1, 1))\n",
    "\n",
    "    if np.isclose(left_elbow_angle, pi, atol=1e-3):\n",
    "        # If the elbow angle is close to pi, set it as pi and we assume that the shoulder is maximally rotated\n",
    "        left_elbow_angle = pi\n",
    "        left_shoulder_rotation = np.float64(0)\n",
    "    else:\n",
    "        # Otherwise, obtain the elbow direction on the shoulder basis\n",
    "        left_elbow_direction = left_forearm_direction @ left_shoulder_basis\n",
    "        # Obtain the unit normal vector of the plane containing the left arm\n",
    "        left_arm_plane_normal_vector = np.cross(left_shoulder_direction, left_elbow_direction)\n",
    "        left_arm_plane_normal_vector /= np.linalg.norm(left_arm_plane_normal_vector)\n",
    "        # Obtain the normal vector of the plane of the left arm if the shoulder is maximally rotated\n",
    "        left_arm_max_rotation_plane_normal_vector = max_left_shoulder_rotation(left_shoulder_direction)\n",
    "        # Obtain an auxiliary vector to know the sign of the rotation (negative rotations are supposed to be anti-natural)\n",
    "        aux_vector = np.cross(left_shoulder_direction, left_arm_max_rotation_plane_normal_vector)\n",
    "        # Obtain the shoulder rotation (angle between the two normal vectors)\n",
    "        left_shoulder_rotation = (np.sign(np.dot(left_arm_plane_normal_vector, aux_vector)) *\n",
    "                                  np.arccos(np.clip(np.dot(left_arm_plane_normal_vector, left_arm_max_rotation_plane_normal_vector), -1, 1)))\n",
    "        \n",
    "\n",
    "\n",
    "    # Define the left hand ortonormal basis\n",
    "    # The first vector is going out of the palm perpendicularly\n",
    "    # The third is going from the wrist to the center of the palm\n",
    "    # The second is going to the pinky making an orthonormal basis\n",
    "    left_hand_basis = np.empty((3, 3), dtype=np.float64)\n",
    "    left_hand_basis[:, 0] = np.cross(half_pose_landmarks_[6] - half_pose_landmarks_[4], half_pose_landmarks_[8] - half_pose_landmarks_[4])\n",
    "    left_hand_basis[:, 2] = (half_pose_landmarks_[6] + half_pose_landmarks_[8])/2. - half_pose_landmarks_[4]\n",
    "    left_hand_basis[:, 1] = np.cross(left_hand_basis[:, 2], left_hand_basis[:, 0])\n",
    "    left_hand_basis /= np.linalg.norm(left_hand_basis, axis=0, keepdims=True)\n",
    "\n",
    "    # Obtain hand vectors in left hand basis\n",
    "    left_pinky_vector = (half_pose_landmarks_[6] - half_pose_landmarks_[4]) @ left_hand_basis\n",
    "    left_index_vector = (half_pose_landmarks_[8] - half_pose_landmarks_[4]) @ left_hand_basis\n",
    "    left_thumb_vector = (half_pose_landmarks_[10] - half_pose_landmarks_[4]) @ left_hand_basis\n",
    "\n",
    "    # Obtain the forearm direction on the left hand basis\n",
    "    left_wrist_direction = - left_forearm_direction @ left_hand_basis\n",
    "    # Obtain the wrist rotation and inclination\n",
    "    left_wrist_rotation = azimuth(*(left_wrist_direction * np.array([1, 1, -1], dtype=np.float64)))\n",
    "    left_wrist_inclination = colatitude(*(left_wrist_direction * np.array([1, 1, -1], dtype=np.float64)))\n",
    "\n",
    "\n",
    "    # Obtain the normal vector of the left palm in the case that the wrist is not inclinated\n",
    "    # For this, rotate (1, 0, 0) `left_wrist_inclination` radians around (sin(`left_wrist_rotation`), -cos(`left_wrist_rotation`), 0) \n",
    "    a = np.cos(left_wrist_inclination)\n",
    "    b = np.sin(left_wrist_inclination)\n",
    "    c = np.cos(left_wrist_rotation)\n",
    "    d = np.sin(left_wrist_rotation)\n",
    "    left_palm_normal_vector_no_wrist_inclination = np.array([1.+(a-1.)*c*c, (a-1.)*c*d, b*c], dtype=np.float64)\n",
    "\n",
    "    if np.isclose(left_elbow_angle, pi):\n",
    "        # If the arm is completely extended, obtain the vector that, in the case that the arm is maximally rotated and the wrist not inclinated,\n",
    "        # points from the left wrist to the pinky side perpendicularly to the arm\n",
    "        aux_vector = max_left_shoulder_rotation(left_shoulder_direction) @ left_shoulder_basis.T @ left_hand_basis\n",
    "        # Obtain the normal vector of the left palm in the case that the arm is maximally rotated and the wrist is not inclinated\n",
    "        left_palm_normal_vector_max_arm_rotation = np.cross(left_wrist_direction, aux_vector)\n",
    "        # Obtain the rotation of the arm (shoulder plus elbow)\n",
    "        if np.dot(left_palm_normal_vector_no_wrist_inclination, aux_vector)>=0:\n",
    "            left_arm_rotation = np.arccos(np.clip(\n",
    "                np.dot(left_palm_normal_vector_no_wrist_inclination, left_palm_normal_vector_max_arm_rotation),\n",
    "                -1, 1))\n",
    "        else:\n",
    "            left_arm_rotation = 2.*pi - np.arccos(np.clip(\n",
    "                np.dot(left_palm_normal_vector_no_wrist_inclination, left_palm_normal_vector_max_arm_rotation),\n",
    "                -1, 1))\n",
    "        # Assumming that the arm rotation is equally distributed between shoulder and elbow, obtain each rotation\n",
    "        left_shoulder_rotation = left_arm_rotation / 2.\n",
    "        left_elbow_rotation = left_arm_rotation - left_shoulder_rotation - pi/2.\n",
    "\n",
    "    else:\n",
    "        # Otherwise, obtain the normal vector of the left palm in the case that the elbow is not rotated and the wrist is not inclinated\n",
    "        left_palm_normal_vector_no_elbow_rotation = left_arm_plane_normal_vector @ left_shoulder_basis.T @ left_hand_basis\n",
    "        # Obtain the angle between both normal vectors\n",
    "        aux_vector = np.cross(left_palm_normal_vector_no_elbow_rotation, left_wrist_direction)\n",
    "        left_elbow_rotation = np.sign(np.dot(left_palm_normal_vector_no_wrist_inclination, aux_vector)) * np.arccos(np.clip(\n",
    "            np.dot(left_palm_normal_vector_no_wrist_inclination, left_palm_normal_vector_no_elbow_rotation), -1, 1))\n",
    "\n",
    "\n",
    "\n",
    "    # Same for the right arm\n",
    "\n",
    "    # The difference between the right shoulder basis and the left one is that the third vector\n",
    "    # is going to the front, not backwards\n",
    "    right_shoulder_basis = np.empty((3, 3), dtype=np.float64)\n",
    "    right_shoulder_basis[:, 0] = half_pose_landmarks_[1] - half_pose_landmarks_[0]\n",
    "    right_shoulder_basis[:, 2] = np.cross(right_shoulder_basis[:, 0], half_pose_landmarks_[13] - half_pose_landmarks_[1])\n",
    "    right_shoulder_basis[:, 1] = np.cross(right_shoulder_basis[:, 2], right_shoulder_basis[:, 0])\n",
    "    right_shoulder_basis /= np.linalg.norm(right_shoulder_basis, axis=0, keepdims=True)\n",
    "    \n",
    "    right_upperarm_vector = half_pose_landmarks_[3] - half_pose_landmarks_[1]\n",
    "    right_upperarm_length = np.linalg.norm(right_upperarm_vector)\n",
    "    right_shoulder_direction = (right_upperarm_vector / right_upperarm_length) @ right_shoulder_basis\n",
    "\n",
    "\n",
    "    right_forearm_vector = half_pose_landmarks_[5] - half_pose_landmarks_[3]\n",
    "    right_forearm_length = np.linalg.norm(right_forearm_vector)\n",
    "    right_forearm_direction = right_forearm_vector / right_forearm_length\n",
    "    right_elbow_angle = pi - np.arccos(np.clip(np.dot(right_upperarm_vector, right_forearm_direction) / right_upperarm_length, -1, 1))\n",
    "\n",
    "    if np.isclose(right_elbow_angle, pi, atol=1e-3):\n",
    "        right_elbow_angle = pi\n",
    "        right_shoulder_rotation = np.float64(0)\n",
    "    else:\n",
    "        right_elbow_direction = right_forearm_direction @ right_shoulder_basis\n",
    "        right_arm_plane_normal_vector = np.cross(right_shoulder_direction, right_elbow_direction)\n",
    "        right_arm_plane_normal_vector /= np.linalg.norm(right_arm_plane_normal_vector)\n",
    "        right_arm_max_rotation_plane_normal_vector = max_right_shoulder_rotation(right_shoulder_direction)\n",
    "        aux_vector = np.cross(right_arm_max_rotation_plane_normal_vector, right_shoulder_direction)\n",
    "        right_shoulder_rotation = (np.sign(np.dot(right_arm_plane_normal_vector, aux_vector)) *\n",
    "                                   np.arccos(np.clip(np.dot(right_arm_plane_normal_vector, right_arm_max_rotation_plane_normal_vector), -1, 1)))\n",
    "\n",
    "\n",
    "    # The difference between the right hand basis and the left one is that the third vector\n",
    "    # is going to the thumbside, not to the pinkyside\n",
    "    right_hand_basis = np.empty((3, 3), dtype=np.float64)\n",
    "    right_hand_basis[:, 0] = np.cross(half_pose_landmarks_[9] - half_pose_landmarks_[5], half_pose_landmarks_[7] - half_pose_landmarks_[5])\n",
    "    right_hand_basis[:, 2] = (half_pose_landmarks_[7] + half_pose_landmarks_[9])/2. - half_pose_landmarks_[5]\n",
    "    right_hand_basis[:, 1] = np.cross(right_hand_basis[:, 2], right_hand_basis[:, 0])\n",
    "    right_hand_basis /= np.linalg.norm(right_hand_basis, axis=0, keepdims=True)\n",
    "\n",
    "    right_pinky_vector = (half_pose_landmarks_[7] - half_pose_landmarks_[5]) @ right_hand_basis\n",
    "    right_index_vector = (half_pose_landmarks_[9] - half_pose_landmarks_[5]) @ right_hand_basis\n",
    "    right_thumb_vector = (half_pose_landmarks_[11] - half_pose_landmarks_[5]) @ right_hand_basis\n",
    "\n",
    "    right_wrist_direction = - right_forearm_direction @ right_hand_basis\n",
    "    right_wrist_rotation = azimuth(*(right_wrist_direction * np.array([1, 1, -1], dtype=np.float64)))\n",
    "    right_wrist_inclination = colatitude(*(right_wrist_direction * np.array([1, 1, -1], dtype=np.float64)))\n",
    "\n",
    "\n",
    "    a = np.cos(right_wrist_inclination)\n",
    "    b = np.sin(right_wrist_inclination)\n",
    "    c = np.cos(right_wrist_rotation)\n",
    "    d = np.sin(right_wrist_rotation)\n",
    "    right_palm_normal_vector_no_wrist_inclination = np.array([1.+(a-1.)*c*c, (a-1.)*c*d, b*c], dtype=np.float64)\n",
    "    \n",
    "    if np.isclose(right_elbow_angle, pi):\n",
    "        aux_vector = max_right_shoulder_rotation(right_shoulder_direction) @ right_shoulder_basis.T @ right_hand_basis\n",
    "        right_palm_normal_vector_max_arm_rotation = np.cross(right_wrist_direction, aux_vector)\n",
    "        if np.dot(right_palm_normal_vector_no_wrist_inclination, aux_vector)<=0:\n",
    "            right_arm_rotation = np.arccos(np.clip(\n",
    "                np.dot(right_palm_normal_vector_no_wrist_inclination, right_palm_normal_vector_max_arm_rotation),\n",
    "                -1, 1))\n",
    "        else:\n",
    "            right_arm_rotation = 2.*pi - np.arccos(np.clip(\n",
    "                np.dot(right_palm_normal_vector_no_wrist_inclination, right_palm_normal_vector_max_arm_rotation),\n",
    "                -1, 1))\n",
    "        right_shoulder_rotation = right_arm_rotation / 2.\n",
    "        right_elbow_rotation = right_arm_rotation - right_shoulder_rotation - pi/2.\n",
    "        \n",
    "    else:\n",
    "        right_palm_normal_vector_no_elbow_rotation = - right_arm_plane_normal_vector @ right_shoulder_basis.T @ right_hand_basis\n",
    "        aux_vector = np.cross(right_palm_normal_vector_no_elbow_rotation, right_wrist_direction)\n",
    "        right_elbow_rotation = - np.sign(np.dot(right_palm_normal_vector_no_wrist_inclination, aux_vector)) * np.arccos(np.clip(\n",
    "            np.dot(right_palm_normal_vector_no_wrist_inclination, right_palm_normal_vector_no_elbow_rotation), -1, 1))\n",
    "\n",
    "\n",
    "    arms_position_dict = {\n",
    "        \"left_shoulder_direction\": left_shoulder_direction,\n",
    "        \"left_upperarm_length\": left_upperarm_length,\n",
    "        \"left_shoulder_rotation\": left_shoulder_rotation,\n",
    "        \"left_elbow_angle\": left_elbow_angle,\n",
    "        \"left_forearm_length\": left_forearm_length,\n",
    "        \"left_elbow_rotation\": left_elbow_rotation,\n",
    "        \"left_wrist_rotation\": left_wrist_rotation,\n",
    "        \"left_wrist_inclination\": left_wrist_inclination,\n",
    "        \"left_pinky_vector\": left_pinky_vector,\n",
    "        \"left_index_vector\": left_index_vector,\n",
    "        \"left_thumb_vector\": left_thumb_vector,\n",
    "\n",
    "        \"right_shoulder_direction\": right_shoulder_direction,\n",
    "        \"right_upperarm_length\": right_upperarm_length,\n",
    "        \"right_shoulder_rotation\": right_shoulder_rotation,\n",
    "        \"right_elbow_angle\": right_elbow_angle,\n",
    "        \"right_forearm_length\": right_forearm_length,\n",
    "        \"right_elbow_rotation\": right_elbow_rotation,\n",
    "        \"right_wrist_rotation\": right_wrist_rotation,\n",
    "        \"right_wrist_inclination\": right_wrist_inclination,\n",
    "        \"right_pinky_vector\": right_pinky_vector,\n",
    "        \"right_index_vector\": right_index_vector,\n",
    "        \"right_thumb_vector\": right_thumb_vector\n",
    "    }\n",
    "    return arms_position_dict"
   ]
  },
  {
   "cell_type": "code",
   "execution_count": 16,
   "id": "005ac786-66a4-4aae-b9ba-03ff64479afe",
   "metadata": {},
   "outputs": [],
   "source": [
    "def arm_position2pose(arms_position_dict, trunk_landmarks, frame_width, frame_height):\n",
    "    \"\"\"\n",
    "    Given a dictionary like the returned by `pose2arm_position`, an array of shape (4, 3) with\n",
    "    the landmarks of the trunk and the width and height of the frame, returns an array of shape\n",
    "    (14, 3) with the landmarks of both arms and the trunk in the following order:\n",
    "      0 - left shoulder\n",
    "      1 - right shoulder\n",
    "      2 - left elbow\n",
    "      3 - right elbow\n",
    "      4 - left wrist\n",
    "      5 - right wrist\n",
    "      6 - left pinky\n",
    "      7 - right pinky\n",
    "      8 - left index\n",
    "      9 - right index\n",
    "      10 - left thumb\n",
    "      11 - right thumb\n",
    "      12 - left hip\n",
    "      13 - right hip\n",
    "\n",
    "    The order of the input landmarks must be:\n",
    "      0 - left shoulder\n",
    "      1 - right shoulder\n",
    "      2 - left hip\n",
    "      3 - right hip\n",
    "\n",
    "    Inputs:\n",
    "      - arms_position_dict (dict)\n",
    "      - trunk_landmarks (array)\n",
    "      - frame_width (int)\n",
    "      - frame_height (int)\n",
    "\n",
    "    Output:\n",
    "      - half_pose_landmarks (array)\n",
    "    \"\"\"\n",
    "    # Define the scale array\n",
    "    scale = np.array([frame_width, frame_height, frame_width], dtype=np.float64)\n",
    "    # Initialize the unnormalized half_pose_landmarks\n",
    "    half_pose_landmarks = np.empty((14, 3), dtype=np.float64)\n",
    "    # Fill the rows of the trunk\n",
    "    half_pose_landmarks[[0, 1, 12, 13]] = trunk_landmarks * scale\n",
    "\n",
    "\n",
    "    # Define the left shoulder basis as in `pose2arm_position`\n",
    "    left_shoulder_basis = np.empty((3, 3), dtype=np.float64)\n",
    "    left_shoulder_basis[:, 0] = half_pose_landmarks[0] - half_pose_landmarks[1]\n",
    "    left_shoulder_basis[:, 2] = np.cross(left_shoulder_basis[:, 0], half_pose_landmarks[12] - half_pose_landmarks[0])\n",
    "    left_shoulder_basis[:, 1] = np.cross(left_shoulder_basis[:, 2], left_shoulder_basis[:, 0])\n",
    "    left_shoulder_basis /= np.linalg.norm(left_shoulder_basis, axis=0, keepdims=True)\n",
    "\n",
    "    # Obtain the left shoulder direction respect to the image basis\n",
    "    left_shoulder_direction = arms_position_dict[\"left_shoulder_direction\"] @ left_shoulder_basis.T\n",
    "    # Obtain the landmarks of the left elbow\n",
    "    half_pose_landmarks[2] = arms_position_dict[\"left_upperarm_length\"] * left_shoulder_direction + half_pose_landmarks[0]\n",
    "\n",
    "\n",
    "    if np.isclose(arms_position_dict[\"left_elbow_angle\"], pi):\n",
    "        # If the left arm is completely extended, obtain the left wrist landmarks\n",
    "        left_forearm_direction = left_shoulder_direction\n",
    "    else:\n",
    "        # Otherwise, consider the normal vector of the plane of the left arm if the shoulder is maximally rotated\n",
    "        left_arm_max_rotation_plane_normal_vector = max_left_shoulder_rotation(arms_position_dict[\"left_shoulder_direction\"])\n",
    "        # Obtain the cross product between the left shoulder direction and the normal vector\n",
    "        aux_vector = np.cross(arms_position_dict[\"left_shoulder_direction\"], left_arm_max_rotation_plane_normal_vector)\n",
    "        # Using the left shoulder rotation, obtain the normal vector of the plain of the left arm\n",
    "        left_arm_plane_normal_vector = (np.cos(arms_position_dict[\"left_shoulder_rotation\"]) * left_arm_max_rotation_plane_normal_vector +\n",
    "                                        np.sin(arms_position_dict[\"left_shoulder_rotation\"]) * aux_vector)\n",
    "\n",
    "        # Obtain the left forearm direction respect to the image basis\n",
    "        aux_vector = np.cross(left_arm_plane_normal_vector, arms_position_dict[\"left_shoulder_direction\"])\n",
    "        left_forearm_direction = (- np.cos(arms_position_dict[\"left_elbow_angle\"]) * arms_position_dict[\"left_shoulder_direction\"] +\n",
    "                                  np.sin(arms_position_dict[\"left_elbow_angle\"]) * aux_vector) @ left_shoulder_basis.T\n",
    "\n",
    "    # Obtain the left wrist landmarks\n",
    "    half_pose_landmarks[4] = arms_position_dict[\"left_forearm_length\"] * left_forearm_direction + half_pose_landmarks[2]\n",
    "\n",
    "    if np.isclose(arms_position_dict[\"left_elbow_angle\"], pi):\n",
    "        # If the arm is completely extended, obtain the total rotation of the left arm\n",
    "        left_arm_rotation = arms_position_dict[\"left_shoulder_rotation\"] + arms_position_dict[\"left_elbow_rotation\"] + pi/2.\n",
    "\n",
    "        # Obtain the vector that, in the case that the arm is maximally rotated and the wrist not inclinated,\n",
    "        # points from the left wrist to the pinky side perpendicularly to the arm\n",
    "        aux_vector = max_left_shoulder_rotation(arms_position_dict[\"left_shoulder_direction\"]) @ left_shoulder_basis.T\n",
    "        # Obtain the normal vector of the left palm in the case that the arm is maximally rotated and the wrist is not inclinated\n",
    "        left_palm_normal_vector_max_arm_rotation = np.cross(aux_vector, left_forearm_direction)\n",
    "\n",
    "        # Obtain the normal vector of the left palm in the case that the arm is not inclinated\n",
    "        left_palm_normal_vector_no_wrist_inclination = (np.cos(left_arm_rotation) * left_palm_normal_vector_max_arm_rotation +\n",
    "                                                        np.sin(left_arm_rotation) * aux_vector)\n",
    "    else:\n",
    "        # Otherwise, obtain the normal vector of the left palm in the case that the elbow is not rotated and the wrist is not inclinated\n",
    "        left_palm_normal_vector_no_elbow_rotation = left_arm_plane_normal_vector @ left_shoulder_basis.T\n",
    "        aux_vector = np.cross(left_forearm_direction, left_palm_normal_vector_no_elbow_rotation)\n",
    "\n",
    "        # Obtain the normal vector of the left palm in the case that the arm is not inclinated\n",
    "        left_palm_normal_vector_no_wrist_inclination = (np.cos(arms_position_dict[\"left_elbow_rotation\"]) * left_palm_normal_vector_no_elbow_rotation +\n",
    "                                                       np.sin(arms_position_dict[\"left_elbow_rotation\"]) * aux_vector)\n",
    "\n",
    "    # Rename the vectors of the left hand basis if the wrist is not inclinated\n",
    "    v1 = left_palm_normal_vector_no_wrist_inclination\n",
    "    v3 = left_forearm_direction\n",
    "    v2 = np.cross(v3, v1)\n",
    "\n",
    "    # Obtain the left hand basis\n",
    "    # For this, rotate the latter basis -`left_wrist_inclination` radians around (sin(`left_wrist_rotation`), -cos(`left_wrist_rotation`), 0)\n",
    "    a = np.cos(arms_position_dict[\"left_wrist_inclination\"])\n",
    "    b = np.sin(arms_position_dict[\"left_wrist_inclination\"])\n",
    "    c = np.cos(arms_position_dict[\"left_wrist_rotation\"])\n",
    "    d = np.sin(arms_position_dict[\"left_wrist_rotation\"])\n",
    "    left_hand_basis = np.empty((3, 3), dtype=np.float64)\n",
    "    left_hand_basis[:, 0] = (1.+(a-1.)*c*c) * v1 + (a-1.)*c*d * v2 - b*c * v3\n",
    "    left_hand_basis[:, 1] = (1.+(a-1.)*d*d) * v2 + (a-1.)*c*d * v1 - b*d * v3\n",
    "    left_hand_basis[:, 2] = b*c * v1 + b*d * v2 + a * v3\n",
    "\n",
    "    # Obtain the pinky, index and thumb landmarks\n",
    "    half_pose_landmarks[6] = arms_position_dict[\"left_pinky_vector\"] @ left_hand_basis.T + half_pose_landmarks[4]\n",
    "    half_pose_landmarks[8] = arms_position_dict[\"left_index_vector\"] @ left_hand_basis.T + half_pose_landmarks[4]\n",
    "    half_pose_landmarks[10] = arms_position_dict[\"left_thumb_vector\"] @ left_hand_basis.T + half_pose_landmarks[4]\n",
    "\n",
    "\n",
    "\n",
    "    # Same for the right arm\n",
    "\n",
    "    right_shoulder_basis = np.empty((3, 3), dtype=np.float64)\n",
    "    right_shoulder_basis[:, 0] = half_pose_landmarks[1] - half_pose_landmarks[0]\n",
    "    right_shoulder_basis[:, 2] = np.cross(right_shoulder_basis[:, 0], half_pose_landmarks[13] - half_pose_landmarks[1])\n",
    "    right_shoulder_basis[:, 1] = np.cross(right_shoulder_basis[:, 2], right_shoulder_basis[:, 0])\n",
    "    right_shoulder_basis /= np.linalg.norm(right_shoulder_basis, axis=0, keepdims=True)\n",
    "\n",
    "    right_shoulder_direction = arms_position_dict[\"right_shoulder_direction\"] @ right_shoulder_basis.T\n",
    "    half_pose_landmarks[3] = arms_position_dict[\"right_upperarm_length\"] * right_shoulder_direction + half_pose_landmarks[1]\n",
    "\n",
    "\n",
    "    if np.isclose(arms_position_dict[\"right_elbow_angle\"], pi):\n",
    "        right_forearm_direction = right_shoulder_direction\n",
    "    else:\n",
    "        right_arm_max_rotation_plane_normal_vector = max_right_shoulder_rotation(arms_position_dict[\"right_shoulder_direction\"])\n",
    "        aux_vector = np.cross(right_arm_max_rotation_plane_normal_vector, arms_position_dict[\"right_shoulder_direction\"])\n",
    "        right_arm_plane_normal_vector = (np.cos(arms_position_dict[\"right_shoulder_rotation\"]) * right_arm_max_rotation_plane_normal_vector +\n",
    "                                         np.sin(arms_position_dict[\"right_shoulder_rotation\"]) * aux_vector)\n",
    "\n",
    "        aux_vector = np.cross(right_arm_plane_normal_vector, arms_position_dict[\"right_shoulder_direction\"])\n",
    "        right_forearm_direction = (- np.cos(arms_position_dict[\"right_elbow_angle\"]) * arms_position_dict[\"right_shoulder_direction\"] +\n",
    "                                   np.sin(arms_position_dict[\"right_elbow_angle\"]) * aux_vector) @ right_shoulder_basis.T\n",
    "    half_pose_landmarks[5] = arms_position_dict[\"right_forearm_length\"] * right_forearm_direction + half_pose_landmarks[3]\n",
    "    \n",
    "    if np.isclose(arms_position_dict[\"right_elbow_angle\"], pi):\n",
    "        right_arm_rotation = arms_position_dict[\"right_shoulder_rotation\"] + arms_position_dict[\"right_elbow_rotation\"] + pi/2.\n",
    "\n",
    "        aux_vector = max_right_shoulder_rotation(arms_position_dict[\"right_shoulder_direction\"]) @ right_shoulder_basis.T\n",
    "        right_palm_normal_vector_max_arm_rotation = np.cross(aux_vector, right_forearm_direction)\n",
    "\n",
    "        right_palm_normal_vector_no_wrist_inclination = (np.cos(right_arm_rotation) * right_palm_normal_vector_max_arm_rotation -\n",
    "                                                       np.sin(right_arm_rotation) * aux_vector)\n",
    "    else:\n",
    "        right_palm_normal_vector_no_elbow_rotation = - right_arm_plane_normal_vector @ right_shoulder_basis.T\n",
    "        aux_vector = np.cross(right_forearm_direction, right_palm_normal_vector_no_elbow_rotation)\n",
    "\n",
    "        right_palm_normal_vector_no_wrist_inclination = (np.cos(arms_position_dict[\"right_elbow_rotation\"]) * right_palm_normal_vector_no_elbow_rotation -\n",
    "                                                       np.sin(arms_position_dict[\"right_elbow_rotation\"]) * aux_vector)\n",
    "\n",
    "    v1 = right_palm_normal_vector_no_wrist_inclination\n",
    "    v3 = right_forearm_direction\n",
    "    v2 = np.cross(v3, v1)\n",
    "\n",
    "    a = np.cos(arms_position_dict[\"right_wrist_inclination\"])\n",
    "    b = np.sin(arms_position_dict[\"right_wrist_inclination\"])\n",
    "    c = np.cos(arms_position_dict[\"right_wrist_rotation\"])\n",
    "    d = np.sin(arms_position_dict[\"right_wrist_rotation\"])\n",
    "    right_hand_basis = np.empty((3, 3), dtype=np.float64)\n",
    "    right_hand_basis[:, 0] = (1.+(a-1.)*c*c) * v1 + (a-1.)*c*d * v2 - b*c * v3\n",
    "    right_hand_basis[:, 1] = (1.+(a-1.)*d*d) * v2 + (a-1.)*c*d * v1 - b*d * v3\n",
    "    right_hand_basis[:, 2] = b*c * v1 + b*d * v2 + a * v3\n",
    "\n",
    "    half_pose_landmarks[7] = arms_position_dict[\"right_pinky_vector\"] @ right_hand_basis.T + half_pose_landmarks[5]\n",
    "    half_pose_landmarks[9] = arms_position_dict[\"right_index_vector\"] @ right_hand_basis.T + half_pose_landmarks[5]\n",
    "    half_pose_landmarks[11] = arms_position_dict[\"right_thumb_vector\"] @ right_hand_basis.T + half_pose_landmarks[5]\n",
    "\n",
    "\n",
    "    # Return the normalized half_pose_landmarks\n",
    "    return half_pose_landmarks / scale"
   ]
  },
  {
   "cell_type": "code",
   "execution_count": 17,
   "id": "5b6255e4-2ceb-4464-acf5-9df60615bc9c",
   "metadata": {},
   "outputs": [],
   "source": [
    "half_pose_landmarks = np.array([\n",
    "    [0.8, 0.6875, 0],\n",
    "    [0.25, 0.6875, 0],\n",
    "    [0.85, 0.3125, 0],\n",
    "    [0.05, 0.5, 0.55],\n",
    "    [0.675, 0.125, 0.05],\n",
    "    [0.2, 0.8125, 0.25],\n",
    "    [0.6, 0.11, 0.05],\n",
    "    [0.3, 0.82, 0.24],\n",
    "    [0.6, 0.14, 0.05],\n",
    "    [0.275, 0.85, 0.22],\n",
    "    [0.65, 0.16, 0.04],\n",
    "    [0.26, 0.84, 0.2],\n",
    "    [0.7, 0.0625, 0],\n",
    "    [0.4, 0.0625, 0]\n",
    "], dtype=np.float64)"
   ]
  },
  {
   "cell_type": "code",
   "execution_count": 18,
   "id": "8b4b45da-434a-4f97-8462-7aa48ce51afb",
   "metadata": {},
   "outputs": [],
   "source": [
    "position_info = pose2arm_position(half_pose_landmarks, 20, 16)"
   ]
  },
  {
   "cell_type": "code",
   "execution_count": 19,
   "id": "baef9f6a-3daf-4510-bef7-484ea10d3655",
   "metadata": {},
   "outputs": [
    {
     "data": {
      "text/plain": [
       "{'left_shoulder_direction': array([0.16439899, 0.98639392, 0.        ]),\n",
       " 'left_upperarm_length': 6.082762530298219,\n",
       " 'left_shoulder_rotation': 2.190547219045376,\n",
       " 'left_elbow_angle': 2.100597145623251,\n",
       " 'left_forearm_length': 4.716990566028302,\n",
       " 'left_elbow_rotation': 0.048105747159620044,\n",
       " 'left_wrist_rotation': -1.2490457723982544,\n",
       " 'left_wrist_inclination': 0.7347497926658118,\n",
       " 'left_pinky_vector': array([0.  , 0.24, 1.5 ]),\n",
       " 'left_index_vector': array([ 0.  , -0.24,  1.5 ]),\n",
       " 'left_thumb_vector': array([ 0.2 , -0.56,  0.5 ]),\n",
       " 'right_shoulder_direction': array([0.33104236, 0.24828177, 0.91036648]),\n",
       " 'right_upperarm_length': 12.083045973594572,\n",
       " 'right_shoulder_rotation': 0.30635174807730553,\n",
       " 'right_elbow_angle': 0.4028797247081637,\n",
       " 'right_forearm_length': 8.366600265340756,\n",
       " 'right_elbow_rotation': -1.7252435001066262,\n",
       " 'right_wrist_rotation': -1.736230538634735,\n",
       " 'right_wrist_inclination': 0.9059813241888558,\n",
       " 'right_pinky_vector': array([ 0.        , -0.37171881,  1.97894546]),\n",
       " 'right_index_vector': array([-1.11022302e-16,  3.71718812e-01,  1.68280276e+00]),\n",
       " 'right_thumb_vector': array([0.41612157, 0.59345191, 1.45198405])}"
      ]
     },
     "execution_count": 19,
     "metadata": {},
     "output_type": "execute_result"
    }
   ],
   "source": [
    "position_info"
   ]
  },
  {
   "cell_type": "code",
   "execution_count": 20,
   "id": "a3e11c15-20c0-488c-a865-1c5622142d06",
   "metadata": {},
   "outputs": [],
   "source": [
    "estimated_half_pose_landmarks = arm_position2pose(position_info, half_pose_landmarks[[0, 1, 12, 13]], 20, 16)"
   ]
  },
  {
   "cell_type": "code",
   "execution_count": 21,
   "id": "49a371bd-2290-418c-833d-77f950634a63",
   "metadata": {},
   "outputs": [
    {
     "data": {
      "text/plain": [
       "array([[0.8   , 0.6875, 0.    ],\n",
       "       [0.25  , 0.6875, 0.    ],\n",
       "       [0.85  , 0.3125, 0.    ],\n",
       "       [0.05  , 0.5   , 0.55  ],\n",
       "       [0.675 , 0.125 , 0.05  ],\n",
       "       [0.2   , 0.8125, 0.25  ],\n",
       "       [0.6   , 0.11  , 0.05  ],\n",
       "       [0.3   , 0.82  , 0.24  ],\n",
       "       [0.6   , 0.14  , 0.05  ],\n",
       "       [0.275 , 0.85  , 0.22  ],\n",
       "       [0.65  , 0.16  , 0.04  ],\n",
       "       [0.26  , 0.84  , 0.2   ],\n",
       "       [0.7   , 0.0625, 0.    ],\n",
       "       [0.4   , 0.0625, 0.    ]])"
      ]
     },
     "execution_count": 21,
     "metadata": {},
     "output_type": "execute_result"
    }
   ],
   "source": [
    "estimated_half_pose_landmarks"
   ]
  },
  {
   "cell_type": "code",
   "execution_count": 22,
   "id": "6cc28eee-aa1d-4bc5-b2af-3fad27adc446",
   "metadata": {},
   "outputs": [
    {
     "data": {
      "text/plain": [
       "array([[0.8   , 0.6875, 0.    ],\n",
       "       [0.25  , 0.6875, 0.    ],\n",
       "       [0.85  , 0.3125, 0.    ],\n",
       "       [0.05  , 0.5   , 0.55  ],\n",
       "       [0.675 , 0.125 , 0.05  ],\n",
       "       [0.2   , 0.8125, 0.25  ],\n",
       "       [0.6   , 0.11  , 0.05  ],\n",
       "       [0.3   , 0.82  , 0.24  ],\n",
       "       [0.6   , 0.14  , 0.05  ],\n",
       "       [0.275 , 0.85  , 0.22  ],\n",
       "       [0.65  , 0.16  , 0.04  ],\n",
       "       [0.26  , 0.84  , 0.2   ],\n",
       "       [0.7   , 0.0625, 0.    ],\n",
       "       [0.4   , 0.0625, 0.    ]])"
      ]
     },
     "execution_count": 22,
     "metadata": {},
     "output_type": "execute_result"
    }
   ],
   "source": [
    "half_pose_landmarks"
   ]
  },
  {
   "cell_type": "code",
   "execution_count": 23,
   "id": "dbf6efcf-a216-4e23-9b22-a5fe4d0f94d9",
   "metadata": {},
   "outputs": [
    {
     "data": {
      "text/plain": [
       "array([[ 0.00000000e+00,  0.00000000e+00,  0.00000000e+00],\n",
       "       [ 0.00000000e+00,  0.00000000e+00,  0.00000000e+00],\n",
       "       [ 0.00000000e+00,  0.00000000e+00,  0.00000000e+00],\n",
       "       [ 0.00000000e+00,  0.00000000e+00,  0.00000000e+00],\n",
       "       [ 0.00000000e+00,  0.00000000e+00, -5.55111512e-17],\n",
       "       [ 1.11022302e-16,  0.00000000e+00,  5.55111512e-17],\n",
       "       [ 0.00000000e+00, -8.32667268e-17, -2.42861287e-16],\n",
       "       [ 5.55111512e-17, -1.11022302e-16,  5.55111512e-17],\n",
       "       [ 0.00000000e+00, -8.32667268e-17, -3.19189120e-16],\n",
       "       [ 1.11022302e-16,  0.00000000e+00,  2.77555756e-17],\n",
       "       [ 0.00000000e+00, -8.32667268e-17, -2.22044605e-16],\n",
       "       [ 1.11022302e-16,  0.00000000e+00,  5.55111512e-17],\n",
       "       [ 0.00000000e+00,  0.00000000e+00,  0.00000000e+00],\n",
       "       [ 0.00000000e+00,  0.00000000e+00,  0.00000000e+00]])"
      ]
     },
     "execution_count": 23,
     "metadata": {},
     "output_type": "execute_result"
    }
   ],
   "source": [
    "half_pose_landmarks - estimated_half_pose_landmarks"
   ]
  },
  {
   "cell_type": "code",
   "execution_count": 24,
   "id": "298dba22-fe1b-460d-998d-623ce808f808",
   "metadata": {},
   "outputs": [],
   "source": [
    "def move_arms(half_pose_landmarks_0, half_pose_landmarks_1, N, frame_width, frame_height):\n",
    "    \"\"\"\n",
    "    Given two arrays of shape (14, 3) representing two \"half pose landmarks\" and an integer N,\n",
    "    returns an array of shape (N+1, 14, 3), where each row represents a \"half pose landmark\",\n",
    "    and it represents the movement between the two input arrays.\n",
    "\n",
    "    Inputs:\n",
    "      - half_pose_landmarks_0 (array of shape (14, 3)): initial position\n",
    "      - half_pose_landmarks_1 (array of shape (14, 3)): final position\n",
    "      - N (int): number of steps between initial and final positions\n",
    "\n",
    "    Output: (array of shape (N+1, 14, 3))\n",
    "    \"\"\"\n",
    "    arms_position_0 = pose2arm_position(half_pose_landmarks_0, frame_width, frame_height)\n",
    "    arms_position_1 = pose2arm_position(half_pose_landmarks_1, frame_width, frame_height)\n",
    "\n",
    "    def lin_mov(t, a, b):\n",
    "        return a + t*(b-a)\n",
    "    \n",
    "    # left shoulder direction\n",
    "    lsd_angle = np.arccos(np.clip(np.dot(arms_position_0[\"left_shoulder_direction\"], arms_position_1[\"left_shoulder_direction\"]), -1, 1))\n",
    "    if np.isclose(lsd_angle, 0):\n",
    "        def lsd_geo(t):\n",
    "            return arms_position_0[\"left_shoulder_direction\"]\n",
    "    elif np.isclose(lsd_angle, pi):\n",
    "        # Pasando por arriba\n",
    "        v = arms_position_0[\"left_shoulder_direction\"][1] * arms_position_0[\"left_shoulder_direction\"]\n",
    "        v[1] -= 1\n",
    "        v /= np.sqrt(-v[1])\n",
    "        def lsd_geo(t):\n",
    "            return np.cos(pi * t) * arms_position_0[\"left_shoulder_direction\"] + np.sin(pi * t) * v\n",
    "    else:\n",
    "        lsd_cte1 = 1. / np.sin(lsd_angle)\n",
    "        lsd_cte2 = lsd_cte1 * np.cos(lsd_angle)\n",
    "        az_0 = azimuth(*(arms_position_0[\"left_shoulder_direction\"][[0, 2, 1]] * np.array([-1, 1, 1])))\n",
    "        az_1 = azimuth(*(arms_position_1[\"left_shoulder_direction\"][[0, 2, 1]] * np.array([-1, 1, 1])))\n",
    "        if ((arms_position_0[\"left_shoulder_direction\"][2] * arms_position_1[\"left_shoulder_direction\"][2] < 0) and\n",
    "            (az_1 > az_0 + pi) or (az_1 < az_0 - pi)):\n",
    "            def lsd_geo(t):\n",
    "                return ((np.cos((2.*pi-lsd_angle)*t) + np.sin((2.*pi-lsd_angle)*t)*lsd_cte2) * arms_position_0[\"left_shoulder_direction\"] -\n",
    "                       np.sin((2.*pi-lsd_angle)*t)*lsd_cte1 * arms_position_1[\"left_shoulder_direction\"])\n",
    "        else:\n",
    "            def lsd_geo(t):\n",
    "                return ((np.cos(lsd_angle*t) - np.sin(lsd_angle*t)*lsd_cte2) * arms_position_0[\"left_shoulder_direction\"] +\n",
    "                        np.sin(lsd_angle*t)*lsd_cte1 * arms_position_1[\"left_shoulder_direction\"])\n",
    "\n",
    "    # right shoulder direction\n",
    "    rsd_angle = np.arccos(np.clip(np.dot(arms_position_0[\"right_shoulder_direction\"], arms_position_1[\"right_shoulder_direction\"]), -1, 1))\n",
    "    if np.isclose(rsd_angle, 0):\n",
    "        def lsd_geo(t):\n",
    "            return arms_position_0[\"right_shoulder_direction\"]\n",
    "    elif np.isclose(lsd_angle, pi):\n",
    "        # Pasando por arriba\n",
    "        v = arms_position_0[\"right_shoulder_direction\"][1] * arms_position_0[\"right_shoulder_direction\"]\n",
    "        v[1] -= 1\n",
    "        v /= np.sqrt(-v[1])\n",
    "        def rsd_geo(t):\n",
    "            return np.cos(pi * t) * arms_position_0[\"right_shoulder_direction\"] + np.sin(pi * t) * v\n",
    "    else:\n",
    "        rsd_cte1 = 1. / np.sin(rsd_angle)\n",
    "        rsd_cte2 = rsd_cte1 * np.cos(rsd_angle)\n",
    "        az_0 = azimuth(*(arms_position_0[\"right_shoulder_direction\"][[0, 2, 1]] * np.array([-1, 1, 1])))\n",
    "        az_1 = azimuth(*(arms_position_1[\"right_shoulder_direction\"][[0, 2, 1]] * np.array([-1, 1, 1])))\n",
    "        if ((arms_position_0[\"right_shoulder_direction\"][2] * arms_position_1[\"right_shoulder_direction\"][2] < 0) and\n",
    "           (az_1 > az_0 + np.float64(pi)) or (az_1 < az_0 - np.float64(pi))):\n",
    "            def rsd_geo(t):\n",
    "                return ((np.cos((2.*pi-rsd_angle)*t) + np.sin((2.*pi-rsd_angle)*t)*rsd_cte2) * arms_position_0[\"right_shoulder_direction\"] -\n",
    "                       np.sin((2.*pi-rsd_angle)*t)*rsd_cte1 * arms_position_1[\"right_shoulder_direction\"])\n",
    "        else:\n",
    "            def rsd_geo(t):\n",
    "                return ((np.cos(rsd_angle*t) - np.sin(rsd_angle*t)*rsd_cte2) * arms_position_0[\"right_shoulder_direction\"] +\n",
    "                        np.sin(rsd_angle*t)*rsd_cte1 * arms_position_1[\"right_shoulder_direction\"])\n",
    "\n",
    "\n",
    "    # left wrist rotation and inclination\n",
    "    if np.isclose(arms_position_0[\"left_wrist_rotation\"], arms_position_1[\"left_wrist_rotation\"], atol=1e-2):\n",
    "        def lw_mov(t):\n",
    "            return (lin_mov(t, arms_position_0[\"left_wrist_rotation\"], arms_position_1[\"left_wrist_rotation\"]),\n",
    "                   lin_mov(t, arms_position_0[\"left_wrist_inclination\"], arms_position_1[\"left_wrist_inclination\"]))\n",
    "    else:\n",
    "        total_desp = arms_position_0[\"left_wrist_inclination\"] + arms_position_1[\"left_wrist_inclination\"]\n",
    "        def lw_mov(t):\n",
    "            if t * total_desp < arms_position_0[\"left_wrist_inclination\"]:\n",
    "                return arms_position_0[\"left_wrist_rotation\"], arms_position_0[\"left_wrist_inclination\"] - total_desp * t\n",
    "            else:\n",
    "                return arms_position_1[\"left_wrist_rotation\"], - arms_position_0[\"left_wrist_inclination\"] + total_desp * t\n",
    "\n",
    "    # right wrist rotation and inclination\n",
    "    if np.isclose(arms_position_0[\"right_wrist_rotation\"], arms_position_1[\"right_wrist_rotation\"], atol=1e-2):\n",
    "        def rw_mov(t):\n",
    "            return (lin_mov(t, arms_position_0[\"right_wrist_rotation\"], arms_position_1[\"right_wrist_rotation\"]),\n",
    "                   lin_mov(t, arms_position_0[\"right_wrist_inclination\"], arms_position_1[\"right_wrist_inclination\"]))\n",
    "    else:\n",
    "        total_desp = arms_position_0[\"right_wrist_inclination\"] + arms_position_1[\"right_wrist_inclination\"]\n",
    "        def rw_mov(t):\n",
    "            if t * total_desp < arms_position_0[\"right_wrist_inclination\"]:\n",
    "                return arms_position_0[\"right_wrist_rotation\"], arms_position_0[\"right_wrist_inclination\"] - total_desp * t\n",
    "            else:\n",
    "                return arms_position_1[\"right_wrist_rotation\"], - arms_position_0[\"right_wrist_inclination\"] + total_desp * t\n",
    "\n",
    "\n",
    "    # left thumb\n",
    "    left_thumb_length = np.linalg.norm(arms_position_0[\"left_thumb_vector\"])\n",
    "    left_thumb_direction_0 = arms_position_0[\"left_thumb_vector\"] / left_thumb_length\n",
    "    left_thumb_direction_1 = arms_position_1[\"left_thumb_vector\"] / np.linalg.norm(arms_position_1[\"left_thumb_vector\"])\n",
    "    ltv_angle = np.arccos(np.clip(np.dot(left_thumb_direction_0, left_thumb_direction_1), -1, 1))\n",
    "    if np.isclose(ltv_angle, 0):\n",
    "        def ltv_geo(t):\n",
    "            return arms_position_0[\"left_thumb_vector\"]\n",
    "    else:\n",
    "        ltv_cte1 = 1. / np.sin(ltv_angle)\n",
    "        ltv_cte2 = ltv_cte1 * np.cos(ltv_angle)\n",
    "        def ltv_geo(t):\n",
    "            return left_thumb_length * ((np.cos(ltv_angle*t) - np.sin(ltv_angle*t)*ltv_cte2) * left_thumb_direction_0 +\n",
    "                                        np.sin(ltv_angle*t)*ltv_cte1 * left_thumb_direction_1)\n",
    "\n",
    "    # right thumb\n",
    "    right_thumb_length = np.linalg.norm(arms_position_0[\"right_thumb_vector\"])\n",
    "    right_thumb_direction_0 = arms_position_0[\"right_thumb_vector\"] / right_thumb_length\n",
    "    right_thumb_direction_1 = arms_position_1[\"right_thumb_vector\"] / np.linalg.norm(arms_position_1[\"right_thumb_vector\"])\n",
    "    rtv_angle = np.arccos(np.clip(np.dot(right_thumb_direction_0, right_thumb_direction_1), -1, 1))\n",
    "    if np.isclose(rtv_angle, 0):\n",
    "        def rtv_geo(t):\n",
    "            return arms_position_0[\"right_thumb_vector\"]\n",
    "    else:\n",
    "        rtv_cte1 = 1. / np.sin(rtv_angle)\n",
    "        rtv_cte2 = rtv_cte1 * np.cos(rtv_angle)\n",
    "        def rtv_geo(t):\n",
    "            return right_thumb_length * ((np.cos(rtv_angle*t) - np.sin(rtv_angle*t)*rtv_cte2) * right_thumb_direction_0 +\n",
    "                                        np.sin(rtv_angle*t)*rtv_cte1 * right_thumb_direction_1)\n",
    "\n",
    "\n",
    "    trunk_landmarks = half_pose_landmarks_0[[0, 1, 12, 13]]\n",
    "    arms_position_var = arms_position_0.copy()\n",
    "\n",
    "    def movement_progress(t):\n",
    "        return (3. - 2.*t)*t*t\n",
    "    \n",
    "    half_pose_landmark_movement = np.empty((N+1, 14, 3), dtype=np.float64)\n",
    "    half_pose_landmark_movement[0] = arm_position2pose(arms_position_var, trunk_landmarks, frame_width, frame_height)\n",
    "    \n",
    "    for i in range(1, N+1):\n",
    "        t = i/N\n",
    "        s = movement_progress(t)\n",
    "\n",
    "\n",
    "        arms_position_var[\"left_shoulder_direction\"] = lsd_geo(s)\n",
    "        arms_position_var[\"left_shoulder_rotation\"] = lin_mov(s, arms_position_0[\"left_shoulder_rotation\"], arms_position_1[\"left_shoulder_rotation\"])\n",
    "        arms_position_var[\"left_elbow_angle\"] = lin_mov(s, arms_position_0[\"left_elbow_angle\"], arms_position_1[\"left_elbow_angle\"])\n",
    "        arms_position_var[\"left_elbow_rotation\"] = lin_mov(s, arms_position_0[\"left_elbow_rotation\"], arms_position_1[\"left_elbow_rotation\"])\n",
    "        arms_position_var[\"left_wrist_rotation\"], arms_position_var[\"left_wrist_inclination\"] = lw_mov(s)\n",
    "        arms_position_var[\"left_thumb_vector\"] = ltv_geo(s)\n",
    "\n",
    "        arms_position_var[\"right_shoulder_direction\"] = rsd_geo(s)\n",
    "        arms_position_var[\"right_shoulder_rotation\"] = lin_mov(s, arms_position_0[\"right_shoulder_rotation\"], arms_position_1[\"right_shoulder_rotation\"])\n",
    "        arms_position_var[\"right_elbow_angle\"] = lin_mov(s, arms_position_0[\"right_elbow_angle\"], arms_position_1[\"right_elbow_angle\"])\n",
    "        arms_position_var[\"right_elbow_rotation\"] = lin_mov(s, arms_position_0[\"right_elbow_rotation\"], arms_position_1[\"right_elbow_rotation\"])\n",
    "        arms_position_var[\"right_wrist_rotation\"], arms_position_var[\"right_wrist_inclination\"] = rw_mov(s)\n",
    "        arms_position_var[\"right_thumb_vector\"] = rtv_geo(s)\n",
    "\n",
    "        half_pose_landmark_movement[i] = arm_position2pose(arms_position_var, trunk_landmarks, frame_width, frame_height)\n",
    "\n",
    "    return half_pose_landmark_movement"
   ]
  },
  {
   "cell_type": "code",
   "execution_count": 28,
   "id": "0c6ed049-8be4-41d1-9b44-15b980d68717",
   "metadata": {},
   "outputs": [],
   "source": [
    "pose_landmarks_A = total_results[\"A\"][\"landmarks\"][\"pose\"][27]\n",
    "pose_landmarks_B = total_results[\"M\"][\"landmarks\"][\"pose\"][35]"
   ]
  },
  {
   "cell_type": "code",
   "execution_count": 29,
   "id": "81d613f6-fc6d-422a-88c6-3d3cb8d67ef9",
   "metadata": {},
   "outputs": [
    {
     "data": {
      "text/plain": [
       "25"
      ]
     },
     "execution_count": 29,
     "metadata": {},
     "output_type": "execute_result"
    }
   ],
   "source": [
    "total_results[\"M\"][\"fps\"]"
   ]
  },
  {
   "cell_type": "code",
   "execution_count": 30,
   "id": "9ff77597-f914-4290-868c-51de563fc1dc",
   "metadata": {},
   "outputs": [
    {
     "data": {
      "text/plain": [
       "320"
      ]
     },
     "execution_count": 30,
     "metadata": {},
     "output_type": "execute_result"
    }
   ],
   "source": [
    "total_results[\"M\"][\"frame_width\"]"
   ]
  },
  {
   "cell_type": "code",
   "execution_count": 31,
   "id": "e101ed75-b98b-417a-9199-4155c0592725",
   "metadata": {},
   "outputs": [
    {
     "data": {
      "text/plain": [
       "240"
      ]
     },
     "execution_count": 31,
     "metadata": {},
     "output_type": "execute_result"
    }
   ],
   "source": [
    "total_results[\"M\"][\"frame_height\"]"
   ]
  },
  {
   "cell_type": "code",
   "execution_count": 32,
   "id": "82e73964-b72a-4a91-95b5-75d533f880ec",
   "metadata": {},
   "outputs": [],
   "source": [
    "import mediapipe as mp\n",
    "from mediapipe.framework.formats.landmark_pb2 import NormalizedLandmarkList, LandmarkList\n",
    "import matplotlib.pyplot as plt"
   ]
  },
  {
   "cell_type": "code",
   "execution_count": 184,
   "id": "d3b19de0-0f99-4983-843b-e4b15b38f655",
   "metadata": {},
   "outputs": [
    {
     "data": {
      "text/plain": [
       "array([[ 215.28964996,  130.62304974,  -67.33592033],\n",
       "       [ 108.6544323 ,  125.30493736, -112.00338364],\n",
       "       [ 202.39871979,  280.03915787,    1.34736568],\n",
       "       [ 121.86441422,  278.42004776,   -0.54740049]])"
      ]
     },
     "execution_count": 184,
     "metadata": {},
     "output_type": "execute_result"
    }
   ],
   "source": [
    "pose_landmarks_A[[11, 12, 23, 24],:-1] * np.array([320, 240, 320])"
   ]
  },
  {
   "cell_type": "code",
   "execution_count": 185,
   "id": "e593a630-916b-4d53-aafb-f2a9522281d9",
   "metadata": {},
   "outputs": [
    {
     "data": {
      "text/plain": [
       "array([[214.60483551, 129.92075443, -34.72758532],\n",
       "       [107.45136261, 126.18463039, -97.19534874],\n",
       "       [203.95105362, 281.91747665,   4.50884163],\n",
       "       [121.48565292, 282.3536396 ,  -3.63594562]])"
      ]
     },
     "execution_count": 185,
     "metadata": {},
     "output_type": "execute_result"
    }
   ],
   "source": [
    "pose_landmarks_B[[11, 12, 23, 24],:-1] * np.array([320, 240, 320])"
   ]
  },
  {
   "cell_type": "code",
   "execution_count": 176,
   "id": "130a0e3c-b009-4d73-a645-00cd49d80b24",
   "metadata": {},
   "outputs": [
    {
     "data": {
      "text/plain": [
       "{'left_shoulder_direction': array([ 0.2865199 ,  0.94767279, -0.14079289]),\n",
       " 'left_upperarm_length': 92.87458299371707,\n",
       " 'left_shoulder_rotation': 1.3909115747165839,\n",
       " 'left_elbow_angle': 2.1221455369231355,\n",
       " 'left_forearm_length': 113.41229642900976,\n",
       " 'left_elbow_rotation': 0.4738878112994485,\n",
       " 'left_wrist_rotation': -1.5173649631932125,\n",
       " 'left_wrist_inclination': 0.09250528322444854,\n",
       " 'left_pinky_vector': array([-8.88178420e-16,  8.38088083e+00,  3.29217334e+01]),\n",
       " 'left_index_vector': array([ 1.77635684e-15, -8.38088083e+00,  4.40936617e+01]),\n",
       " 'left_thumb_vector': array([11.07784925, -3.46013851, 17.21136156]),\n",
       " 'right_shoulder_direction': array([0.61101854, 0.1176766 , 0.7828209 ]),\n",
       " 'right_upperarm_length': 201.65724811501065,\n",
       " 'right_shoulder_rotation': 0.3002074179970083,\n",
       " 'right_elbow_angle': 2.3609124158999855,\n",
       " 'right_forearm_length': 265.4919410395385,\n",
       " 'right_elbow_rotation': 0.03919732700608693,\n",
       " 'right_wrist_rotation': 0.8103483054526966,\n",
       " 'right_wrist_inclination': 0.283013134115538,\n",
       " 'right_pinky_vector': array([ 1.77635684e-15, -8.66888801e+00,  5.83920848e+01]),\n",
       " 'right_index_vector': array([-3.55271368e-15,  8.66888801e+00,  5.02606062e+01]),\n",
       " 'right_thumb_vector': array([ 6.85193046, 24.58267005, 14.83336877])}"
      ]
     },
     "execution_count": 176,
     "metadata": {},
     "output_type": "execute_result"
    }
   ],
   "source": [
    "pose2arm_position(pose_landmarks_B[11:25], 320, 240)"
   ]
  },
  {
   "cell_type": "code",
   "execution_count": 177,
   "id": "0a43f68b-8908-4406-9a94-774424924beb",
   "metadata": {},
   "outputs": [
    {
     "data": {
      "text/plain": [
       "{'left_shoulder_direction': array([ 0.2865199 ,  0.94767279, -0.14079289]),\n",
       " 'left_upperarm_length': 92.87458299371707,\n",
       " 'left_shoulder_rotation': 1.390911574716584,\n",
       " 'left_elbow_angle': 2.122145536923135,\n",
       " 'left_forearm_length': 113.41229642900977,\n",
       " 'left_elbow_rotation': 0.47388781129944874,\n",
       " 'left_wrist_rotation': -1.5173649631932156,\n",
       " 'left_wrist_inclination': 0.09250528322444733,\n",
       " 'left_pinky_vector': array([1.77635684e-15, 8.38088083e+00, 3.29217334e+01]),\n",
       " 'left_index_vector': array([ 3.55271368e-15, -8.38088083e+00,  4.40936617e+01]),\n",
       " 'left_thumb_vector': array([11.07784925, -3.46013851, 17.21136156]),\n",
       " 'right_shoulder_direction': array([0.61101854, 0.1176766 , 0.7828209 ]),\n",
       " 'right_upperarm_length': 201.65724811501062,\n",
       " 'right_shoulder_rotation': 0.30020741799700795,\n",
       " 'right_elbow_angle': 2.3609124158999855,\n",
       " 'right_forearm_length': 265.4919410395385,\n",
       " 'right_elbow_rotation': 0.039197327006084096,\n",
       " 'right_wrist_rotation': 0.8103483054526959,\n",
       " 'right_wrist_inclination': 0.283013134115538,\n",
       " 'right_pinky_vector': array([-1.77635684e-15, -8.66888801e+00,  5.83920848e+01]),\n",
       " 'right_index_vector': array([-1.77635684e-15,  8.66888801e+00,  5.02606062e+01]),\n",
       " 'right_thumb_vector': array([ 6.85193046, 24.58267005, 14.83336877])}"
      ]
     },
     "execution_count": 177,
     "metadata": {},
     "output_type": "execute_result"
    }
   ],
   "source": [
    "pose2arm_position(arm_position2pose(pose2arm_position(pose_landmarks_B[11:25], 320, 240), pose_landmarks_A[[11, 12, 23, 24],:-1], 320, 240), 320, 240)"
   ]
  },
  {
   "cell_type": "code",
   "execution_count": 36,
   "id": "d682139b-43b6-4366-8941-4f6c8e360f08",
   "metadata": {},
   "outputs": [
    {
     "data": {
      "text/plain": [
       "<matplotlib.image.AxesImage at 0x28aa5dab850>"
      ]
     },
     "execution_count": 36,
     "metadata": {},
     "output_type": "execute_result"
    },
    {
     "data": {
      "image/png": "[encoded data removed]",
      "text/plain": [
       "<Figure size 640x480 with 1 Axes>"
      ]
     },
     "metadata": {},
     "output_type": "display_data"
    }
   ],
   "source": [
    "mp_drawing = mp.solutions.drawing_utils\n",
    "mp_drawing_styles = mp.solutions.drawing_styles\n",
    "mp_pose = mp.solutions.pose\n",
    "\n",
    "estimated_pose_landmarks = pose_landmarks_A.copy()\n",
    "# estimated_pose_landmarks[11:25, :-1] = arm_position2pose(pose2arm_position(pose_landmarks_A[11:25], 320, 240), pose_landmarks_A[[11, 12, 23, 24],:-1], 320, 240)\n",
    "\n",
    "# estimated_pose_landmarks = pose_landmarks_B.copy()\n",
    "estimated_pose_landmarks[11:25, :-1] = arm_position2pose(pose2arm_position(pose_landmarks_B[11:25], 320, 240), pose_landmarks_A[[11, 12, 23, 24],:-1], 320, 240)\n",
    "\n",
    "landmark_list = NormalizedLandmarkList()\n",
    "for landmark in estimated_pose_landmarks:\n",
    "    landmark_list.landmark.append(mp.tasks.components.containers.NormalizedLandmark(*landmark).to_pb2())\n",
    "\n",
    "image = np.zeros((240, 320, 3), dtype=np.uint8)\n",
    "mp_drawing.draw_landmarks(\n",
    "    image,\n",
    "    landmark_list,\n",
    "    mp_pose.POSE_CONNECTIONS,\n",
    "    landmark_drawing_spec=mp_drawing_styles.get_default_pose_landmarks_style()\n",
    ")\n",
    "\n",
    "plt.imshow(image)"
   ]
  },
  {
   "cell_type": "code",
   "execution_count": 85,
   "id": "68947586-b8d6-453b-88e3-791677fe6047",
   "metadata": {},
   "outputs": [],
   "source": [
    "half_pose_landmarks_0 = pose_landmarks_A[11:25, :-1]\n",
    "half_pose_landmarks_1 = pose_landmarks_B[11:25, :-1]\n",
    "\n",
    "half_pose_landmark_movement = move_arms(half_pose_landmarks_0, half_pose_landmarks_1, 100, 320, 240)"
   ]
  },
  {
   "cell_type": "code",
   "execution_count": 86,
   "id": "b8bdee37-cf29-4901-a8c8-4193a18598ed",
   "metadata": {},
   "outputs": [],
   "source": [
    "import cv2\n",
    "out_video_path = 'prueba1.mp4'\n",
    "\n",
    "out = cv2.VideoWriter(\n",
    "    filename=out_video_path,\n",
    "    fourcc=cv2.VideoWriter_fourcc(*'mp4v'),\n",
    "    fps=25,\n",
    "    frameSize=(320, 240)\n",
    ")\n",
    "\n",
    "pose_landmarks = pose_landmarks_A.copy()\n",
    "\n",
    "mp_drawing = mp.solutions.drawing_utils\n",
    "mp_drawing_styles = mp.solutions.drawing_styles\n",
    "mp_pose = mp.solutions.pose\n",
    "\n",
    "for half_pose_landmark in half_pose_landmark_movement:\n",
    "    pose_landmarks[11:25, :-1] = half_pose_landmark\n",
    "\n",
    "    landmark_list = NormalizedLandmarkList()\n",
    "    for landmark in pose_landmarks:\n",
    "        landmark_list.landmark.append(mp.tasks.components.containers.NormalizedLandmark(*landmark).to_pb2())\n",
    "\n",
    "    image = np.zeros((240, 320, 3), dtype=np.uint8)\n",
    "    mp_drawing.draw_landmarks(\n",
    "        image,\n",
    "        landmark_list,\n",
    "        mp_pose.POSE_CONNECTIONS,\n",
    "        landmark_drawing_spec=mp_drawing_styles.get_default_pose_landmarks_style()\n",
    "    )\n",
    "\n",
    "    out.write(image)\n",
    "out.release()"
   ]
  },
  {
   "cell_type": "code",
   "execution_count": 39,
   "id": "6059f61b-a03c-463e-8578-49316fc3206e",
   "metadata": {},
   "outputs": [
    {
     "data": {
      "image/png": "[encoded data removed]",
      "text/plain": [
       "<Figure size 1000x1000 with 1 Axes>"
      ]
     },
     "metadata": {},
     "output_type": "display_data"
    }
   ],
   "source": [
    "from IPython.display import display, clear_output\n",
    "\n",
    "pose_world_landmarks_A = total_results[\"A\"][\"landmarks\"][\"pose_world\"][27]\n",
    "pose_world_landmarks_B = total_results[\"M\"][\"landmarks\"][\"pose_world\"][35]\n",
    "\n",
    "pose_world_landmarks = pose_world_landmarks_A.copy()\n",
    "# pose_world_landmarks[11:25, :-1] = arm_position2pose(\n",
    "#     pose2arm_position(pose_world_landmarks_A[11:25], 1, 1), pose_world_landmarks_A[[11, 12, 23, 24],:-1], 1, 1)\n",
    "\n",
    "# pose_world_landmarks = pose_world_landmarks_B.copy()\n",
    "pose_world_landmarks[11:25, :-1] = arm_position2pose(\n",
    "    pose2arm_position(pose_world_landmarks_B[11:25], 1, 1), pose_world_landmarks_A[[11, 12, 23, 24],:-1], 1, 1)\n",
    "\n",
    "\n",
    "\n",
    "mp_drawing = mp.solutions.drawing_utils\n",
    "mp_pose = mp.solutions.pose\n",
    "\n",
    "landmark_list = LandmarkList()\n",
    "for landmark in pose_world_landmarks:\n",
    "    landmark_list.landmark.append(mp.tasks.components.containers.Landmark(*landmark).to_pb2())\n",
    "\n",
    "mp_drawing.plot_landmarks(landmark_list, mp_pose.POSE_CONNECTIONS)\n",
    "\n",
    "# for i, pose_world_landmarks in enumerate(total_results[\"A\"][\"landmarks\"][\"pose_world\"][27:28]):\n",
    "#     landmark_list = LandmarkList()\n",
    "#     for landmark in pose_world_landmarks:\n",
    "#         landmark_list.landmark.append(mp.tasks.components.containers.Landmark(*landmark).to_pb2())\n",
    "\n",
    "#     clear_output(wait=True)\n",
    "#     display(mp_drawing.plot_landmarks(landmark_list, mp_pose.POSE_CONNECTIONS))\n",
    "#     plt.close()\n",
    "#     print(i)"
   ]
  },
  {
   "cell_type": "code",
   "execution_count": 40,
   "id": "ef706ec1-8790-4fa0-8ebc-9734aeb11f39",
   "metadata": {},
   "outputs": [],
   "source": [
    "pose_world_landmarks_A = total_results[\"A\"][\"landmarks\"][\"pose_world\"][27]\n",
    "pose_world_landmarks_B = total_results[\"M\"][\"landmarks\"][\"pose_world\"][35]\n",
    "\n",
    "half_pose_world_landmarks_0 = pose_world_landmarks_A[11:25, :-1]\n",
    "half_pose_world_landmarks_1 = pose_world_landmarks_B[11:25, :-1]\n",
    "\n",
    "half_pose_world_landmark_movement = move_arms(half_pose_world_landmarks_0, half_pose_world_landmarks_1, 20, 1, 1)"
   ]
  },
  {
   "cell_type": "code",
   "execution_count": 43,
   "id": "b0b296ff-e54b-4119-b395-fbe87118474e",
   "metadata": {},
   "outputs": [
    {
     "data": {
      "image/png": "[encoded data removed]",
      "text/plain": [
       "<Figure size 1000x1000 with 1 Axes>"
      ]
     },
     "metadata": {},
     "output_type": "display_data"
    },
    {
     "data": {
      "text/plain": [
       "None"
      ]
     },
     "metadata": {},
     "output_type": "display_data"
    }
   ],
   "source": [
    "pose_world_landmarks = pose_world_landmarks_A.copy()\n",
    "\n",
    "for half_pose_world_landmarks in half_pose_world_landmark_movement:\n",
    "    pose_world_landmarks[11:25, :-1] = half_pose_world_landmarks\n",
    "\n",
    "    landmark_list = LandmarkList()\n",
    "    for landmark in pose_world_landmarks:\n",
    "        landmark_list.landmark.append(mp.tasks.components.containers.Landmark(*landmark).to_pb2())\n",
    "\n",
    "    clear_output(wait=True)\n",
    "    display(mp_drawing.plot_landmarks(landmark_list, mp_pose.POSE_CONNECTIONS))\n",
    "    plt.close()"
   ]
  },
  {
   "cell_type": "code",
   "execution_count": 51,
   "id": "ce1ddab1-bb2c-436c-a4ad-e99cec04ef05",
   "metadata": {},
   "outputs": [
    {
     "data": {
      "text/plain": [
       "{'left_shoulder_direction': array([ 0.28130096,  0.93249154, -0.22655972]),\n",
       " 'left_upperarm_length': 94.04641972095227,\n",
       " 'left_shoulder_rotation': 1.1881869129761622,\n",
       " 'left_elbow_angle': 1.993481980310717,\n",
       " 'left_forearm_length': 116.17307116168583,\n",
       " 'left_elbow_rotation': 0.459216735516346,\n",
       " 'left_wrist_rotation': -1.484624410284466,\n",
       " 'left_wrist_inclination': 0.08137818244143692,\n",
       " 'left_pinky_vector': array([ 0.        ,  7.59005658, 33.27321082]),\n",
       " 'left_index_vector': array([ 0.        , -7.59005658, 44.36800029]),\n",
       " 'left_thumb_vector': array([10.62286793, -2.82067977, 15.26829148]),\n",
       " 'right_shoulder_direction': array([0.4991802 , 0.03108515, 0.86594044]),\n",
       " 'right_upperarm_length': 184.3225295489284,\n",
       " 'right_shoulder_rotation': 0.2587024182885146,\n",
       " 'right_elbow_angle': 2.343843522682917,\n",
       " 'right_forearm_length': 260.6934064478994,\n",
       " 'right_elbow_rotation': -0.11569376618304789,\n",
       " 'right_wrist_rotation': 1.0019845125948683,\n",
       " 'right_wrist_inclination': 0.2236256359346491,\n",
       " 'right_pinky_vector': array([-1.77635684e-15, -7.99407101e+00,  5.54729760e+01]),\n",
       " 'right_index_vector': array([ 0.        ,  7.99407101, 49.97980145]),\n",
       " 'right_thumb_vector': array([ 7.69543223, 22.57223013, 13.12077577])}"
      ]
     },
     "execution_count": 51,
     "metadata": {},
     "output_type": "execute_result"
    }
   ],
   "source": [
    "pose_landmarks_A = total_results[\"A\"][\"landmarks\"][\"pose\"][27]\n",
    "pose2arm_position(pose_landmarks_A[11:25], 320, 240)"
   ]
  },
  {
   "cell_type": "code",
   "execution_count": 49,
   "id": "517c35aa-16d5-4a6d-a8f7-8cdb11a5a33d",
   "metadata": {},
   "outputs": [
    {
     "data": {
      "text/plain": [
       "{'left_shoulder_direction': array([ 0.16516222,  0.94785407, -0.27256944]),\n",
       " 'left_upperarm_length': 0.22730005026268751,\n",
       " 'left_shoulder_rotation': 0.925308621531505,\n",
       " 'left_elbow_angle': 2.677890393934267,\n",
       " 'left_forearm_length': 0.23385477497999366,\n",
       " 'left_elbow_rotation': 0.35138195065088595,\n",
       " 'left_wrist_rotation': -1.353598584133216,\n",
       " 'left_wrist_inclination': 0.4570400788137248,\n",
       " 'left_pinky_vector': array([0.        , 0.01895465, 0.0673354 ]),\n",
       " 'left_index_vector': array([-3.46944695e-18, -1.89546453e-02,  5.89357811e-02]),\n",
       " 'left_thumb_vector': array([ 0.00811606, -0.01550806,  0.01503097]),\n",
       " 'right_shoulder_direction': array([0.38028079, 0.67464335, 0.6326475 ]),\n",
       " 'right_upperarm_length': 0.273559165023439,\n",
       " 'right_shoulder_rotation': 1.0335230022995774,\n",
       " 'right_elbow_angle': 1.7006819024321413,\n",
       " 'right_forearm_length': 0.27967996028533876,\n",
       " 'right_elbow_rotation': -0.9422196004949209,\n",
       " 'right_wrist_rotation': 0.4909602595409564,\n",
       " 'right_wrist_inclination': 0.7598050510466584,\n",
       " 'right_pinky_vector': array([-1.73472348e-18, -1.24229720e-02,  5.66295229e-02]),\n",
       " 'right_index_vector': array([0.        , 0.01242297, 0.09717827]),\n",
       " 'right_thumb_vector': array([-0.00380174,  0.00601196,  0.02223481])}"
      ]
     },
     "execution_count": 49,
     "metadata": {},
     "output_type": "execute_result"
    }
   ],
   "source": [
    "pose_world_landmarks_A = total_results[\"A\"][\"landmarks\"][\"pose_world\"][27]\n",
    "pose2arm_position(pose_world_landmarks_A[11:25], 1, 1)"
   ]
  },
  {
   "cell_type": "code",
   "execution_count": 50,
   "id": "a0f63748-980b-44eb-8d54-1ebf467bb5ac",
   "metadata": {},
   "outputs": [
    {
     "data": {
      "text/plain": [
       "{'left_shoulder_direction': array([ 0.08110796,  0.98142353, -0.17386588]),\n",
       " 'left_upperarm_length': 0.23391106872359502,\n",
       " 'left_shoulder_rotation': 0.9950164972624427,\n",
       " 'left_elbow_angle': 2.3191228756278273,\n",
       " 'left_forearm_length': 0.19823293720344246,\n",
       " 'left_elbow_rotation': 0.3144665808336417,\n",
       " 'left_wrist_rotation': -0.6800724761034774,\n",
       " 'left_wrist_inclination': 0.15292666866384888,\n",
       " 'left_pinky_vector': array([0.        , 0.01941001, 0.0825821 ]),\n",
       " 'left_index_vector': array([-3.46944695e-18, -1.94100062e-02,  7.86493845e-02]),\n",
       " 'left_thumb_vector': array([ 0.00710486, -0.01142746,  0.01195676]),\n",
       " 'right_shoulder_direction': array([0.33537527, 0.93355599, 0.12647785]),\n",
       " 'right_upperarm_length': 0.24050054060099316,\n",
       " 'right_shoulder_rotation': 1.4425498345264987,\n",
       " 'right_elbow_angle': 1.8924794932766318,\n",
       " 'right_forearm_length': 0.18030694714949952,\n",
       " 'right_elbow_rotation': -0.1300403187286982,\n",
       " 'right_wrist_rotation': 0.17153607305885749,\n",
       " 'right_wrist_inclination': 0.21492001320516538,\n",
       " 'right_pinky_vector': array([ 0.        , -0.02191278,  0.06034636]),\n",
       " 'right_index_vector': array([0.        , 0.02191278, 0.07244316]),\n",
       " 'right_thumb_vector': array([0.0009145 , 0.0147153 , 0.01977327])}"
      ]
     },
     "execution_count": 50,
     "metadata": {},
     "output_type": "execute_result"
    }
   ],
   "source": [
    "pose_world_landmarks_A = total_results[\"A\"][\"landmarks\"][\"pose_world\"][10]\n",
    "pose2arm_position(pose_world_landmarks_A[11:25], 1, 1)"
   ]
  },
  {
   "cell_type": "code",
   "execution_count": 48,
   "id": "29be225b-36be-448f-9bb5-0a97fc9fa94c",
   "metadata": {},
   "outputs": [
    {
     "data": {
      "text/plain": [
       "array([[-4.24156943e-03, -5.99627435e-01, -2.31865227e-01,\n",
       "         9.99807775e-01],\n",
       "       [ 1.73092959e-03, -6.37744367e-01, -2.12755233e-01,\n",
       "         9.99467611e-01],\n",
       "       [ 2.24528159e-03, -6.40360475e-01, -2.10679397e-01,\n",
       "         9.99528885e-01],\n",
       "       [ 2.39038724e-03, -6.40774190e-01, -2.10237294e-01,\n",
       "         9.99322891e-01],\n",
       "       [-3.13026905e-02, -6.33506179e-01, -2.15969220e-01,\n",
       "         9.99616385e-01],\n",
       "       [-3.14703733e-02, -6.34285867e-01, -2.18521982e-01,\n",
       "         9.99741793e-01],\n",
       "       [-3.19241174e-02, -6.36329114e-01, -2.18588337e-01,\n",
       "         9.99731541e-01],\n",
       "       [ 5.87765910e-02, -6.16183043e-01, -8.05322379e-02,\n",
       "         9.99272466e-01],\n",
       "       [-9.27427262e-02, -6.11878812e-01, -9.57379714e-02,\n",
       "         9.99829352e-01],\n",
       "       [ 2.00013835e-02, -5.71750939e-01, -1.90957338e-01,\n",
       "         9.99850512e-01],\n",
       "       [-2.63779983e-02, -5.65912187e-01, -1.96918428e-01,\n",
       "         9.99917924e-01],\n",
       "       [ 1.48115635e-01, -4.27824646e-01, -4.28478494e-02,\n",
       "         9.98189688e-01],\n",
       "       [-1.82617500e-01, -4.33391124e-01, -8.91484693e-02,\n",
       "         9.99735177e-01],\n",
       "       [ 1.84675559e-01, -2.04263017e-01, -6.94468766e-02,\n",
       "         7.46130228e-01],\n",
       "       [-2.68604428e-01, -2.24932224e-01, -2.42514044e-01,\n",
       "         9.36319828e-01],\n",
       "       [ 2.14951143e-01, -7.51562649e-03, -1.99637666e-01,\n",
       "         5.63238740e-01],\n",
       "       [-1.16582558e-01, -2.89903432e-01, -4.67500359e-01,\n",
       "         8.84423375e-01],\n",
       "       [ 2.11573988e-01,  4.83690090e-02, -2.44008303e-01,\n",
       "         5.00217855e-01],\n",
       "       [-6.69980496e-02, -3.17130387e-01, -4.83601362e-01,\n",
       "         8.73264968e-01],\n",
       "       [ 1.95806459e-01,  1.59275886e-02, -2.56079018e-01,\n",
       "         5.41261315e-01],\n",
       "       [-5.32480367e-02, -3.63000065e-01, -4.88221377e-01,\n",
       "         8.78321350e-01],\n",
       "       [ 1.98166341e-01, -7.56529998e-03, -2.15743840e-01,\n",
       "         5.82605600e-01],\n",
       "       [-1.05194643e-01, -3.09114844e-01, -4.75292027e-01,\n",
       "         8.79054725e-01],\n",
       "       [ 1.14348218e-01,  1.09499088e-02,  1.32816015e-02,\n",
       "         4.32776585e-02],\n",
       "       [-1.15936227e-01, -1.71338283e-02, -1.46839153e-02,\n",
       "         6.16513826e-02],\n",
       "       [ 6.97083548e-02,  1.53686270e-01, -2.46912353e-02,\n",
       "         4.96596913e-04],\n",
       "       [-1.13530733e-01, -8.50174725e-02, -2.82095909e-01,\n",
       "         3.47061636e-04],\n",
       "       [ 1.19612731e-01,  4.74974990e-01,  8.99413824e-02,\n",
       "         1.62944387e-04],\n",
       "       [-5.77494502e-02,  2.35578299e-01, -2.95228124e-01,\n",
       "         5.05010466e-05],\n",
       "       [ 1.22744180e-01,  5.11958957e-01,  1.15582123e-01,\n",
       "         1.20166333e-04],\n",
       "       [-7.23567978e-02,  2.84956157e-01, -2.49491543e-01,\n",
       "         6.50073052e-05],\n",
       "       [ 1.86652973e-01,  4.91134912e-01, -8.45160708e-02,\n",
       "         8.70710137e-05],\n",
       "       [-2.72366013e-02,  1.63005963e-01, -5.62779367e-01,\n",
       "         1.85799872e-04]])"
      ]
     },
     "execution_count": 48,
     "metadata": {},
     "output_type": "execute_result"
    }
   ],
   "source": [
    "total_results[\"A\"][\"landmarks\"][\"pose_world\"][30]"
   ]
  },
  {
   "cell_type": "code",
   "execution_count": 65,
   "id": "88b6158f-42b5-48d4-9432-2693b4077583",
   "metadata": {
    "scrolled": true
   },
   "outputs": [
    {
     "data": {
      "text/plain": [
       "array([[-5.53170824e-03, -6.20001495e-01, -1.84478953e-01,\n",
       "         9.99849200e-01],\n",
       "       [ 8.16853659e-04, -6.57751799e-01, -1.62456900e-01,\n",
       "         9.99554098e-01],\n",
       "       [ 1.26231113e-03, -6.60648465e-01, -1.60611287e-01,\n",
       "         9.99596298e-01],\n",
       "       [ 1.47601136e-03, -6.60805464e-01, -1.60236105e-01,\n",
       "         9.99471664e-01],\n",
       "       [-3.29192169e-02, -6.53832138e-01, -1.65882468e-01,\n",
       "         9.99684989e-01],\n",
       "       [-3.33837643e-02, -6.54460073e-01, -1.68383375e-01,\n",
       "         9.99793708e-01],\n",
       "       [-3.36742178e-02, -6.56654060e-01, -1.68258756e-01,\n",
       "         9.99795258e-01],\n",
       "       [ 6.14647903e-02, -6.28405988e-01, -3.02489866e-02,\n",
       "         9.99305248e-01],\n",
       "       [-9.35575888e-02, -6.25902772e-01, -4.33640555e-02,\n",
       "         9.99845982e-01],\n",
       "       [ 1.91329625e-02, -5.88006735e-01, -1.44669309e-01,\n",
       "         9.99818444e-01],\n",
       "       [-2.83655729e-02, -5.83120644e-01, -1.50911987e-01,\n",
       "         9.99883950e-01],\n",
       "       [ 1.49766713e-01, -4.36685652e-01, -8.10647290e-03,\n",
       "         9.98172760e-01],\n",
       "       [-1.80179879e-01, -4.40789551e-01, -4.88560610e-02,\n",
       "         9.99711394e-01],\n",
       "       [ 1.92368284e-01, -2.12696180e-01, -5.00852987e-02,\n",
       "         8.13839734e-01],\n",
       "       [-2.66466141e-01, -2.35375762e-01, -2.14435309e-01,\n",
       "         9.54131603e-01],\n",
       "       [ 2.12780878e-01, -3.43681164e-02, -1.73086569e-01,\n",
       "         6.42163455e-01],\n",
       "       [-1.22437574e-01, -3.24308962e-01, -4.44361627e-01,\n",
       "         9.21936989e-01],\n",
       "       [ 2.02042267e-01,  1.83196142e-02, -2.17315137e-01,\n",
       "         5.77717245e-01],\n",
       "       [-8.10087249e-02, -3.57943892e-01, -4.60248858e-01,\n",
       "         9.15471852e-01],\n",
       "       [ 1.85815945e-01, -1.98705401e-02, -2.23234743e-01,\n",
       "         6.15899146e-01],\n",
       "       [-7.29034469e-02, -4.01356816e-01, -4.66629118e-01,\n",
       "         9.18469787e-01],\n",
       "       [ 1.95075482e-01, -3.58712822e-02, -1.87463596e-01,\n",
       "         6.66377485e-01],\n",
       "       [-1.14743173e-01, -3.43471915e-01, -4.52413559e-01,\n",
       "         9.18865502e-01],\n",
       "       [ 1.13408893e-01,  1.38766337e-02,  1.47694126e-02,\n",
       "         5.02763838e-02],\n",
       "       [-1.14915945e-01, -1.96457356e-02, -1.65185761e-02,\n",
       "         6.98195323e-02],\n",
       "       [ 8.12774375e-02,  1.47885472e-01, -3.80929746e-02,\n",
       "         5.80067339e-04],\n",
       "       [-1.28132254e-01, -7.95103088e-02, -2.84965545e-01,\n",
       "         3.64937179e-04],\n",
       "       [ 1.26722738e-01,  4.61823255e-01,  8.42724219e-02,\n",
       "         9.72080452e-05],\n",
       "       [-7.10733458e-02,  2.39087731e-01, -3.16370875e-01,\n",
       "         4.88431397e-05],\n",
       "       [ 1.27753630e-01,  4.97947603e-01,  1.10077456e-01,\n",
       "         6.59817379e-05],\n",
       "       [-8.29119161e-02,  2.90686131e-01, -2.69743264e-01,\n",
       "         5.07446966e-05],\n",
       "       [ 1.96273863e-01,  4.65264112e-01, -9.33033451e-02,\n",
       "         6.60309670e-05],\n",
       "       [-2.65262611e-02,  1.65562138e-01, -5.93836784e-01,\n",
       "         1.58023424e-04]])"
      ]
     },
     "execution_count": 65,
     "metadata": {},
     "output_type": "execute_result"
    }
   ],
   "source": [
    "total_results[\"LL\"][\"landmarks\"][\"pose_world\"][30]"
   ]
  }
 ],
 "metadata": {
  "kernelspec": {
   "display_name": "Python 3 (ipykernel)",
   "language": "python",
   "name": "python3"
  },
  "language_info": {
   "codemirror_mode": {
    "name": "ipython",
    "version": 3
   },
   "file_extension": ".py",
   "mimetype": "text/x-python",
   "name": "python",
   "nbconvert_exporter": "python",
   "pygments_lexer": "ipython3",
   "version": "3.11.10"
  }
 },
 "nbformat": 4,
 "nbformat_minor": 5
}
