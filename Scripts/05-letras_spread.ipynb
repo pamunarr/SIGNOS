{
 "cells": [
  {
   "cell_type": "code",
   "execution_count": 1,
   "id": "2980629e-1b62-4069-a54b-fa59e5d5fccf",
   "metadata": {},
   "outputs": [],
   "source": [
    "import requests"
   ]
  },
  {
   "cell_type": "code",
   "execution_count": 37,
   "id": "bcb4cc0f-6bb1-4451-994f-9cad4b261c61",
   "metadata": {},
   "outputs": [],
   "source": [
    "alphabet = [\n",
    "    'A', 'B', 'C', 'D', 'E', 'F', 'G', 'H', 'I', 'J', 'K', 'L', 'LL', 'M', 'N',\n",
    "    'N_', 'O', 'P', 'Q', 'R', 'RR', 'S', 'T', 'U', 'V', 'W', 'X', 'Y', 'Z', 'CH'\n",
    "]\n",
    "for i in range(617, 647):\n",
    "    j = 1\n",
    "    continuar = True\n",
    "    while continuar:\n",
    "        video_path = \"https://media.spreadthesign.com/video/mp4/5/alphabet-letter-%s-%s.mp4\" % (i, j)\n",
    "        r = requests.get(video_path)\n",
    "        if r.status_code == 200:\n",
    "            video_data = r.iter_content(chunk_size=8192)\n",
    "        else:\n",
    "            continuar = False\n",
    "        j += 1\n",
    "    r.close()\n",
    "    \n",
    "    j = 1\n",
    "    continuar = True\n",
    "    while continuar:\n",
    "        img_path = \"https://media.spreadthesign.com/image/500/alphabet-letter-%s-%s.jpg\" % (i, j)\n",
    "        r = requests.get(img_path)\n",
    "        if r.status_code == 200:\n",
    "            img_data = r.iter_content(chunk_size=8192)\n",
    "        else:\n",
    "            continuar = False\n",
    "        j += 1\n",
    "    r.close()\n",
    "    \n",
    "    letter = alphabet.pop(0)\n",
    "    with open(\"../Datos/Brutos/Letras_Spread/%s.mp4\" % letter, \"wb\") as f:\n",
    "        for chunk in video_data:\n",
    "            f.write(chunk)\n",
    "    with open(\"../Datos/Brutos/Letras_Spread/%s.jpg\" % letter, \"wb\") as f:\n",
    "        for chunk in img_data:\n",
    "            f.write(chunk)"
   ]
  }
 ],
 "metadata": {
  "kernelspec": {
   "display_name": "Python 3 (ipykernel)",
   "language": "python",
   "name": "python3"
  },
  "language_info": {
   "codemirror_mode": {
    "name": "ipython",
    "version": 3
   },
   "file_extension": ".py",
   "mimetype": "text/x-python",
   "name": "python",
   "nbconvert_exporter": "python",
   "pygments_lexer": "ipython3",
   "version": "3.11.10"
  }
 },
 "nbformat": 4,
 "nbformat_minor": 5
}
