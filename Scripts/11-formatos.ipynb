{
 "cells": [
  {
   "cell_type": "code",
   "execution_count": 1,
   "id": "900896a6-9a5d-4cf2-b3b8-0c5254d43068",
   "metadata": {},
   "outputs": [],
   "source": [
    "import json\n",
    "import numpy as np\n",
    "from pickle import load"
   ]
  },
  {
   "cell_type": "code",
   "execution_count": 2,
   "id": "66080f50-d057-403a-b382-1914f203f171",
   "metadata": {},
   "outputs": [],
   "source": [
    "with open(\"../Datos/Procesados/jsons/alphapose/halpe26/A/alphapose-results.json\") as f:\n",
    "    halpe = json.load(f)\n",
    "with open(\"../Datos/Procesados/jsons/alphapose/results/coco/fast_pose/A/alphapose-results.json\") as f:\n",
    "    fast = json.load(f)\n",
    "with open(\"../Datos/Procesados/jsons/alphapose/results/coco/fast_pose_dcn/A/alphapose-results.json\") as f:\n",
    "    dcn = json.load(f)\n",
    "with open(\"../Datos/Procesados/jsons/alphapose/results/coco/fast_pose_duc/A/alphapose-results.json\") as f:\n",
    "    duc = json.load(f)\n",
    "with open(\"../Datos/Procesados/jsons/alphapose/results/coco/hrnet/A/alphapose-results.json\") as f:\n",
    "    hrn = json.load(f)"
   ]
  },
  {
   "cell_type": "markdown",
   "id": "26e0166e-5874-4c6a-94ba-62ef2b469ddb",
   "metadata": {},
   "source": [
    "### H36M\n",
    "\n",
    "Es el formato con el que trabaja MotionBERT.\n",
    "\n",
    "<img src=\"../Datos/Brutos/h36m_human_model.png\" alt=\"h36m\" height=50>"
   ]
  },
  {
   "cell_type": "markdown",
   "id": "726a2d79-d03a-4519-b77a-c6ada3b5c015",
   "metadata": {},
   "source": [
    "### Halpe26\n",
    "\n",
    "https://github.com/Fang-Haoshu/Halpe-FullBody\n",
    "\n",
    "Halpe incluye los keypoints de COCO y los de MPII, junto con alguno extra para los pies (https://github.com/MVIG-SJTU/AlphaPose/issues/655).\n",
    "\n",
    "<img src=\"../Datos/Brutos/halpe26_human_model.png\" alt=\"halpe26\">"
   ]
  },
  {
   "cell_type": "code",
   "execution_count": 3,
   "id": "3c45afb9-3f20-47b2-9098-8c3a3cc8af0e",
   "metadata": {},
   "outputs": [
    {
     "data": {
      "text/plain": [
       "26"
      ]
     },
     "execution_count": 3,
     "metadata": {},
     "output_type": "execute_result"
    }
   ],
   "source": [
    "len(halpe[0][\"keypoints\"])//3"
   ]
  },
  {
   "cell_type": "code",
   "execution_count": 4,
   "id": "21d0a4ff-6e0a-4178-90cc-3d8398b02fca",
   "metadata": {},
   "outputs": [
    {
     "data": {
      "text/plain": [
       "array([[1.60142548e+02, 6.66209030e+01, 9.40821052e-01],\n",
       "       [1.72131332e+02, 5.46321068e+01, 9.22449112e-01],\n",
       "       [1.48153748e+02, 5.46321068e+01, 9.69190300e-01],\n",
       "       [1.86517899e+02, 6.66209030e+01, 9.69874442e-01],\n",
       "       [1.36164948e+02, 6.66209030e+01, 9.30694818e-01],\n",
       "       [2.15291000e+02, 1.33758148e+02, 9.28619981e-01],\n",
       "       [1.07391846e+02, 1.31360397e+02, 9.05811906e-01],\n",
       "       [2.32075317e+02, 2.22475235e+02, 8.70064020e-01],\n",
       "       [8.58120193e+01, 2.17679718e+02, 8.41052532e-01],\n",
       "       [2.34473068e+02, 2.41657303e+02, 6.00588620e-01],\n",
       "       [8.10164948e+01, 2.36861786e+02, 7.42394745e-01],\n",
       "       [1.96108932e+02, 2.34464035e+02, 8.84696305e-01],\n",
       "       [1.24176163e+02, 2.34464035e+02, 8.54306817e-01],\n",
       "       [2.10495483e+02, 2.32066269e+02, 5.96602485e-02],\n",
       "       [9.06075363e+01, 2.22475235e+02, 4.42141891e-02],\n",
       "       [2.32075317e+02, 2.34464035e+02, 2.30451122e-01],\n",
       "       [8.34142609e+01, 2.36861786e+02, 3.90900344e-01],\n",
       "       [1.62540298e+02, 2.34612408e+01, 9.44484591e-01],\n",
       "       [1.62540298e+02, 1.04985046e+02, 9.06328440e-01],\n",
       "       [1.57744781e+02, 2.32066269e+02, 8.06337953e-01],\n",
       "       [2.44064102e+02, 2.32066269e+02, 2.57622246e-02],\n",
       "       [9.54030533e+01, 2.24873001e+02, 1.16802819e-01],\n",
       "       [2.46461868e+02, 2.34464035e+02, 4.88235466e-02],\n",
       "       [7.62209778e+01, 2.32066269e+02, 1.08560227e-01],\n",
       "       [2.34473068e+02, 2.32066269e+02, 2.18837902e-01],\n",
       "       [8.34142609e+01, 2.32066269e+02, 1.56695649e-01]])"
      ]
     },
     "execution_count": 4,
     "metadata": {},
     "output_type": "execute_result"
    }
   ],
   "source": [
    "np.array(halpe[0][\"keypoints\"]).reshape(-1, 3)"
   ]
  },
  {
   "cell_type": "markdown",
   "id": "45b52c0b-4fd3-4f05-a3d5-466ea2b156a7",
   "metadata": {},
   "source": [
    "### COCO\n",
    "\n",
    "https://cocodataset.org/#home\n",
    "\n",
    "Lo forman los primeros 17 puntos de Halpe26.\n",
    "\n",
    "En su página podemos ver el [formato de los resultados](https://cocodataset.org/#format-results), y el [leaderboard](https://cocodataset.org/#keypoints-leaderboard). Esto puede darnos ideas de otros modelos."
   ]
  },
  {
   "cell_type": "code",
   "execution_count": 5,
   "id": "07fc93df-5d0d-4500-a31f-c21ea1cebef3",
   "metadata": {},
   "outputs": [
    {
     "data": {
      "text/plain": [
       "17"
      ]
     },
     "execution_count": 5,
     "metadata": {},
     "output_type": "execute_result"
    }
   ],
   "source": [
    "len(fast[0][\"keypoints\"])//3"
   ]
  },
  {
   "cell_type": "code",
   "execution_count": 6,
   "id": "5a6a6e2e-22ec-4f90-a243-37f97c0f42f8",
   "metadata": {},
   "outputs": [
    {
     "data": {
      "text/plain": [
       "array([[1.60142548e+02, 6.42231445e+01, 9.20787573e-01],\n",
       "       [1.69733582e+02, 5.46321068e+01, 9.31711495e-01],\n",
       "       [1.48153748e+02, 5.70298653e+01, 9.41004872e-01],\n",
       "       [1.84120132e+02, 6.66209030e+01, 9.27379012e-01],\n",
       "       [1.36164948e+02, 6.66209030e+01, 9.21631634e-01],\n",
       "       [2.15291000e+02, 1.33758148e+02, 8.14521194e-01],\n",
       "       [1.07391846e+02, 1.31360397e+02, 8.37819338e-01],\n",
       "       [2.34473068e+02, 2.22475235e+02, 6.96396828e-01],\n",
       "       [8.34142609e+01, 2.20077469e+02, 6.77533805e-01],\n",
       "       [2.39268585e+02, 2.53646103e+02, 5.00597395e-02],\n",
       "       [8.34142609e+01, 2.41657303e+02, 2.40259767e-01],\n",
       "       [1.96108932e+02, 2.36861786e+02, 6.25032127e-01],\n",
       "       [1.21778404e+02, 2.34464035e+02, 7.40641832e-01],\n",
       "       [2.63246185e+02, 2.32066269e+02, 2.63953675e-02],\n",
       "       [1.16982880e+02, 2.32066269e+02, 5.71921282e-02],\n",
       "       [2.08097717e+02, 2.32066269e+02, 5.39671108e-02],\n",
       "       [1.14585121e+02, 2.34464035e+02, 9.19763595e-02]])"
      ]
     },
     "execution_count": 6,
     "metadata": {},
     "output_type": "execute_result"
    }
   ],
   "source": [
    "np.array(fast[0][\"keypoints\"]).reshape(-1, 3)"
   ]
  },
  {
   "cell_type": "markdown",
   "id": "60643680-ad26-4917-88f0-0b1d225c97ad",
   "metadata": {},
   "source": [
    "### MediaPipe\n",
    "\n",
    "<img src=\"../Datos/Brutos/mediapipe_human_model.png\" alt=\"mediapipe\">"
   ]
  },
  {
   "cell_type": "code",
   "execution_count": 7,
   "id": "6892ff2b-e926-444e-b22f-a1ebfe585afd",
   "metadata": {},
   "outputs": [],
   "source": [
    "with open(\"../Datos/Procesados/alphabet_landmarks_spread.pkl\", \"rb\") as f:\n",
    "    total_results = load(f)"
   ]
  },
  {
   "cell_type": "code",
   "execution_count": 8,
   "id": "5828f605-a22d-4f46-b9a8-c9ad64c7ccf2",
   "metadata": {},
   "outputs": [
    {
     "data": {
      "text/plain": [
       "array([[159.74927902,  66.08415127],\n",
       "       [171.50686264,  55.33866405],\n",
       "       [148.49415779,  56.70669079],\n",
       "       [181.88135147,  60.79421997],\n",
       "       [140.27519226,  63.45798969],\n",
       "       [217.37522125, 133.05288792],\n",
       "       [108.95656586, 131.44539356],\n",
       "       [231.54380798, 215.2667141 ],\n",
       "       [ 88.30951691, 213.66783142],\n",
       "       [233.57028961, 276.8651104 ],\n",
       "       [ 81.88580513, 277.82984734],\n",
       "       [197.80220032, 283.46451759],\n",
       "       [121.49507523, 283.45759392],\n",
       "       [195.34856796, 396.49291992],\n",
       "       [123.89260292, 393.51350784],\n",
       "       [192.20159531, 497.2111702 ],\n",
       "       [119.33254242, 497.21609116]])"
      ]
     },
     "execution_count": 8,
     "metadata": {},
     "output_type": "execute_result"
    }
   ],
   "source": [
    "w, h = total_results[\"A\"]['frame_width'], total_results[\"A\"]['frame_height']\n",
    "total_results[\"A\"]['landmarks']['pose'][0][[0, 2, 5, 7, 8, 11, 12, 13, 14, 15, 16, 23, 24, 25, 26, 27, 28],:2] * np.array([w, h])"
   ]
  },
  {
   "cell_type": "code",
   "execution_count": 9,
   "id": "f0ff3485-a790-4ed9-b957-754921b12583",
   "metadata": {},
   "outputs": [
    {
     "data": {
      "text/plain": [
       "320"
      ]
     },
     "execution_count": 9,
     "metadata": {},
     "output_type": "execute_result"
    }
   ],
   "source": [
    "w"
   ]
  },
  {
   "cell_type": "code",
   "execution_count": 10,
   "id": "36fae6cd-689f-41ae-a052-9430554d7f56",
   "metadata": {},
   "outputs": [
    {
     "data": {
      "text/plain": [
       "240"
      ]
     },
     "execution_count": 10,
     "metadata": {},
     "output_type": "execute_result"
    }
   ],
   "source": [
    "h"
   ]
  },
  {
   "cell_type": "code",
   "execution_count": 11,
   "id": "05b19b63-397a-4181-b8df-47b042e48828",
   "metadata": {},
   "outputs": [],
   "source": [
    "def coco2halpe(coco_results_path, base_results_path, output_path):\n",
    "    with open(coco_results_path, 'r') as f:\n",
    "        coco = json.load(f)\n",
    "    with open(base_results_path, 'r') as f:\n",
    "        base = json.load(f)\n",
    "\n",
    "    for coco_json, base_json in zip(coco, base):\n",
    "        coco_json[\"keypoints\"].extend(base_json[\"keypoints\"][51:60])\n",
    "\n",
    "    with open(output_path, 'w') as f:\n",
    "        json.dump(coco, f)"
   ]
  },
  {
   "cell_type": "code",
   "execution_count": 14,
   "id": "94a787ab-c2ee-4e52-ac18-0c799198fabb",
   "metadata": {},
   "outputs": [],
   "source": [
    "with open(\"../Datos/Procesados/jsons/alphapose/coco/fast_pose/A/alphapose-results.json\") as f:\n",
    "    fast = json.load(f)"
   ]
  },
  {
   "cell_type": "code",
   "execution_count": 15,
   "id": "7755761f-f25d-4b49-80dd-7f6bb1b1aafb",
   "metadata": {},
   "outputs": [
    {
     "data": {
      "text/plain": [
       "20"
      ]
     },
     "execution_count": 15,
     "metadata": {},
     "output_type": "execute_result"
    }
   ],
   "source": [
    "len(fast[0][\"keypoints\"])//3"
   ]
  },
  {
   "cell_type": "code",
   "execution_count": 16,
   "id": "9514e42d-d7f1-4765-a258-7f167a7a861e",
   "metadata": {},
   "outputs": [
    {
     "data": {
      "text/plain": [
       "array([[1.60142548e+02, 6.42231445e+01, 9.20787573e-01],\n",
       "       [1.69733582e+02, 5.46321068e+01, 9.31711495e-01],\n",
       "       [1.48153748e+02, 5.70298653e+01, 9.41004872e-01],\n",
       "       [1.84120132e+02, 6.66209030e+01, 9.27379012e-01],\n",
       "       [1.36164948e+02, 6.66209030e+01, 9.21631634e-01],\n",
       "       [2.15291000e+02, 1.33758148e+02, 8.14521194e-01],\n",
       "       [1.07391846e+02, 1.31360397e+02, 8.37819338e-01],\n",
       "       [2.34473068e+02, 2.22475235e+02, 6.96396828e-01],\n",
       "       [8.34142609e+01, 2.20077469e+02, 6.77533805e-01],\n",
       "       [2.39268585e+02, 2.53646103e+02, 5.00597395e-02],\n",
       "       [8.34142609e+01, 2.41657303e+02, 2.40259767e-01],\n",
       "       [1.96108932e+02, 2.36861786e+02, 6.25032127e-01],\n",
       "       [1.21778404e+02, 2.34464035e+02, 7.40641832e-01],\n",
       "       [2.63246185e+02, 2.32066269e+02, 2.63953675e-02],\n",
       "       [1.16982880e+02, 2.32066269e+02, 5.71921282e-02],\n",
       "       [2.08097717e+02, 2.32066269e+02, 5.39671108e-02],\n",
       "       [1.14585121e+02, 2.34464035e+02, 9.19763595e-02],\n",
       "       [1.62540298e+02, 2.34612408e+01, 9.44484591e-01],\n",
       "       [1.62540298e+02, 1.04985046e+02, 9.06328440e-01],\n",
       "       [1.57744781e+02, 2.32066269e+02, 8.06337953e-01]])"
      ]
     },
     "execution_count": 16,
     "metadata": {},
     "output_type": "execute_result"
    }
   ],
   "source": [
    "np.array(fast[0][\"keypoints\"]).reshape(-1, 3)"
   ]
  }
 ],
 "metadata": {
  "kernelspec": {
   "display_name": "Python 3 (ipykernel)",
   "language": "python",
   "name": "python3"
  },
  "language_info": {
   "codemirror_mode": {
    "name": "ipython",
    "version": 3
   },
   "file_extension": ".py",
   "mimetype": "text/x-python",
   "name": "python",
   "nbconvert_exporter": "python",
   "pygments_lexer": "ipython3",
   "version": "3.11.10"
  }
 },
 "nbformat": 4,
 "nbformat_minor": 5
}
