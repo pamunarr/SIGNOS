{
 "cells": [
  {
   "cell_type": "code",
   "execution_count": 1,
   "id": "37a6e1d8-bf83-4bd0-9dfe-e9e3f7d4e316",
   "metadata": {},
   "outputs": [],
   "source": [
    "import json\n",
    "import numpy as np\n",
    "from pickle import load"
   ]
  },
  {
   "cell_type": "code",
   "execution_count": 2,
   "id": "182f8bec-5f99-40ea-b214-061cd47bc459",
   "metadata": {},
   "outputs": [],
   "source": [
    "with open(\"../Datos/Procesados/jsons/alphapose/halpe26/A/alphapose-results.json\", 'r') as f:\n",
    "    halpe2d_json = json.load(f)\n",
    "\n",
    "with open(\"../Datos/Procesados/results_3d/alphapose/halpe26/A/X3D.npy\", 'rb') as f:\n",
    "    halpe3d = np.load(f)\n",
    "\n",
    "with open(\"../Datos/Procesados/results_3d/alphapose/halpe26/pixel/A/X3D.npy\", 'rb') as f:\n",
    "    halpe3d_pixel = np.load(f)"
   ]
  },
  {
   "cell_type": "code",
   "execution_count": 3,
   "id": "7ac294b7-f337-4e84-a43f-f132c210cfd0",
   "metadata": {},
   "outputs": [],
   "source": [
    "halpe2d = np.empty(halpe3d.shape, dtype=np.float32)\n",
    "for i, frame in enumerate(halpe2d_json):\n",
    "    halpe2d[i] = np.array(frame['keypoints']).reshape(-1, 3)[[19, 12, 14, 16, 11, 13, 15, 18, 18, 0, 17, 5, 7, 9, 6, 8, 10]]\n",
    "    halpe2d[i, 7] += halpe2d[i, 0]\n",
    "    halpe2d[i, 7] /= 2"
   ]
  },
  {
   "cell_type": "code",
   "execution_count": 4,
   "id": "35e3741c-d94b-409c-8f92-8b4d5cf4cec1",
   "metadata": {},
   "outputs": [
    {
     "data": {
      "text/plain": [
       "array([[1.57744781e+02, 2.32066269e+02, 8.06337953e-01],\n",
       "       [1.24176163e+02, 2.34464035e+02, 8.54306817e-01],\n",
       "       [9.06075363e+01, 2.22475235e+02, 4.42141891e-02],\n",
       "       [8.34142609e+01, 2.36861786e+02, 3.90900344e-01],\n",
       "       [1.96108932e+02, 2.34464035e+02, 8.84696305e-01],\n",
       "       [2.10495483e+02, 2.32066269e+02, 5.96602485e-02],\n",
       "       [2.32075317e+02, 2.34464035e+02, 2.30451122e-01],\n",
       "       [1.60142548e+02, 1.68525665e+02, 8.56333196e-01],\n",
       "       [1.62540298e+02, 1.04985046e+02, 9.06328440e-01],\n",
       "       [1.60142548e+02, 6.66209030e+01, 9.40821052e-01],\n",
       "       [1.62540298e+02, 2.34612408e+01, 9.44484591e-01],\n",
       "       [2.15291000e+02, 1.33758148e+02, 9.28619981e-01],\n",
       "       [2.32075317e+02, 2.22475235e+02, 8.70064020e-01],\n",
       "       [2.34473068e+02, 2.41657303e+02, 6.00588620e-01],\n",
       "       [1.07391846e+02, 1.31360397e+02, 9.05811906e-01],\n",
       "       [8.58120193e+01, 2.17679718e+02, 8.41052532e-01],\n",
       "       [8.10164948e+01, 2.36861786e+02, 7.42394745e-01]], dtype=float32)"
      ]
     },
     "execution_count": 4,
     "metadata": {},
     "output_type": "execute_result"
    }
   ],
   "source": [
    "halpe2d[0]"
   ]
  },
  {
   "cell_type": "code",
   "execution_count": 5,
   "id": "f0812112-4545-4620-a826-2646e7980550",
   "metadata": {},
   "outputs": [],
   "source": [
    "def crop_scale(motion):\n",
    "    '''\n",
    "        Motion: [(M), T, 17, 3].\n",
    "        Normalize to [-1, 1]\n",
    "    '''\n",
    "    result = motion.copy()\n",
    "    valid_coords = motion[motion[..., 2]!=0][:,:2]\n",
    "    if len(valid_coords) < 4:\n",
    "        return np.zeros(motion.shape)\n",
    "    xmin = min(valid_coords[:,0])\n",
    "    xmax = max(valid_coords[:,0])\n",
    "    ymin = min(valid_coords[:,1])\n",
    "    ymax = max(valid_coords[:,1])\n",
    "    scale = max(xmax-xmin, ymax-ymin)\n",
    "    if scale==0:\n",
    "        return np.zeros(motion.shape)\n",
    "    xs = (xmin+xmax-scale) / 2\n",
    "    ys = (ymin+ymax-scale) / 2\n",
    "    result[...,:2] = (motion[..., :2]- [xs,ys]) / scale\n",
    "    result[...,:2] = (result[..., :2] - 0.5) * 2\n",
    "    result = np.clip(result, -1, 1)\n",
    "    return result"
   ]
  },
  {
   "cell_type": "code",
   "execution_count": 6,
   "id": "db9741ea-4f7e-4829-86a6-a0d2e70d6f83",
   "metadata": {},
   "outputs": [],
   "source": [
    "halpe2d_cropped = crop_scale(halpe2d)"
   ]
  },
  {
   "cell_type": "code",
   "execution_count": 7,
   "id": "abb35cf8-a2dc-453f-9ea2-6765d8902893",
   "metadata": {},
   "outputs": [
    {
     "data": {
      "text/plain": [
       "array([[ 0.05128634,  0.88905966,  0.80633795],\n",
       "       [-0.24935138,  0.9105338 ,  0.8543068 ],\n",
       "       [-0.54998916,  0.8031632 ,  0.04421419],\n",
       "       [-0.61441153,  0.9320079 ,  0.39090034],\n",
       "       [ 0.39487243,  0.9105338 ,  0.8846963 ],\n",
       "       [ 0.52371716,  0.88905966,  0.05966025],\n",
       "       [ 0.7169844 ,  0.9105338 ,  0.23045112],\n",
       "       [ 0.07276058,  0.3199954 ,  0.8563332 ],\n",
       "       [ 0.09423459, -0.24906904,  0.90632844],\n",
       "       [ 0.07276058, -0.59265506,  0.94082105],\n",
       "       [ 0.09423459, -0.97918934,  0.9444846 ],\n",
       "       [ 0.5666654 ,  0.00862038,  0.92862   ],\n",
       "       [ 0.7169844 ,  0.8031632 ,  0.870064  ],\n",
       "       [ 0.7384584 ,  0.97495615,  0.6005886 ],\n",
       "       [-0.3996703 , -0.01285362,  0.9058119 ],\n",
       "       [-0.5929374 ,  0.7602149 ,  0.84105253],\n",
       "       [-0.6358857 ,  0.9320079 ,  0.74239475]], dtype=float32)"
      ]
     },
     "execution_count": 7,
     "metadata": {},
     "output_type": "execute_result"
    }
   ],
   "source": [
    "halpe2d_cropped[0]"
   ]
  },
  {
   "cell_type": "code",
   "execution_count": 8,
   "id": "cff26311-1469-4935-b191-9fd6cb00461b",
   "metadata": {},
   "outputs": [
    {
     "data": {
      "text/plain": [
       "array([[ 0.05963758,  0.81864667,  0.        ],\n",
       "       [-0.22766   ,  0.8538568 , -0.10139433],\n",
       "       [-0.40781373,  0.8801993 ,  0.08761312],\n",
       "       [-0.60675204,  0.93252546,  0.15098938],\n",
       "       [ 0.36222288,  0.8560615 , -0.09791792],\n",
       "       [ 0.48674995,  0.8788916 ,  0.08312117],\n",
       "       [ 0.7023212 ,  0.8924159 ,  0.1405103 ],\n",
       "       [ 0.06676464,  0.2791608 , -0.08381096],\n",
       "       [ 0.08456329, -0.3007299 , -0.12423027],\n",
       "       [ 0.0765342 , -0.7174183 , -0.18995234],\n",
       "       [ 0.09490815, -1.0854301 , -0.24534321],\n",
       "       [ 0.58920085, -0.0544281 , -0.14289953],\n",
       "       [ 0.67426986,  0.7433876 , -0.14334205],\n",
       "       [ 0.68755054,  0.9096542 , -0.14362559],\n",
       "       [-0.41725737, -0.07791302, -0.11904974],\n",
       "       [-0.56929004,  0.7174626 , -0.1530468 ],\n",
       "       [-0.5705734 ,  0.85539937, -0.16806018]], dtype=float32)"
      ]
     },
     "execution_count": 8,
     "metadata": {},
     "output_type": "execute_result"
    }
   ],
   "source": [
    "halpe3d[0]"
   ]
  },
  {
   "cell_type": "code",
   "execution_count": 9,
   "id": "56bf9be3-1f4b-41d6-aef7-853139ff29ad",
   "metadata": {
    "scrolled": true
   },
   "outputs": [
    {
     "data": {
      "text/plain": [
       "array([[[0.00835124, 0.07041299, 0.80633795],\n",
       "        [0.02169138, 0.05667698, 0.8543068 ],\n",
       "        [0.14217544, 0.07703614, 0.04421419],\n",
       "        ...,\n",
       "        [0.01758707, 0.06505939, 0.9058119 ],\n",
       "        [0.02364737, 0.04275233, 0.84105253],\n",
       "        [0.06531233, 0.07660854, 0.74239475]],\n",
       "\n",
       "       [[0.00584872, 0.06739736, 0.7924953 ],\n",
       "        [0.01792578, 0.05406559, 0.8782067 ],\n",
       "        [0.11777759, 0.020693  , 0.04519282],\n",
       "        ...,\n",
       "        [0.00262272, 0.06472878, 0.91245216],\n",
       "        [0.02971488, 0.04258567, 0.85089475],\n",
       "        [0.06160522, 0.09335786, 0.7347622 ]],\n",
       "\n",
       "       [[0.00620822, 0.07118404, 0.7904289 ],\n",
       "        [0.019099  , 0.05864853, 0.8707534 ],\n",
       "        [0.10049736, 0.01973134, 0.04470025],\n",
       "        ...,\n",
       "        [0.00162932, 0.06533977, 0.9127468 ],\n",
       "        [0.0241518 , 0.04955232, 0.8418302 ],\n",
       "        [0.06519884, 0.09959304, 0.73961633]],\n",
       "\n",
       "       ...,\n",
       "\n",
       "       [[0.0071346 , 0.0638262 , 0.80426824],\n",
       "        [0.01660837, 0.03722906, 0.8632943 ],\n",
       "        [0.11758816, 0.08811271, 0.07322999],\n",
       "        ...,\n",
       "        [0.00929773, 0.05516413, 0.89644545],\n",
       "        [0.02606624, 0.04360855, 0.84228957],\n",
       "        [0.05064911, 0.08188558, 0.747013  ]],\n",
       "\n",
       "       [[0.00418256, 0.06578332, 0.80970436],\n",
       "        [0.03493604, 0.03947556, 0.86310935],\n",
       "        [0.1157732 , 0.08492649, 0.07829021],\n",
       "        ...,\n",
       "        [0.01089618, 0.05537979, 0.895623  ],\n",
       "        [0.02670294, 0.04541624, 0.8425517 ],\n",
       "        [0.04932886, 0.08328611, 0.7490126 ]],\n",
       "\n",
       "       [[0.00542516, 0.08314502, 0.80227536],\n",
       "        [0.03525406, 0.03838551, 0.86491793],\n",
       "        [0.1152471 , 0.08586824, 0.07250699],\n",
       "        ...,\n",
       "        [0.0107463 , 0.05589057, 0.8974693 ],\n",
       "        [0.02751791, 0.04462636, 0.83851004],\n",
       "        [0.04893231, 0.08234239, 0.7603207 ]]], dtype=float32)"
      ]
     },
     "execution_count": 9,
     "metadata": {},
     "output_type": "execute_result"
    }
   ],
   "source": [
    "dif = halpe2d_cropped.copy()\n",
    "dif[..., :2] -= halpe3d[..., :2]\n",
    "np.abs(dif, out=dif)"
   ]
  },
  {
   "cell_type": "code",
   "execution_count": 10,
   "id": "f67316f6-75df-48a3-b95c-bb34cc2a6405",
   "metadata": {},
   "outputs": [],
   "source": [
    "import pandas as pd\n",
    "import seaborn as sns"
   ]
  },
  {
   "cell_type": "code",
   "execution_count": 11,
   "id": "b3b5bbca-2697-40ad-ae79-7215ef09325f",
   "metadata": {},
   "outputs": [
    {
     "data": {
      "text/html": [
       "<div>\n",
       "<style scoped>\n",
       "    .dataframe tbody tr th:only-of-type {\n",
       "        vertical-align: middle;\n",
       "    }\n",
       "\n",
       "    .dataframe tbody tr th {\n",
       "        vertical-align: top;\n",
       "    }\n",
       "\n",
       "    .dataframe thead th {\n",
       "        text-align: right;\n",
       "    }\n",
       "</style>\n",
       "<table border=\"1\" class=\"dataframe\">\n",
       "  <thead>\n",
       "    <tr style=\"text-align: right;\">\n",
       "      <th></th>\n",
       "      <th>x</th>\n",
       "      <th>y</th>\n",
       "      <th>p</th>\n",
       "    </tr>\n",
       "  </thead>\n",
       "  <tbody>\n",
       "    <tr>\n",
       "      <th>0</th>\n",
       "      <td>0.008351</td>\n",
       "      <td>0.070413</td>\n",
       "      <td>0.806338</td>\n",
       "    </tr>\n",
       "    <tr>\n",
       "      <th>1</th>\n",
       "      <td>0.021691</td>\n",
       "      <td>0.056677</td>\n",
       "      <td>0.854307</td>\n",
       "    </tr>\n",
       "    <tr>\n",
       "      <th>2</th>\n",
       "      <td>0.142175</td>\n",
       "      <td>0.077036</td>\n",
       "      <td>0.044214</td>\n",
       "    </tr>\n",
       "    <tr>\n",
       "      <th>3</th>\n",
       "      <td>0.007659</td>\n",
       "      <td>0.000518</td>\n",
       "      <td>0.390900</td>\n",
       "    </tr>\n",
       "    <tr>\n",
       "      <th>4</th>\n",
       "      <td>0.032650</td>\n",
       "      <td>0.054472</td>\n",
       "      <td>0.884696</td>\n",
       "    </tr>\n",
       "  </tbody>\n",
       "</table>\n",
       "</div>"
      ],
      "text/plain": [
       "          x         y         p\n",
       "0  0.008351  0.070413  0.806338\n",
       "1  0.021691  0.056677  0.854307\n",
       "2  0.142175  0.077036  0.044214\n",
       "3  0.007659  0.000518  0.390900\n",
       "4  0.032650  0.054472  0.884696"
      ]
     },
     "execution_count": 11,
     "metadata": {},
     "output_type": "execute_result"
    }
   ],
   "source": [
    "df = pd.DataFrame(dif.reshape(-1, 3), columns=['x', 'y', 'p'], dtype=np.float32)\n",
    "df.head()"
   ]
  },
  {
   "cell_type": "code",
   "execution_count": 12,
   "id": "f7b7e6fb-939e-4e25-b962-c76052ad97fc",
   "metadata": {},
   "outputs": [
    {
     "data": {
      "text/plain": [
       "<Axes: xlabel='p', ylabel='x'>"
      ]
     },
     "execution_count": 12,
     "metadata": {},
     "output_type": "execute_result"
    },
    {
     "data": {
      "image/png": "[encoded data removed]",
      "text/plain": [
       "<Figure size 640x480 with 1 Axes>"
      ]
     },
     "metadata": {},
     "output_type": "display_data"
    }
   ],
   "source": [
    "sns.histplot(df, x='p', y='x')"
   ]
  },
  {
   "cell_type": "code",
   "execution_count": 13,
   "id": "7f5dacb7-1cd1-457f-8745-e3d5737ddd74",
   "metadata": {},
   "outputs": [
    {
     "data": {
      "text/plain": [
       "<Axes: xlabel='p', ylabel='y'>"
      ]
     },
     "execution_count": 13,
     "metadata": {},
     "output_type": "execute_result"
    },
    {
     "data": {
      "image/png": "[encoded data removed]",
      "text/plain": [
       "<Figure size 640x480 with 1 Axes>"
      ]
     },
     "metadata": {},
     "output_type": "display_data"
    }
   ],
   "source": [
    "sns.histplot(df, x='p', y='y')"
   ]
  },
  {
   "cell_type": "code",
   "execution_count": 16,
   "id": "32e9f842-4ac5-4191-b68f-3b240f96b02e",
   "metadata": {},
   "outputs": [
    {
     "data": {
      "text/plain": [
       "array([[1.57744781e+02, 2.32066269e+02, 8.06337953e-01],\n",
       "       [1.24176163e+02, 2.34464035e+02, 8.54306817e-01],\n",
       "       [9.06075363e+01, 2.22475235e+02, 4.42141891e-02],\n",
       "       [8.34142609e+01, 2.36861786e+02, 3.90900344e-01],\n",
       "       [1.96108932e+02, 2.34464035e+02, 8.84696305e-01],\n",
       "       [2.10495483e+02, 2.32066269e+02, 5.96602485e-02],\n",
       "       [2.32075317e+02, 2.34464035e+02, 2.30451122e-01],\n",
       "       [1.60142548e+02, 1.68525665e+02, 8.56333196e-01],\n",
       "       [1.62540298e+02, 1.04985046e+02, 9.06328440e-01],\n",
       "       [1.60142548e+02, 6.66209030e+01, 9.40821052e-01],\n",
       "       [1.62540298e+02, 2.34612408e+01, 9.44484591e-01],\n",
       "       [2.15291000e+02, 1.33758148e+02, 9.28619981e-01],\n",
       "       [2.32075317e+02, 2.22475235e+02, 8.70064020e-01],\n",
       "       [2.34473068e+02, 2.41657303e+02, 6.00588620e-01],\n",
       "       [1.07391846e+02, 1.31360397e+02, 9.05811906e-01],\n",
       "       [8.58120193e+01, 2.17679718e+02, 8.41052532e-01],\n",
       "       [8.10164948e+01, 2.36861786e+02, 7.42394745e-01]], dtype=float32)"
      ]
     },
     "execution_count": 16,
     "metadata": {},
     "output_type": "execute_result"
    }
   ],
   "source": [
    "halpe2d[0]"
   ]
  },
  {
   "cell_type": "code",
   "execution_count": 15,
   "id": "b99cee12-91bb-461c-a1ab-51ecc9c2b10c",
   "metadata": {},
   "outputs": [
    {
     "data": {
      "text/plain": [
       "array([[159.09488  , 222.26163  ,   0.       ],\n",
       "       [127.120285 , 226.48367  , -12.051981 ],\n",
       "       [107.145996 , 229.89948  ,   7.7318897],\n",
       "       [ 85.232056 , 235.82056  ,  15.768174 ],\n",
       "       [192.49483  , 226.80605  , -11.988323 ],\n",
       "       [206.44746  , 231.15121  ,   8.829811 ],\n",
       "       [231.15445  , 233.13872  ,  16.590103 ],\n",
       "       [159.83032  , 163.86974  , -12.127426 ],\n",
       "       [161.1702   ,  99.49866  , -13.714111 ],\n",
       "       [159.7708   ,  54.620537 , -20.11952  ],\n",
       "       [162.07425  ,   9.183472 , -27.18663  ],\n",
       "       [216.49902  , 126.253746 , -15.80275  ],\n",
       "       [227.0812   , 214.04749  , -17.784462 ],\n",
       "       [229.1272   , 233.28055  , -18.867094 ],\n",
       "       [105.610306 , 123.5724   , -15.007603 ],\n",
       "       [ 89.15443  , 210.89737  , -19.004728 ],\n",
       "       [ 89.37302  , 225.8185   , -21.98522  ]], dtype=float32)"
      ]
     },
     "execution_count": 15,
     "metadata": {},
     "output_type": "execute_result"
    }
   ],
   "source": [
    "halpe3d_pixel[0]"
   ]
  }
 ],
 "metadata": {
  "kernelspec": {
   "display_name": "Python 3 (ipykernel)",
   "language": "python",
   "name": "python3"
  },
  "language_info": {
   "codemirror_mode": {
    "name": "ipython",
    "version": 3
   },
   "file_extension": ".py",
   "mimetype": "text/x-python",
   "name": "python",
   "nbconvert_exporter": "python",
   "pygments_lexer": "ipython3",
   "version": "3.11.10"
  }
 },
 "nbformat": 4,
 "nbformat_minor": 5
}
